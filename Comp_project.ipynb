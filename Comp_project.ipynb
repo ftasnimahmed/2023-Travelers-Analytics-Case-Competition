{
 "cells": [
  {
   "cell_type": "code",
   "execution_count": 75,
   "id": "2e152108-89c3-4a6d-a78d-f9da492dd804",
   "metadata": {
    "tags": []
   },
   "outputs": [],
   "source": [
    "import numpy as np\n",
    "import pandas as pd\n",
    "import seaborn as sns\n",
    "import matplotlib.pyplot as plt\n",
    "from scipy import stats\n",
    "from sklearn.preprocessing import StandardScaler as scaler\n",
    "from sklearn.preprocessing import MinMaxScaler\n",
    "from sklearn.preprocessing import LabelEncoder, OrdinalEncoder\n",
    "import lightgbm as lgb\n",
    "from sklearn.model_selection import train_test_split\n",
    "from sklearn.model_selection import KFold\n"
   ]
  },
  {
   "cell_type": "code",
   "execution_count": 76,
   "id": "a3b458df-baac-4cc4-95ee-7e5abd3ec7c9",
   "metadata": {
    "tags": []
   },
   "outputs": [],
   "source": [
    "df_train = pd.read_csv(\"InsNova_data_2023_train.csv\")"
   ]
  },
  {
   "cell_type": "code",
   "execution_count": 77,
   "id": "2bae0604-dacc-4b43-920d-b186dc826cf5",
   "metadata": {
    "tags": []
   },
   "outputs": [
    {
     "data": {
      "text/plain": [
       "(22619, 22)"
      ]
     },
     "execution_count": 77,
     "metadata": {},
     "output_type": "execute_result"
    }
   ],
   "source": [
    "df_train.shape"
   ]
  },
  {
   "cell_type": "code",
   "execution_count": 78,
   "id": "8d984f59-484d-451f-bc88-aebaa22c7f23",
   "metadata": {
    "tags": []
   },
   "outputs": [
    {
     "data": {
      "text/html": [
       "<div>\n",
       "<style scoped>\n",
       "    .dataframe tbody tr th:only-of-type {\n",
       "        vertical-align: middle;\n",
       "    }\n",
       "\n",
       "    .dataframe tbody tr th {\n",
       "        vertical-align: top;\n",
       "    }\n",
       "\n",
       "    .dataframe thead th {\n",
       "        text-align: right;\n",
       "    }\n",
       "</style>\n",
       "<table border=\"1\" class=\"dataframe\">\n",
       "  <thead>\n",
       "    <tr style=\"text-align: right;\">\n",
       "      <th></th>\n",
       "      <th>id</th>\n",
       "      <th>veh_value</th>\n",
       "      <th>exposure</th>\n",
       "      <th>veh_body</th>\n",
       "      <th>veh_age</th>\n",
       "      <th>gender</th>\n",
       "      <th>area</th>\n",
       "      <th>agecat</th>\n",
       "      <th>engine_type</th>\n",
       "      <th>max_power</th>\n",
       "      <th>driving_history_score</th>\n",
       "      <th>veh_color</th>\n",
       "      <th>marital_status</th>\n",
       "      <th>e_bill</th>\n",
       "      <th>time_of_week_driven</th>\n",
       "      <th>time_driven</th>\n",
       "      <th>trm_len</th>\n",
       "      <th>credit_score</th>\n",
       "      <th>high_education_ind</th>\n",
       "      <th>clm</th>\n",
       "      <th>numclaims</th>\n",
       "      <th>claimcst0</th>\n",
       "    </tr>\n",
       "  </thead>\n",
       "  <tbody>\n",
       "    <tr>\n",
       "      <th>0</th>\n",
       "      <td>1</td>\n",
       "      <td>0.77</td>\n",
       "      <td>0.444504</td>\n",
       "      <td>SEDAN</td>\n",
       "      <td>4</td>\n",
       "      <td>M</td>\n",
       "      <td>D</td>\n",
       "      <td>3</td>\n",
       "      <td>petrol</td>\n",
       "      <td>147</td>\n",
       "      <td>67.0</td>\n",
       "      <td>black</td>\n",
       "      <td>S</td>\n",
       "      <td>1</td>\n",
       "      <td>weekday</td>\n",
       "      <td>6pm - 12am</td>\n",
       "      <td>6</td>\n",
       "      <td>640.448137</td>\n",
       "      <td>1.0</td>\n",
       "      <td>0</td>\n",
       "      <td>0</td>\n",
       "      <td>0.000000</td>\n",
       "    </tr>\n",
       "    <tr>\n",
       "      <th>1</th>\n",
       "      <td>2</td>\n",
       "      <td>4.45</td>\n",
       "      <td>0.562183</td>\n",
       "      <td>STNWG</td>\n",
       "      <td>1</td>\n",
       "      <td>M</td>\n",
       "      <td>A</td>\n",
       "      <td>3</td>\n",
       "      <td>petrol</td>\n",
       "      <td>158</td>\n",
       "      <td>76.0</td>\n",
       "      <td>white</td>\n",
       "      <td>S</td>\n",
       "      <td>1</td>\n",
       "      <td>weekday</td>\n",
       "      <td>6am - 12pm</td>\n",
       "      <td>12</td>\n",
       "      <td>683.749691</td>\n",
       "      <td>0.0</td>\n",
       "      <td>0</td>\n",
       "      <td>0</td>\n",
       "      <td>0.000000</td>\n",
       "    </tr>\n",
       "    <tr>\n",
       "      <th>2</th>\n",
       "      <td>3</td>\n",
       "      <td>4.90</td>\n",
       "      <td>0.465244</td>\n",
       "      <td>STNWG</td>\n",
       "      <td>1</td>\n",
       "      <td>F</td>\n",
       "      <td>A</td>\n",
       "      <td>3</td>\n",
       "      <td>petrol</td>\n",
       "      <td>159</td>\n",
       "      <td>58.0</td>\n",
       "      <td>black</td>\n",
       "      <td>M</td>\n",
       "      <td>1</td>\n",
       "      <td>weekday</td>\n",
       "      <td>6pm - 12am</td>\n",
       "      <td>6</td>\n",
       "      <td>653.656117</td>\n",
       "      <td>1.0</td>\n",
       "      <td>0</td>\n",
       "      <td>0</td>\n",
       "      <td>0.000000</td>\n",
       "    </tr>\n",
       "    <tr>\n",
       "      <th>3</th>\n",
       "      <td>4</td>\n",
       "      <td>0.48</td>\n",
       "      <td>0.271039</td>\n",
       "      <td>PANVN</td>\n",
       "      <td>4</td>\n",
       "      <td>M</td>\n",
       "      <td>A</td>\n",
       "      <td>4</td>\n",
       "      <td>petrol</td>\n",
       "      <td>80</td>\n",
       "      <td>72.0</td>\n",
       "      <td>white</td>\n",
       "      <td>S</td>\n",
       "      <td>1</td>\n",
       "      <td>weekday</td>\n",
       "      <td>12pm - 6pm</td>\n",
       "      <td>12</td>\n",
       "      <td>642.574671</td>\n",
       "      <td>0.0</td>\n",
       "      <td>0</td>\n",
       "      <td>0</td>\n",
       "      <td>0.000000</td>\n",
       "    </tr>\n",
       "    <tr>\n",
       "      <th>4</th>\n",
       "      <td>5</td>\n",
       "      <td>0.85</td>\n",
       "      <td>0.141624</td>\n",
       "      <td>SEDAN</td>\n",
       "      <td>4</td>\n",
       "      <td>F</td>\n",
       "      <td>A</td>\n",
       "      <td>5</td>\n",
       "      <td>petrol</td>\n",
       "      <td>126</td>\n",
       "      <td>91.0</td>\n",
       "      <td>white</td>\n",
       "      <td>S</td>\n",
       "      <td>0</td>\n",
       "      <td>weekday</td>\n",
       "      <td>6am - 12pm</td>\n",
       "      <td>6</td>\n",
       "      <td>647.175035</td>\n",
       "      <td>0.0</td>\n",
       "      <td>0</td>\n",
       "      <td>0</td>\n",
       "      <td>0.000000</td>\n",
       "    </tr>\n",
       "    <tr>\n",
       "      <th>...</th>\n",
       "      <td>...</td>\n",
       "      <td>...</td>\n",
       "      <td>...</td>\n",
       "      <td>...</td>\n",
       "      <td>...</td>\n",
       "      <td>...</td>\n",
       "      <td>...</td>\n",
       "      <td>...</td>\n",
       "      <td>...</td>\n",
       "      <td>...</td>\n",
       "      <td>...</td>\n",
       "      <td>...</td>\n",
       "      <td>...</td>\n",
       "      <td>...</td>\n",
       "      <td>...</td>\n",
       "      <td>...</td>\n",
       "      <td>...</td>\n",
       "      <td>...</td>\n",
       "      <td>...</td>\n",
       "      <td>...</td>\n",
       "      <td>...</td>\n",
       "      <td>...</td>\n",
       "    </tr>\n",
       "    <tr>\n",
       "      <th>22614</th>\n",
       "      <td>22615</td>\n",
       "      <td>3.71</td>\n",
       "      <td>0.580943</td>\n",
       "      <td>STNWG</td>\n",
       "      <td>2</td>\n",
       "      <td>F</td>\n",
       "      <td>B</td>\n",
       "      <td>2</td>\n",
       "      <td>petrol</td>\n",
       "      <td>154</td>\n",
       "      <td>92.0</td>\n",
       "      <td>gray</td>\n",
       "      <td>M</td>\n",
       "      <td>1</td>\n",
       "      <td>weekday</td>\n",
       "      <td>6pm - 12am</td>\n",
       "      <td>12</td>\n",
       "      <td>654.451512</td>\n",
       "      <td>0.0</td>\n",
       "      <td>1</td>\n",
       "      <td>1</td>\n",
       "      <td>280.403348</td>\n",
       "    </tr>\n",
       "    <tr>\n",
       "      <th>22615</th>\n",
       "      <td>22616</td>\n",
       "      <td>0.77</td>\n",
       "      <td>0.636641</td>\n",
       "      <td>SEDAN</td>\n",
       "      <td>4</td>\n",
       "      <td>F</td>\n",
       "      <td>C</td>\n",
       "      <td>6</td>\n",
       "      <td>petrol</td>\n",
       "      <td>160</td>\n",
       "      <td>74.0</td>\n",
       "      <td>white</td>\n",
       "      <td>M</td>\n",
       "      <td>1</td>\n",
       "      <td>weekday</td>\n",
       "      <td>12pm - 6pm</td>\n",
       "      <td>12</td>\n",
       "      <td>641.163999</td>\n",
       "      <td>0.0</td>\n",
       "      <td>0</td>\n",
       "      <td>0</td>\n",
       "      <td>0.000000</td>\n",
       "    </tr>\n",
       "    <tr>\n",
       "      <th>22616</th>\n",
       "      <td>22617</td>\n",
       "      <td>1.95</td>\n",
       "      <td>0.709227</td>\n",
       "      <td>HBACK</td>\n",
       "      <td>1</td>\n",
       "      <td>M</td>\n",
       "      <td>C</td>\n",
       "      <td>6</td>\n",
       "      <td>petrol</td>\n",
       "      <td>146</td>\n",
       "      <td>58.0</td>\n",
       "      <td>black</td>\n",
       "      <td>M</td>\n",
       "      <td>1</td>\n",
       "      <td>weekday</td>\n",
       "      <td>12am - 6 am</td>\n",
       "      <td>12</td>\n",
       "      <td>649.644433</td>\n",
       "      <td>0.0</td>\n",
       "      <td>1</td>\n",
       "      <td>2</td>\n",
       "      <td>1253.261110</td>\n",
       "    </tr>\n",
       "    <tr>\n",
       "      <th>22617</th>\n",
       "      <td>22618</td>\n",
       "      <td>3.80</td>\n",
       "      <td>0.600221</td>\n",
       "      <td>TRUCK</td>\n",
       "      <td>2</td>\n",
       "      <td>M</td>\n",
       "      <td>A</td>\n",
       "      <td>4</td>\n",
       "      <td>petrol</td>\n",
       "      <td>284</td>\n",
       "      <td>41.0</td>\n",
       "      <td>red</td>\n",
       "      <td>S</td>\n",
       "      <td>0</td>\n",
       "      <td>weekday</td>\n",
       "      <td>6pm - 12am</td>\n",
       "      <td>12</td>\n",
       "      <td>653.024119</td>\n",
       "      <td>0.0</td>\n",
       "      <td>0</td>\n",
       "      <td>0</td>\n",
       "      <td>0.000000</td>\n",
       "    </tr>\n",
       "    <tr>\n",
       "      <th>22618</th>\n",
       "      <td>22619</td>\n",
       "      <td>1.62</td>\n",
       "      <td>0.926974</td>\n",
       "      <td>STNWG</td>\n",
       "      <td>4</td>\n",
       "      <td>F</td>\n",
       "      <td>C</td>\n",
       "      <td>4</td>\n",
       "      <td>petrol</td>\n",
       "      <td>104</td>\n",
       "      <td>69.0</td>\n",
       "      <td>red</td>\n",
       "      <td>S</td>\n",
       "      <td>0</td>\n",
       "      <td>weekday</td>\n",
       "      <td>12pm - 6pm</td>\n",
       "      <td>12</td>\n",
       "      <td>647.782582</td>\n",
       "      <td>1.0</td>\n",
       "      <td>0</td>\n",
       "      <td>0</td>\n",
       "      <td>0.000000</td>\n",
       "    </tr>\n",
       "  </tbody>\n",
       "</table>\n",
       "<p>22619 rows × 22 columns</p>\n",
       "</div>"
      ],
      "text/plain": [
       "          id  veh_value  exposure veh_body  veh_age gender area  agecat  \\\n",
       "0          1       0.77  0.444504    SEDAN        4      M    D       3   \n",
       "1          2       4.45  0.562183    STNWG        1      M    A       3   \n",
       "2          3       4.90  0.465244    STNWG        1      F    A       3   \n",
       "3          4       0.48  0.271039    PANVN        4      M    A       4   \n",
       "4          5       0.85  0.141624    SEDAN        4      F    A       5   \n",
       "...      ...        ...       ...      ...      ...    ...  ...     ...   \n",
       "22614  22615       3.71  0.580943    STNWG        2      F    B       2   \n",
       "22615  22616       0.77  0.636641    SEDAN        4      F    C       6   \n",
       "22616  22617       1.95  0.709227    HBACK        1      M    C       6   \n",
       "22617  22618       3.80  0.600221    TRUCK        2      M    A       4   \n",
       "22618  22619       1.62  0.926974    STNWG        4      F    C       4   \n",
       "\n",
       "      engine_type  max_power  driving_history_score veh_color marital_status  \\\n",
       "0          petrol        147                   67.0     black              S   \n",
       "1          petrol        158                   76.0     white              S   \n",
       "2          petrol        159                   58.0     black              M   \n",
       "3          petrol         80                   72.0     white              S   \n",
       "4          petrol        126                   91.0     white              S   \n",
       "...           ...        ...                    ...       ...            ...   \n",
       "22614      petrol        154                   92.0      gray              M   \n",
       "22615      petrol        160                   74.0     white              M   \n",
       "22616      petrol        146                   58.0     black              M   \n",
       "22617      petrol        284                   41.0       red              S   \n",
       "22618      petrol        104                   69.0       red              S   \n",
       "\n",
       "       e_bill time_of_week_driven  time_driven  trm_len  credit_score  \\\n",
       "0           1             weekday   6pm - 12am        6    640.448137   \n",
       "1           1             weekday   6am - 12pm       12    683.749691   \n",
       "2           1             weekday   6pm - 12am        6    653.656117   \n",
       "3           1             weekday   12pm - 6pm       12    642.574671   \n",
       "4           0             weekday   6am - 12pm        6    647.175035   \n",
       "...       ...                 ...          ...      ...           ...   \n",
       "22614       1             weekday   6pm - 12am       12    654.451512   \n",
       "22615       1             weekday   12pm - 6pm       12    641.163999   \n",
       "22616       1             weekday  12am - 6 am       12    649.644433   \n",
       "22617       0             weekday   6pm - 12am       12    653.024119   \n",
       "22618       0             weekday   12pm - 6pm       12    647.782582   \n",
       "\n",
       "       high_education_ind  clm  numclaims    claimcst0  \n",
       "0                     1.0    0          0     0.000000  \n",
       "1                     0.0    0          0     0.000000  \n",
       "2                     1.0    0          0     0.000000  \n",
       "3                     0.0    0          0     0.000000  \n",
       "4                     0.0    0          0     0.000000  \n",
       "...                   ...  ...        ...          ...  \n",
       "22614                 0.0    1          1   280.403348  \n",
       "22615                 0.0    0          0     0.000000  \n",
       "22616                 0.0    1          2  1253.261110  \n",
       "22617                 0.0    0          0     0.000000  \n",
       "22618                 1.0    0          0     0.000000  \n",
       "\n",
       "[22619 rows x 22 columns]"
      ]
     },
     "execution_count": 78,
     "metadata": {},
     "output_type": "execute_result"
    }
   ],
   "source": [
    "df_train"
   ]
  },
  {
   "cell_type": "code",
   "execution_count": 79,
   "id": "87dcb523-019a-446b-ba3c-9520976d5349",
   "metadata": {
    "tags": []
   },
   "outputs": [
    {
     "name": "stdout",
     "output_type": "stream",
     "text": [
      "<class 'pandas.core.frame.DataFrame'>\n",
      "RangeIndex: 22619 entries, 0 to 22618\n",
      "Data columns (total 22 columns):\n",
      " #   Column                 Non-Null Count  Dtype  \n",
      "---  ------                 --------------  -----  \n",
      " 0   id                     22619 non-null  int64  \n",
      " 1   veh_value              22619 non-null  float64\n",
      " 2   exposure               22619 non-null  float64\n",
      " 3   veh_body               22619 non-null  object \n",
      " 4   veh_age                22619 non-null  int64  \n",
      " 5   gender                 22619 non-null  object \n",
      " 6   area                   22619 non-null  object \n",
      " 7   agecat                 22619 non-null  int64  \n",
      " 8   engine_type            22619 non-null  object \n",
      " 9   max_power              22619 non-null  int64  \n",
      " 10  driving_history_score  22619 non-null  float64\n",
      " 11  veh_color              22619 non-null  object \n",
      " 12  marital_status         22619 non-null  object \n",
      " 13  e_bill                 22619 non-null  int64  \n",
      " 14  time_of_week_driven    22619 non-null  object \n",
      " 15  time_driven            22619 non-null  object \n",
      " 16  trm_len                22619 non-null  int64  \n",
      " 17  credit_score           22619 non-null  float64\n",
      " 18  high_education_ind     22619 non-null  float64\n",
      " 19  clm                    22619 non-null  int64  \n",
      " 20  numclaims              22619 non-null  int64  \n",
      " 21  claimcst0              22619 non-null  float64\n",
      "dtypes: float64(6), int64(8), object(8)\n",
      "memory usage: 3.8+ MB\n"
     ]
    }
   ],
   "source": [
    "df_train.info()"
   ]
  },
  {
   "cell_type": "code",
   "execution_count": 70,
   "id": "4b575bd9-d423-4b7f-8cb0-b7cabc82915e",
   "metadata": {
    "tags": []
   },
   "outputs": [],
   "source": [
    "col_categories = ['veh_body', 'veh_age', 'gender', 'area',\n",
    "                  'agecat', 'engine_type',\n",
    "                  'veh_color', 'marital_status', 'e_bill', 'time_of_week_driven',\n",
    "                  'time_driven', 'trm_len', 'high_education_ind']\n",
    "\n",
    "num_cols = [i for i in df_train.columns if i not in col_categories + ['claimcst0', 'clm', 'numclaims']]"
   ]
  },
  {
   "cell_type": "code",
   "execution_count": 71,
   "id": "d26516f0-0e58-4d3e-bb18-b2d927688e86",
   "metadata": {
    "tags": []
   },
   "outputs": [
    {
     "data": {
      "text/plain": [
       "['id',\n",
       " 'veh_value',\n",
       " 'exposure',\n",
       " 'max_power',\n",
       " 'driving_history_score',\n",
       " 'credit_score']"
      ]
     },
     "execution_count": 71,
     "metadata": {},
     "output_type": "execute_result"
    }
   ],
   "source": [
    "num_cols"
   ]
  },
  {
   "cell_type": "code",
   "execution_count": 72,
   "id": "622b90f7-2e07-4f5f-8a72-df0b94f865d2",
   "metadata": {
    "tags": []
   },
   "outputs": [],
   "source": [
    "label_encoder = OrdinalEncoder()\n",
    "df_train[col_categories] = label_encoder.fit_transform(df_train[col_categories])"
   ]
  },
  {
   "cell_type": "code",
   "execution_count": 6,
   "id": "d2e10460-6ed6-4c77-ac9b-720b51e153f8",
   "metadata": {
    "tags": []
   },
   "outputs": [],
   "source": [
    "# df_train['agecat'] = label_encoder.fit_transform(df_train['agecat'])"
   ]
  },
  {
   "cell_type": "code",
   "execution_count": 7,
   "id": "6f0f120c-df6f-4dd6-89ed-597387dd35c7",
   "metadata": {
    "tags": []
   },
   "outputs": [],
   "source": [
    "# df_train['veh_age'] = label_encoder.fit_transform(df_train['veh_age'])"
   ]
  },
  {
   "cell_type": "code",
   "execution_count": 8,
   "id": "275e1e4d-29cd-47ae-9527-96bda136395f",
   "metadata": {
    "tags": []
   },
   "outputs": [],
   "source": [
    "# df_train['veh_body'] = label_encoder.fit_transform(df_train['veh_body'])"
   ]
  },
  {
   "cell_type": "code",
   "execution_count": 9,
   "id": "45bcd967-6bc6-4f8a-89da-60645c1d2ac9",
   "metadata": {
    "tags": []
   },
   "outputs": [],
   "source": [
    "# df_train['gender'] = label_encoder.fit_transform(df_train['gender'])"
   ]
  },
  {
   "cell_type": "code",
   "execution_count": 10,
   "id": "09c97bd5-499e-48e5-af01-e1876211ff2c",
   "metadata": {
    "tags": []
   },
   "outputs": [],
   "source": [
    "# df_train['area'] = label_encoder.fit_transform(df_train['area'])"
   ]
  },
  {
   "cell_type": "code",
   "execution_count": 11,
   "id": "b569acda-d8c5-4440-a5bb-fc8c44684c9b",
   "metadata": {
    "tags": []
   },
   "outputs": [],
   "source": [
    "# df_train['engine_type'] = label_encoder.fit_transform(df_train['engine_type'])"
   ]
  },
  {
   "cell_type": "code",
   "execution_count": 12,
   "id": "3be8aa94-3628-4101-bbdf-548b1465bb5b",
   "metadata": {
    "tags": []
   },
   "outputs": [],
   "source": [
    "# df_train['veh_color'] = label_encoder.fit_transform(df_train['veh_color'])"
   ]
  },
  {
   "cell_type": "code",
   "execution_count": 13,
   "id": "10e5bbef-8cd7-4ec2-9cba-190c3dd43167",
   "metadata": {
    "tags": []
   },
   "outputs": [],
   "source": [
    "# df_train['marital_status'] = label_encoder.fit_transform(df_train['marital_status'])"
   ]
  },
  {
   "cell_type": "code",
   "execution_count": 14,
   "id": "eddf271c-b40b-434b-9738-83fd967dc406",
   "metadata": {
    "tags": []
   },
   "outputs": [],
   "source": [
    "# df_train['time_of_week_driven'] = label_encoder.fit_transform(df_train['time_of_week_driven'])"
   ]
  },
  {
   "cell_type": "code",
   "execution_count": 15,
   "id": "990622d2-9846-439f-a355-69c4e922f552",
   "metadata": {
    "tags": []
   },
   "outputs": [],
   "source": [
    "# df_train['time_driven'] = label_encoder.fit_transform(df_train['time_driven'])"
   ]
  },
  {
   "cell_type": "code",
   "execution_count": 16,
   "id": "aa416dfd-163a-4ebf-8dc9-57ca4e63e2d5",
   "metadata": {
    "tags": []
   },
   "outputs": [],
   "source": [
    "# df_train['high_education_ind'] = label_encoder.fit_transform(df_train['high_education_ind'])"
   ]
  },
  {
   "cell_type": "code",
   "execution_count": 17,
   "id": "17b2a69b-eddf-4e7b-ba71-a93710770e34",
   "metadata": {
    "tags": []
   },
   "outputs": [],
   "source": [
    "# df_train['trm_len'] = label_encoder.fit_transform(df_train['trm_len'])"
   ]
  },
  {
   "cell_type": "code",
   "execution_count": 18,
   "id": "76725208-a443-449a-b894-bcb612bd2939",
   "metadata": {
    "tags": []
   },
   "outputs": [],
   "source": [
    "df_cont = df_train[[\"veh_value\", \"exposure\", \n",
    "                  \"driving_history_score\", \"credit_score\", 'max_power']]"
   ]
  },
  {
   "cell_type": "code",
   "execution_count": 19,
   "id": "8c363729-04b5-47ba-9052-caf048710b35",
   "metadata": {
    "tags": []
   },
   "outputs": [
    {
     "data": {
      "text/plain": [
       "(array([3, 0, 2, 1]), array([2, 3, 4, 1, 0, 5]), array([1, 0]))"
      ]
     },
     "execution_count": 19,
     "metadata": {},
     "output_type": "execute_result"
    }
   ],
   "source": [
    "df_train.veh_age.unique(), df_train.agecat.unique(), df_train.e_bill.unique()\n"
   ]
  },
  {
   "cell_type": "code",
   "execution_count": 20,
   "id": "933a5a99-106f-4eaa-a1be-a5b326c3902f",
   "metadata": {
    "tags": []
   },
   "outputs": [
    {
     "data": {
      "text/plain": [
       "(array([0, 1]), array([0, 1]), array([0, 1, 2, 3]))"
      ]
     },
     "execution_count": 20,
     "metadata": {},
     "output_type": "execute_result"
    }
   ],
   "source": [
    "df_train.trm_len.unique(), df_train.clm.unique(), df_train.numclaims.unique(), "
   ]
  },
  {
   "cell_type": "code",
   "execution_count": 21,
   "id": "e2525a45-5db4-4d25-9ecd-6cd625789aa5",
   "metadata": {
    "tags": []
   },
   "outputs": [
    {
     "data": {
      "text/plain": [
       "(array([1, 0]), array([3, 2, 1, 0]))"
      ]
     },
     "execution_count": 21,
     "metadata": {},
     "output_type": "execute_result"
    }
   ],
   "source": [
    "df_train.high_education_ind.unique(), df_train.time_driven.unique()"
   ]
  },
  {
   "cell_type": "code",
   "execution_count": 22,
   "id": "028a5570-ebf5-42fa-9c78-3d38efc2abb3",
   "metadata": {
    "tags": []
   },
   "outputs": [],
   "source": [
    "# pd.set_option('display.max_columns', None)\n",
    "# pd.set_option('display.max_rows', None)\n",
    "# pd.reset_option(\"max_columns\")\n",
    "# pd.reset_option(\"max_rows\")\n",
    "\n"
   ]
  },
  {
   "cell_type": "code",
   "execution_count": 23,
   "id": "f4964501-7567-4b9a-bb01-08296c9f0cbf",
   "metadata": {
    "tags": []
   },
   "outputs": [
    {
     "data": {
      "text/html": [
       "<div>\n",
       "<style scoped>\n",
       "    .dataframe tbody tr th:only-of-type {\n",
       "        vertical-align: middle;\n",
       "    }\n",
       "\n",
       "    .dataframe tbody tr th {\n",
       "        vertical-align: top;\n",
       "    }\n",
       "\n",
       "    .dataframe thead th {\n",
       "        text-align: right;\n",
       "    }\n",
       "</style>\n",
       "<table border=\"1\" class=\"dataframe\">\n",
       "  <thead>\n",
       "    <tr style=\"text-align: right;\">\n",
       "      <th></th>\n",
       "      <th>veh_value</th>\n",
       "      <th>exposure</th>\n",
       "      <th>driving_history_score</th>\n",
       "      <th>credit_score</th>\n",
       "      <th>max_power</th>\n",
       "    </tr>\n",
       "  </thead>\n",
       "  <tbody>\n",
       "    <tr>\n",
       "      <th>veh_value</th>\n",
       "      <td>1.000000</td>\n",
       "      <td>-0.000279</td>\n",
       "      <td>0.010630</td>\n",
       "      <td>-0.002800</td>\n",
       "      <td>0.190229</td>\n",
       "    </tr>\n",
       "    <tr>\n",
       "      <th>exposure</th>\n",
       "      <td>-0.000279</td>\n",
       "      <td>1.000000</td>\n",
       "      <td>-0.005429</td>\n",
       "      <td>-0.081266</td>\n",
       "      <td>-0.001208</td>\n",
       "    </tr>\n",
       "    <tr>\n",
       "      <th>driving_history_score</th>\n",
       "      <td>0.010630</td>\n",
       "      <td>-0.005429</td>\n",
       "      <td>1.000000</td>\n",
       "      <td>-0.003909</td>\n",
       "      <td>0.002779</td>\n",
       "    </tr>\n",
       "    <tr>\n",
       "      <th>credit_score</th>\n",
       "      <td>-0.002800</td>\n",
       "      <td>-0.081266</td>\n",
       "      <td>-0.003909</td>\n",
       "      <td>1.000000</td>\n",
       "      <td>0.002260</td>\n",
       "    </tr>\n",
       "    <tr>\n",
       "      <th>max_power</th>\n",
       "      <td>0.190229</td>\n",
       "      <td>-0.001208</td>\n",
       "      <td>0.002779</td>\n",
       "      <td>0.002260</td>\n",
       "      <td>1.000000</td>\n",
       "    </tr>\n",
       "  </tbody>\n",
       "</table>\n",
       "</div>"
      ],
      "text/plain": [
       "                       veh_value  exposure  driving_history_score  \\\n",
       "veh_value               1.000000 -0.000279               0.010630   \n",
       "exposure               -0.000279  1.000000              -0.005429   \n",
       "driving_history_score   0.010630 -0.005429               1.000000   \n",
       "credit_score           -0.002800 -0.081266              -0.003909   \n",
       "max_power               0.190229 -0.001208               0.002779   \n",
       "\n",
       "                       credit_score  max_power  \n",
       "veh_value                 -0.002800   0.190229  \n",
       "exposure                  -0.081266  -0.001208  \n",
       "driving_history_score     -0.003909   0.002779  \n",
       "credit_score               1.000000   0.002260  \n",
       "max_power                  0.002260   1.000000  "
      ]
     },
     "execution_count": 23,
     "metadata": {},
     "output_type": "execute_result"
    }
   ],
   "source": [
    "df_cont.corr(numeric_only=True)"
   ]
  },
  {
   "cell_type": "code",
   "execution_count": 24,
   "id": "1ef98062-2167-44e0-a64c-4aa3c80d494b",
   "metadata": {
    "tags": []
   },
   "outputs": [
    {
     "data": {
      "image/png": "[encoded data removed]",
      "text/plain": [
       "<Figure size 640x480 with 1 Axes>"
      ]
     },
     "metadata": {},
     "output_type": "display_data"
    }
   ],
   "source": [
    "plt.boxplot(df_cont)\n",
    "plt.show()"
   ]
  },
  {
   "cell_type": "code",
   "execution_count": 25,
   "id": "e0bdb8d2-ce0b-4999-b69c-91477b3c359d",
   "metadata": {
    "tags": []
   },
   "outputs": [
    {
     "data": {
      "image/png": "[encoded data removed]",
      "text/plain": [
       "<Figure size 640x480 with 1 Axes>"
      ]
     },
     "metadata": {},
     "output_type": "display_data"
    }
   ],
   "source": [
    "plt.hist((df_cont.veh_value ** (1/4)), edgecolor='k')\n",
    "plt.show()"
   ]
  },
  {
   "cell_type": "code",
   "execution_count": 26,
   "id": "23889f3d-efac-40ad-bb38-d602b961c94a",
   "metadata": {
    "tags": []
   },
   "outputs": [
    {
     "data": {
      "image/png": "[encoded data removed]",
      "text/plain": [
       "<Figure size 640x480 with 1 Axes>"
      ]
     },
     "metadata": {},
     "output_type": "display_data"
    }
   ],
   "source": [
    "plt.hist((df_cont.exposure), edgecolor='k') # 'bar', 'barstacked', 'step', 'stepfilled'\n",
    "plt.show()"
   ]
  },
  {
   "cell_type": "code",
   "execution_count": 27,
   "id": "99e80480-010f-4701-aaf6-2746eb4ec628",
   "metadata": {
    "tags": []
   },
   "outputs": [
    {
     "name": "stdout",
     "output_type": "stream",
     "text": [
      "MinMaxScaler()\n"
     ]
    }
   ],
   "source": [
    "scaler = MinMaxScaler()\n",
    "print(scaler.fit(df_cont))\n",
    "trans_dhs = scaler.transform(df_cont)"
   ]
  },
  {
   "cell_type": "code",
   "execution_count": 28,
   "id": "71efd64b-05ea-4c19-b46d-384ba25847ff",
   "metadata": {
    "tags": []
   },
   "outputs": [],
   "source": [
    "trans = pd.DataFrame(trans_dhs, columns=['veh_value', 'exposure', 'driving_history_score', 'credit_score', 'max_power'])"
   ]
  },
  {
   "cell_type": "code",
   "execution_count": 29,
   "id": "1702ea76-691a-4276-969f-be000fd3712d",
   "metadata": {
    "tags": []
   },
   "outputs": [],
   "source": [
    "df_train.veh_value = trans.veh_value"
   ]
  },
  {
   "cell_type": "code",
   "execution_count": 30,
   "id": "26450305-c0ac-4a3f-a802-a4cb53a91f21",
   "metadata": {
    "tags": []
   },
   "outputs": [],
   "source": [
    "df_train.exposure = trans.exposure"
   ]
  },
  {
   "cell_type": "code",
   "execution_count": 31,
   "id": "05bdb38f-8869-4211-81c9-ffbf646492bf",
   "metadata": {
    "tags": []
   },
   "outputs": [],
   "source": [
    "df_train.driving_history_score = trans.driving_history_score"
   ]
  },
  {
   "cell_type": "code",
   "execution_count": 32,
   "id": "ea96c7c3-a7e5-4037-a256-90391b1eff41",
   "metadata": {
    "tags": []
   },
   "outputs": [],
   "source": [
    "df_train.max_power = trans.max_power"
   ]
  },
  {
   "cell_type": "code",
   "execution_count": 33,
   "id": "f8d82d35-ec22-4e04-a0f5-baaec625351d",
   "metadata": {
    "tags": []
   },
   "outputs": [],
   "source": [
    "df_train.credit_score = trans.credit_score"
   ]
  },
  {
   "cell_type": "code",
   "execution_count": 34,
   "id": "944dcd07-7a7a-4986-b8e0-6ee37fb37e30",
   "metadata": {
    "tags": []
   },
   "outputs": [
    {
     "data": {
      "image/png": "[encoded data removed]",
      "text/plain": [
       "<Figure size 640x480 with 1 Axes>"
      ]
     },
     "metadata": {},
     "output_type": "display_data"
    }
   ],
   "source": [
    "plt.hist(df_cont.driving_history_score, edgecolor='k')\n",
    "plt.show()"
   ]
  },
  {
   "cell_type": "code",
   "execution_count": 35,
   "id": "cbc04c61-e289-42c4-8b4b-9dc16cd09dea",
   "metadata": {
    "tags": []
   },
   "outputs": [
    {
     "data": {
      "image/png": "[encoded data removed]",
      "text/plain": [
       "<Figure size 640x480 with 1 Axes>"
      ]
     },
     "metadata": {},
     "output_type": "display_data"
    }
   ],
   "source": [
    "plt.hist(df_train.credit_score, edgecolor='k')\n",
    "plt.show()"
   ]
  },
  {
   "cell_type": "code",
   "execution_count": 36,
   "id": "0bba114d-c3ba-4304-81ac-fe4222670700",
   "metadata": {
    "tags": []
   },
   "outputs": [
    {
     "data": {
      "text/html": [
       "<div>\n",
       "<style scoped>\n",
       "    .dataframe tbody tr th:only-of-type {\n",
       "        vertical-align: middle;\n",
       "    }\n",
       "\n",
       "    .dataframe tbody tr th {\n",
       "        vertical-align: top;\n",
       "    }\n",
       "\n",
       "    .dataframe thead th {\n",
       "        text-align: right;\n",
       "    }\n",
       "</style>\n",
       "<table border=\"1\" class=\"dataframe\">\n",
       "  <thead>\n",
       "    <tr style=\"text-align: right;\">\n",
       "      <th></th>\n",
       "      <th>id</th>\n",
       "      <th>veh_value</th>\n",
       "      <th>exposure</th>\n",
       "      <th>veh_body</th>\n",
       "      <th>veh_age</th>\n",
       "      <th>gender</th>\n",
       "      <th>area</th>\n",
       "      <th>agecat</th>\n",
       "      <th>engine_type</th>\n",
       "      <th>max_power</th>\n",
       "      <th>driving_history_score</th>\n",
       "      <th>veh_color</th>\n",
       "      <th>marital_status</th>\n",
       "      <th>e_bill</th>\n",
       "      <th>time_of_week_driven</th>\n",
       "      <th>time_driven</th>\n",
       "      <th>trm_len</th>\n",
       "      <th>credit_score</th>\n",
       "      <th>high_education_ind</th>\n",
       "      <th>clm</th>\n",
       "      <th>numclaims</th>\n",
       "      <th>claimcst0</th>\n",
       "    </tr>\n",
       "  </thead>\n",
       "  <tbody>\n",
       "    <tr>\n",
       "      <th>0</th>\n",
       "      <td>1</td>\n",
       "      <td>0.031416</td>\n",
       "      <td>0.443805</td>\n",
       "      <td>9</td>\n",
       "      <td>3</td>\n",
       "      <td>1</td>\n",
       "      <td>3</td>\n",
       "      <td>2</td>\n",
       "      <td>3</td>\n",
       "      <td>0.249284</td>\n",
       "      <td>0.673469</td>\n",
       "      <td>0</td>\n",
       "      <td>1</td>\n",
       "      <td>1</td>\n",
       "      <td>0</td>\n",
       "      <td>3</td>\n",
       "      <td>0</td>\n",
       "      <td>0.178846</td>\n",
       "      <td>1</td>\n",
       "      <td>0</td>\n",
       "      <td>0</td>\n",
       "      <td>0.000000</td>\n",
       "    </tr>\n",
       "    <tr>\n",
       "      <th>1</th>\n",
       "      <td>2</td>\n",
       "      <td>0.181559</td>\n",
       "      <td>0.561764</td>\n",
       "      <td>10</td>\n",
       "      <td>0</td>\n",
       "      <td>1</td>\n",
       "      <td>0</td>\n",
       "      <td>2</td>\n",
       "      <td>3</td>\n",
       "      <td>0.280802</td>\n",
       "      <td>0.765306</td>\n",
       "      <td>7</td>\n",
       "      <td>1</td>\n",
       "      <td>1</td>\n",
       "      <td>0</td>\n",
       "      <td>2</td>\n",
       "      <td>1</td>\n",
       "      <td>0.416034</td>\n",
       "      <td>0</td>\n",
       "      <td>0</td>\n",
       "      <td>0</td>\n",
       "      <td>0.000000</td>\n",
       "    </tr>\n",
       "    <tr>\n",
       "      <th>2</th>\n",
       "      <td>3</td>\n",
       "      <td>0.199918</td>\n",
       "      <td>0.464594</td>\n",
       "      <td>10</td>\n",
       "      <td>0</td>\n",
       "      <td>0</td>\n",
       "      <td>0</td>\n",
       "      <td>2</td>\n",
       "      <td>3</td>\n",
       "      <td>0.283668</td>\n",
       "      <td>0.581633</td>\n",
       "      <td>0</td>\n",
       "      <td>0</td>\n",
       "      <td>1</td>\n",
       "      <td>0</td>\n",
       "      <td>3</td>\n",
       "      <td>0</td>\n",
       "      <td>0.251194</td>\n",
       "      <td>1</td>\n",
       "      <td>0</td>\n",
       "      <td>0</td>\n",
       "      <td>0.000000</td>\n",
       "    </tr>\n",
       "    <tr>\n",
       "      <th>3</th>\n",
       "      <td>4</td>\n",
       "      <td>0.019584</td>\n",
       "      <td>0.269926</td>\n",
       "      <td>7</td>\n",
       "      <td>3</td>\n",
       "      <td>1</td>\n",
       "      <td>0</td>\n",
       "      <td>3</td>\n",
       "      <td>3</td>\n",
       "      <td>0.057307</td>\n",
       "      <td>0.724490</td>\n",
       "      <td>7</td>\n",
       "      <td>1</td>\n",
       "      <td>1</td>\n",
       "      <td>0</td>\n",
       "      <td>1</td>\n",
       "      <td>1</td>\n",
       "      <td>0.190495</td>\n",
       "      <td>0</td>\n",
       "      <td>0</td>\n",
       "      <td>0</td>\n",
       "      <td>0.000000</td>\n",
       "    </tr>\n",
       "    <tr>\n",
       "      <th>4</th>\n",
       "      <td>5</td>\n",
       "      <td>0.034680</td>\n",
       "      <td>0.140203</td>\n",
       "      <td>9</td>\n",
       "      <td>3</td>\n",
       "      <td>0</td>\n",
       "      <td>0</td>\n",
       "      <td>4</td>\n",
       "      <td>3</td>\n",
       "      <td>0.189112</td>\n",
       "      <td>0.918367</td>\n",
       "      <td>7</td>\n",
       "      <td>1</td>\n",
       "      <td>0</td>\n",
       "      <td>0</td>\n",
       "      <td>2</td>\n",
       "      <td>0</td>\n",
       "      <td>0.215693</td>\n",
       "      <td>0</td>\n",
       "      <td>0</td>\n",
       "      <td>0</td>\n",
       "      <td>0.000000</td>\n",
       "    </tr>\n",
       "    <tr>\n",
       "      <th>...</th>\n",
       "      <td>...</td>\n",
       "      <td>...</td>\n",
       "      <td>...</td>\n",
       "      <td>...</td>\n",
       "      <td>...</td>\n",
       "      <td>...</td>\n",
       "      <td>...</td>\n",
       "      <td>...</td>\n",
       "      <td>...</td>\n",
       "      <td>...</td>\n",
       "      <td>...</td>\n",
       "      <td>...</td>\n",
       "      <td>...</td>\n",
       "      <td>...</td>\n",
       "      <td>...</td>\n",
       "      <td>...</td>\n",
       "      <td>...</td>\n",
       "      <td>...</td>\n",
       "      <td>...</td>\n",
       "      <td>...</td>\n",
       "      <td>...</td>\n",
       "      <td>...</td>\n",
       "    </tr>\n",
       "    <tr>\n",
       "      <th>22614</th>\n",
       "      <td>22615</td>\n",
       "      <td>0.151367</td>\n",
       "      <td>0.580569</td>\n",
       "      <td>10</td>\n",
       "      <td>1</td>\n",
       "      <td>0</td>\n",
       "      <td>1</td>\n",
       "      <td>1</td>\n",
       "      <td>3</td>\n",
       "      <td>0.269341</td>\n",
       "      <td>0.928571</td>\n",
       "      <td>3</td>\n",
       "      <td>0</td>\n",
       "      <td>1</td>\n",
       "      <td>0</td>\n",
       "      <td>3</td>\n",
       "      <td>1</td>\n",
       "      <td>0.255551</td>\n",
       "      <td>0</td>\n",
       "      <td>1</td>\n",
       "      <td>1</td>\n",
       "      <td>280.403348</td>\n",
       "    </tr>\n",
       "    <tr>\n",
       "      <th>22615</th>\n",
       "      <td>22616</td>\n",
       "      <td>0.031416</td>\n",
       "      <td>0.636400</td>\n",
       "      <td>9</td>\n",
       "      <td>3</td>\n",
       "      <td>0</td>\n",
       "      <td>2</td>\n",
       "      <td>5</td>\n",
       "      <td>3</td>\n",
       "      <td>0.286533</td>\n",
       "      <td>0.744898</td>\n",
       "      <td>7</td>\n",
       "      <td>0</td>\n",
       "      <td>1</td>\n",
       "      <td>0</td>\n",
       "      <td>1</td>\n",
       "      <td>1</td>\n",
       "      <td>0.182768</td>\n",
       "      <td>0</td>\n",
       "      <td>0</td>\n",
       "      <td>0</td>\n",
       "      <td>0.000000</td>\n",
       "    </tr>\n",
       "    <tr>\n",
       "      <th>22616</th>\n",
       "      <td>22617</td>\n",
       "      <td>0.079559</td>\n",
       "      <td>0.709158</td>\n",
       "      <td>3</td>\n",
       "      <td>0</td>\n",
       "      <td>1</td>\n",
       "      <td>2</td>\n",
       "      <td>5</td>\n",
       "      <td>3</td>\n",
       "      <td>0.246418</td>\n",
       "      <td>0.581633</td>\n",
       "      <td>0</td>\n",
       "      <td>0</td>\n",
       "      <td>1</td>\n",
       "      <td>0</td>\n",
       "      <td>0</td>\n",
       "      <td>1</td>\n",
       "      <td>0.229220</td>\n",
       "      <td>0</td>\n",
       "      <td>1</td>\n",
       "      <td>2</td>\n",
       "      <td>1253.261110</td>\n",
       "    </tr>\n",
       "    <tr>\n",
       "      <th>22617</th>\n",
       "      <td>22618</td>\n",
       "      <td>0.155039</td>\n",
       "      <td>0.599892</td>\n",
       "      <td>11</td>\n",
       "      <td>1</td>\n",
       "      <td>1</td>\n",
       "      <td>0</td>\n",
       "      <td>3</td>\n",
       "      <td>3</td>\n",
       "      <td>0.641834</td>\n",
       "      <td>0.408163</td>\n",
       "      <td>5</td>\n",
       "      <td>1</td>\n",
       "      <td>0</td>\n",
       "      <td>0</td>\n",
       "      <td>3</td>\n",
       "      <td>1</td>\n",
       "      <td>0.247732</td>\n",
       "      <td>0</td>\n",
       "      <td>0</td>\n",
       "      <td>0</td>\n",
       "      <td>0.000000</td>\n",
       "    </tr>\n",
       "    <tr>\n",
       "      <th>22618</th>\n",
       "      <td>22619</td>\n",
       "      <td>0.066095</td>\n",
       "      <td>0.927424</td>\n",
       "      <td>10</td>\n",
       "      <td>3</td>\n",
       "      <td>0</td>\n",
       "      <td>2</td>\n",
       "      <td>3</td>\n",
       "      <td>3</td>\n",
       "      <td>0.126074</td>\n",
       "      <td>0.693878</td>\n",
       "      <td>5</td>\n",
       "      <td>1</td>\n",
       "      <td>0</td>\n",
       "      <td>0</td>\n",
       "      <td>1</td>\n",
       "      <td>1</td>\n",
       "      <td>0.219021</td>\n",
       "      <td>1</td>\n",
       "      <td>0</td>\n",
       "      <td>0</td>\n",
       "      <td>0.000000</td>\n",
       "    </tr>\n",
       "  </tbody>\n",
       "</table>\n",
       "<p>22619 rows × 22 columns</p>\n",
       "</div>"
      ],
      "text/plain": [
       "          id  veh_value  exposure  veh_body  veh_age  gender  area  agecat  \\\n",
       "0          1   0.031416  0.443805         9        3       1     3       2   \n",
       "1          2   0.181559  0.561764        10        0       1     0       2   \n",
       "2          3   0.199918  0.464594        10        0       0     0       2   \n",
       "3          4   0.019584  0.269926         7        3       1     0       3   \n",
       "4          5   0.034680  0.140203         9        3       0     0       4   \n",
       "...      ...        ...       ...       ...      ...     ...   ...     ...   \n",
       "22614  22615   0.151367  0.580569        10        1       0     1       1   \n",
       "22615  22616   0.031416  0.636400         9        3       0     2       5   \n",
       "22616  22617   0.079559  0.709158         3        0       1     2       5   \n",
       "22617  22618   0.155039  0.599892        11        1       1     0       3   \n",
       "22618  22619   0.066095  0.927424        10        3       0     2       3   \n",
       "\n",
       "       engine_type  max_power  driving_history_score  veh_color  \\\n",
       "0                3   0.249284               0.673469          0   \n",
       "1                3   0.280802               0.765306          7   \n",
       "2                3   0.283668               0.581633          0   \n",
       "3                3   0.057307               0.724490          7   \n",
       "4                3   0.189112               0.918367          7   \n",
       "...            ...        ...                    ...        ...   \n",
       "22614            3   0.269341               0.928571          3   \n",
       "22615            3   0.286533               0.744898          7   \n",
       "22616            3   0.246418               0.581633          0   \n",
       "22617            3   0.641834               0.408163          5   \n",
       "22618            3   0.126074               0.693878          5   \n",
       "\n",
       "       marital_status  e_bill  time_of_week_driven  time_driven  trm_len  \\\n",
       "0                   1       1                    0            3        0   \n",
       "1                   1       1                    0            2        1   \n",
       "2                   0       1                    0            3        0   \n",
       "3                   1       1                    0            1        1   \n",
       "4                   1       0                    0            2        0   \n",
       "...               ...     ...                  ...          ...      ...   \n",
       "22614               0       1                    0            3        1   \n",
       "22615               0       1                    0            1        1   \n",
       "22616               0       1                    0            0        1   \n",
       "22617               1       0                    0            3        1   \n",
       "22618               1       0                    0            1        1   \n",
       "\n",
       "       credit_score  high_education_ind  clm  numclaims    claimcst0  \n",
       "0          0.178846                   1    0          0     0.000000  \n",
       "1          0.416034                   0    0          0     0.000000  \n",
       "2          0.251194                   1    0          0     0.000000  \n",
       "3          0.190495                   0    0          0     0.000000  \n",
       "4          0.215693                   0    0          0     0.000000  \n",
       "...             ...                 ...  ...        ...          ...  \n",
       "22614      0.255551                   0    1          1   280.403348  \n",
       "22615      0.182768                   0    0          0     0.000000  \n",
       "22616      0.229220                   0    1          2  1253.261110  \n",
       "22617      0.247732                   0    0          0     0.000000  \n",
       "22618      0.219021                   1    0          0     0.000000  \n",
       "\n",
       "[22619 rows x 22 columns]"
      ]
     },
     "execution_count": 36,
     "metadata": {},
     "output_type": "execute_result"
    }
   ],
   "source": [
    "pd.set_option('display.max_columns', None)\n",
    "df_train"
   ]
  },
  {
   "cell_type": "code",
   "execution_count": 37,
   "id": "6daf611a-5cc9-4173-84a7-250b7f237bd0",
   "metadata": {
    "tags": []
   },
   "outputs": [
    {
     "data": {
      "text/plain": [
       "array([1, 0])"
      ]
     },
     "execution_count": 37,
     "metadata": {},
     "output_type": "execute_result"
    }
   ],
   "source": [
    "df_train.high_education_ind.unique()"
   ]
  },
  {
   "cell_type": "code",
   "execution_count": 38,
   "id": "4bc50b3f-bd06-44aa-b183-cabdf99075bd",
   "metadata": {
    "tags": []
   },
   "outputs": [],
   "source": [
    "var_cols = [c for c in df_train.columns if c not in ['clm', 'numclaims', 'claimcst0']]"
   ]
  },
  {
   "cell_type": "code",
   "execution_count": 39,
   "id": "2a30d0c5-1584-4019-b713-1e1aac735c52",
   "metadata": {
    "tags": []
   },
   "outputs": [],
   "source": [
    "X = df_train.loc[:, var_cols]\n",
    "Y = df_train.loc[:, 'claimcst0']"
   ]
  },
  {
   "cell_type": "code",
   "execution_count": 40,
   "id": "17bc04c1-97bd-4553-a988-42f6bc143981",
   "metadata": {
    "tags": []
   },
   "outputs": [],
   "source": [
    "X_train, X_val, Y_train, Y_val = train_test_split(X, Y, test_size=0.2, random_state=42)"
   ]
  },
  {
   "cell_type": "code",
   "execution_count": 41,
   "id": "b55d7593-5fd2-4659-bd6b-f38369add0d7",
   "metadata": {
    "tags": []
   },
   "outputs": [
    {
     "data": {
      "text/plain": [
       "((18095, 19), (4524, 19), (18095,), (4524,))"
      ]
     },
     "execution_count": 41,
     "metadata": {},
     "output_type": "execute_result"
    }
   ],
   "source": [
    "X_train.shape, X_val.shape, Y_train.shape, Y_val.shape"
   ]
  },
  {
   "cell_type": "code",
   "execution_count": 42,
   "id": "5ba5eab0-27b3-443e-8e88-10c6fa66a96b",
   "metadata": {},
   "outputs": [
    {
     "data": {
      "text/html": [
       "<div>\n",
       "<style scoped>\n",
       "    .dataframe tbody tr th:only-of-type {\n",
       "        vertical-align: middle;\n",
       "    }\n",
       "\n",
       "    .dataframe tbody tr th {\n",
       "        vertical-align: top;\n",
       "    }\n",
       "\n",
       "    .dataframe thead th {\n",
       "        text-align: right;\n",
       "    }\n",
       "</style>\n",
       "<table border=\"1\" class=\"dataframe\">\n",
       "  <thead>\n",
       "    <tr style=\"text-align: right;\">\n",
       "      <th></th>\n",
       "      <th>id</th>\n",
       "      <th>veh_value</th>\n",
       "      <th>exposure</th>\n",
       "      <th>veh_body</th>\n",
       "      <th>veh_age</th>\n",
       "      <th>gender</th>\n",
       "      <th>area</th>\n",
       "      <th>agecat</th>\n",
       "      <th>engine_type</th>\n",
       "      <th>max_power</th>\n",
       "      <th>driving_history_score</th>\n",
       "      <th>veh_color</th>\n",
       "      <th>marital_status</th>\n",
       "      <th>e_bill</th>\n",
       "      <th>time_of_week_driven</th>\n",
       "      <th>time_driven</th>\n",
       "      <th>trm_len</th>\n",
       "      <th>credit_score</th>\n",
       "      <th>high_education_ind</th>\n",
       "    </tr>\n",
       "  </thead>\n",
       "  <tbody>\n",
       "    <tr>\n",
       "      <th>9555</th>\n",
       "      <td>9556</td>\n",
       "      <td>0.068135</td>\n",
       "      <td>0.854609</td>\n",
       "      <td>4</td>\n",
       "      <td>2</td>\n",
       "      <td>0</td>\n",
       "      <td>2</td>\n",
       "      <td>3</td>\n",
       "      <td>3</td>\n",
       "      <td>0.418338</td>\n",
       "      <td>0.632653</td>\n",
       "      <td>0</td>\n",
       "      <td>0</td>\n",
       "      <td>0</td>\n",
       "      <td>0</td>\n",
       "      <td>1</td>\n",
       "      <td>1</td>\n",
       "      <td>0.187809</td>\n",
       "      <td>0</td>\n",
       "    </tr>\n",
       "    <tr>\n",
       "      <th>7775</th>\n",
       "      <td>7776</td>\n",
       "      <td>0.083231</td>\n",
       "      <td>0.775563</td>\n",
       "      <td>10</td>\n",
       "      <td>1</td>\n",
       "      <td>1</td>\n",
       "      <td>0</td>\n",
       "      <td>2</td>\n",
       "      <td>0</td>\n",
       "      <td>0.246418</td>\n",
       "      <td>0.887755</td>\n",
       "      <td>0</td>\n",
       "      <td>0</td>\n",
       "      <td>1</td>\n",
       "      <td>0</td>\n",
       "      <td>0</td>\n",
       "      <td>1</td>\n",
       "      <td>0.180034</td>\n",
       "      <td>0</td>\n",
       "    </tr>\n",
       "    <tr>\n",
       "      <th>8510</th>\n",
       "      <td>8511</td>\n",
       "      <td>0.095063</td>\n",
       "      <td>0.234218</td>\n",
       "      <td>9</td>\n",
       "      <td>2</td>\n",
       "      <td>1</td>\n",
       "      <td>2</td>\n",
       "      <td>1</td>\n",
       "      <td>3</td>\n",
       "      <td>0.286533</td>\n",
       "      <td>0.969388</td>\n",
       "      <td>0</td>\n",
       "      <td>0</td>\n",
       "      <td>0</td>\n",
       "      <td>0</td>\n",
       "      <td>1</td>\n",
       "      <td>0</td>\n",
       "      <td>0.204740</td>\n",
       "      <td>0</td>\n",
       "    </tr>\n",
       "    <tr>\n",
       "      <th>19781</th>\n",
       "      <td>19782</td>\n",
       "      <td>0.055080</td>\n",
       "      <td>0.096595</td>\n",
       "      <td>3</td>\n",
       "      <td>0</td>\n",
       "      <td>0</td>\n",
       "      <td>2</td>\n",
       "      <td>1</td>\n",
       "      <td>3</td>\n",
       "      <td>0.074499</td>\n",
       "      <td>0.448980</td>\n",
       "      <td>7</td>\n",
       "      <td>0</td>\n",
       "      <td>0</td>\n",
       "      <td>1</td>\n",
       "      <td>2</td>\n",
       "      <td>1</td>\n",
       "      <td>0.204971</td>\n",
       "      <td>0</td>\n",
       "    </tr>\n",
       "    <tr>\n",
       "      <th>14049</th>\n",
       "      <td>14050</td>\n",
       "      <td>0.035496</td>\n",
       "      <td>0.350036</td>\n",
       "      <td>3</td>\n",
       "      <td>2</td>\n",
       "      <td>0</td>\n",
       "      <td>3</td>\n",
       "      <td>3</td>\n",
       "      <td>3</td>\n",
       "      <td>0.094556</td>\n",
       "      <td>0.969388</td>\n",
       "      <td>0</td>\n",
       "      <td>1</td>\n",
       "      <td>1</td>\n",
       "      <td>0</td>\n",
       "      <td>0</td>\n",
       "      <td>0</td>\n",
       "      <td>0.182006</td>\n",
       "      <td>0</td>\n",
       "    </tr>\n",
       "    <tr>\n",
       "      <th>...</th>\n",
       "      <td>...</td>\n",
       "      <td>...</td>\n",
       "      <td>...</td>\n",
       "      <td>...</td>\n",
       "      <td>...</td>\n",
       "      <td>...</td>\n",
       "      <td>...</td>\n",
       "      <td>...</td>\n",
       "      <td>...</td>\n",
       "      <td>...</td>\n",
       "      <td>...</td>\n",
       "      <td>...</td>\n",
       "      <td>...</td>\n",
       "      <td>...</td>\n",
       "      <td>...</td>\n",
       "      <td>...</td>\n",
       "      <td>...</td>\n",
       "      <td>...</td>\n",
       "      <td>...</td>\n",
       "    </tr>\n",
       "    <tr>\n",
       "      <th>11964</th>\n",
       "      <td>11965</td>\n",
       "      <td>0.045288</td>\n",
       "      <td>0.722612</td>\n",
       "      <td>2</td>\n",
       "      <td>3</td>\n",
       "      <td>0</td>\n",
       "      <td>2</td>\n",
       "      <td>2</td>\n",
       "      <td>3</td>\n",
       "      <td>0.538682</td>\n",
       "      <td>0.387755</td>\n",
       "      <td>7</td>\n",
       "      <td>0</td>\n",
       "      <td>1</td>\n",
       "      <td>0</td>\n",
       "      <td>1</td>\n",
       "      <td>1</td>\n",
       "      <td>0.183459</td>\n",
       "      <td>0</td>\n",
       "    </tr>\n",
       "    <tr>\n",
       "      <th>21575</th>\n",
       "      <td>21576</td>\n",
       "      <td>0.050184</td>\n",
       "      <td>0.188904</td>\n",
       "      <td>10</td>\n",
       "      <td>3</td>\n",
       "      <td>0</td>\n",
       "      <td>5</td>\n",
       "      <td>1</td>\n",
       "      <td>0</td>\n",
       "      <td>0.275072</td>\n",
       "      <td>0.591837</td>\n",
       "      <td>7</td>\n",
       "      <td>0</td>\n",
       "      <td>0</td>\n",
       "      <td>0</td>\n",
       "      <td>2</td>\n",
       "      <td>0</td>\n",
       "      <td>0.196582</td>\n",
       "      <td>0</td>\n",
       "    </tr>\n",
       "    <tr>\n",
       "      <th>5390</th>\n",
       "      <td>5391</td>\n",
       "      <td>0.060792</td>\n",
       "      <td>0.446367</td>\n",
       "      <td>3</td>\n",
       "      <td>0</td>\n",
       "      <td>0</td>\n",
       "      <td>2</td>\n",
       "      <td>3</td>\n",
       "      <td>3</td>\n",
       "      <td>0.275072</td>\n",
       "      <td>0.612245</td>\n",
       "      <td>8</td>\n",
       "      <td>1</td>\n",
       "      <td>1</td>\n",
       "      <td>0</td>\n",
       "      <td>1</td>\n",
       "      <td>1</td>\n",
       "      <td>0.222609</td>\n",
       "      <td>0</td>\n",
       "    </tr>\n",
       "    <tr>\n",
       "      <th>860</th>\n",
       "      <td>861</td>\n",
       "      <td>0.036720</td>\n",
       "      <td>0.800764</td>\n",
       "      <td>3</td>\n",
       "      <td>2</td>\n",
       "      <td>0</td>\n",
       "      <td>0</td>\n",
       "      <td>3</td>\n",
       "      <td>3</td>\n",
       "      <td>0.137536</td>\n",
       "      <td>0.520408</td>\n",
       "      <td>7</td>\n",
       "      <td>0</td>\n",
       "      <td>0</td>\n",
       "      <td>0</td>\n",
       "      <td>1</td>\n",
       "      <td>1</td>\n",
       "      <td>0.228858</td>\n",
       "      <td>0</td>\n",
       "    </tr>\n",
       "    <tr>\n",
       "      <th>15795</th>\n",
       "      <td>15796</td>\n",
       "      <td>0.055080</td>\n",
       "      <td>0.548535</td>\n",
       "      <td>10</td>\n",
       "      <td>3</td>\n",
       "      <td>1</td>\n",
       "      <td>2</td>\n",
       "      <td>2</td>\n",
       "      <td>3</td>\n",
       "      <td>0.243553</td>\n",
       "      <td>0.867347</td>\n",
       "      <td>3</td>\n",
       "      <td>0</td>\n",
       "      <td>0</td>\n",
       "      <td>1</td>\n",
       "      <td>1</td>\n",
       "      <td>1</td>\n",
       "      <td>0.230582</td>\n",
       "      <td>0</td>\n",
       "    </tr>\n",
       "  </tbody>\n",
       "</table>\n",
       "<p>18095 rows × 19 columns</p>\n",
       "</div>"
      ],
      "text/plain": [
       "          id  veh_value  exposure  veh_body  veh_age  gender  area  agecat  \\\n",
       "9555    9556   0.068135  0.854609         4        2       0     2       3   \n",
       "7775    7776   0.083231  0.775563        10        1       1     0       2   \n",
       "8510    8511   0.095063  0.234218         9        2       1     2       1   \n",
       "19781  19782   0.055080  0.096595         3        0       0     2       1   \n",
       "14049  14050   0.035496  0.350036         3        2       0     3       3   \n",
       "...      ...        ...       ...       ...      ...     ...   ...     ...   \n",
       "11964  11965   0.045288  0.722612         2        3       0     2       2   \n",
       "21575  21576   0.050184  0.188904        10        3       0     5       1   \n",
       "5390    5391   0.060792  0.446367         3        0       0     2       3   \n",
       "860      861   0.036720  0.800764         3        2       0     0       3   \n",
       "15795  15796   0.055080  0.548535        10        3       1     2       2   \n",
       "\n",
       "       engine_type  max_power  driving_history_score  veh_color  \\\n",
       "9555             3   0.418338               0.632653          0   \n",
       "7775             0   0.246418               0.887755          0   \n",
       "8510             3   0.286533               0.969388          0   \n",
       "19781            3   0.074499               0.448980          7   \n",
       "14049            3   0.094556               0.969388          0   \n",
       "...            ...        ...                    ...        ...   \n",
       "11964            3   0.538682               0.387755          7   \n",
       "21575            0   0.275072               0.591837          7   \n",
       "5390             3   0.275072               0.612245          8   \n",
       "860              3   0.137536               0.520408          7   \n",
       "15795            3   0.243553               0.867347          3   \n",
       "\n",
       "       marital_status  e_bill  time_of_week_driven  time_driven  trm_len  \\\n",
       "9555                0       0                    0            1        1   \n",
       "7775                0       1                    0            0        1   \n",
       "8510                0       0                    0            1        0   \n",
       "19781               0       0                    1            2        1   \n",
       "14049               1       1                    0            0        0   \n",
       "...               ...     ...                  ...          ...      ...   \n",
       "11964               0       1                    0            1        1   \n",
       "21575               0       0                    0            2        0   \n",
       "5390                1       1                    0            1        1   \n",
       "860                 0       0                    0            1        1   \n",
       "15795               0       0                    1            1        1   \n",
       "\n",
       "       credit_score  high_education_ind  \n",
       "9555       0.187809                   0  \n",
       "7775       0.180034                   0  \n",
       "8510       0.204740                   0  \n",
       "19781      0.204971                   0  \n",
       "14049      0.182006                   0  \n",
       "...             ...                 ...  \n",
       "11964      0.183459                   0  \n",
       "21575      0.196582                   0  \n",
       "5390       0.222609                   0  \n",
       "860        0.228858                   0  \n",
       "15795      0.230582                   0  \n",
       "\n",
       "[18095 rows x 19 columns]"
      ]
     },
     "execution_count": 42,
     "metadata": {},
     "output_type": "execute_result"
    }
   ],
   "source": [
    "X_train"
   ]
  },
  {
   "cell_type": "code",
   "execution_count": 43,
   "id": "b7fb2071-71df-45fb-8f56-68228ed23326",
   "metadata": {
    "tags": []
   },
   "outputs": [
    {
     "data": {
      "text/html": [
       "<div>\n",
       "<style scoped>\n",
       "    .dataframe tbody tr th:only-of-type {\n",
       "        vertical-align: middle;\n",
       "    }\n",
       "\n",
       "    .dataframe tbody tr th {\n",
       "        vertical-align: top;\n",
       "    }\n",
       "\n",
       "    .dataframe thead th {\n",
       "        text-align: right;\n",
       "    }\n",
       "</style>\n",
       "<table border=\"1\" class=\"dataframe\">\n",
       "  <thead>\n",
       "    <tr style=\"text-align: right;\">\n",
       "      <th></th>\n",
       "      <th>id</th>\n",
       "      <th>veh_value</th>\n",
       "      <th>exposure</th>\n",
       "      <th>veh_body</th>\n",
       "      <th>veh_age</th>\n",
       "      <th>gender</th>\n",
       "      <th>area</th>\n",
       "      <th>agecat</th>\n",
       "      <th>engine_type</th>\n",
       "      <th>max_power</th>\n",
       "      <th>driving_history_score</th>\n",
       "      <th>veh_color</th>\n",
       "      <th>marital_status</th>\n",
       "      <th>e_bill</th>\n",
       "      <th>time_of_week_driven</th>\n",
       "      <th>time_driven</th>\n",
       "      <th>trm_len</th>\n",
       "      <th>credit_score</th>\n",
       "      <th>high_education_ind</th>\n",
       "    </tr>\n",
       "  </thead>\n",
       "  <tbody>\n",
       "    <tr>\n",
       "      <th>8294</th>\n",
       "      <td>8295</td>\n",
       "      <td>0.223990</td>\n",
       "      <td>0.242435</td>\n",
       "      <td>10</td>\n",
       "      <td>0</td>\n",
       "      <td>1</td>\n",
       "      <td>0</td>\n",
       "      <td>2</td>\n",
       "      <td>0</td>\n",
       "      <td>0.246418</td>\n",
       "      <td>0.551020</td>\n",
       "      <td>0</td>\n",
       "      <td>1</td>\n",
       "      <td>1</td>\n",
       "      <td>0</td>\n",
       "      <td>1</td>\n",
       "      <td>1</td>\n",
       "      <td>0.198802</td>\n",
       "      <td>0</td>\n",
       "    </tr>\n",
       "    <tr>\n",
       "      <th>17623</th>\n",
       "      <td>17624</td>\n",
       "      <td>0.046920</td>\n",
       "      <td>0.506345</td>\n",
       "      <td>9</td>\n",
       "      <td>2</td>\n",
       "      <td>0</td>\n",
       "      <td>2</td>\n",
       "      <td>2</td>\n",
       "      <td>0</td>\n",
       "      <td>0.389685</td>\n",
       "      <td>0.612245</td>\n",
       "      <td>0</td>\n",
       "      <td>1</td>\n",
       "      <td>1</td>\n",
       "      <td>1</td>\n",
       "      <td>2</td>\n",
       "      <td>1</td>\n",
       "      <td>0.173141</td>\n",
       "      <td>0</td>\n",
       "    </tr>\n",
       "    <tr>\n",
       "      <th>3801</th>\n",
       "      <td>3802</td>\n",
       "      <td>0.073439</td>\n",
       "      <td>0.555050</td>\n",
       "      <td>11</td>\n",
       "      <td>0</td>\n",
       "      <td>1</td>\n",
       "      <td>1</td>\n",
       "      <td>1</td>\n",
       "      <td>0</td>\n",
       "      <td>0.954155</td>\n",
       "      <td>0.683673</td>\n",
       "      <td>1</td>\n",
       "      <td>0</td>\n",
       "      <td>0</td>\n",
       "      <td>1</td>\n",
       "      <td>1</td>\n",
       "      <td>1</td>\n",
       "      <td>0.420373</td>\n",
       "      <td>0</td>\n",
       "    </tr>\n",
       "    <tr>\n",
       "      <th>12864</th>\n",
       "      <td>12865</td>\n",
       "      <td>0.170951</td>\n",
       "      <td>0.492263</td>\n",
       "      <td>10</td>\n",
       "      <td>0</td>\n",
       "      <td>1</td>\n",
       "      <td>1</td>\n",
       "      <td>3</td>\n",
       "      <td>3</td>\n",
       "      <td>0.378223</td>\n",
       "      <td>0.867347</td>\n",
       "      <td>2</td>\n",
       "      <td>0</td>\n",
       "      <td>1</td>\n",
       "      <td>0</td>\n",
       "      <td>2</td>\n",
       "      <td>0</td>\n",
       "      <td>0.233300</td>\n",
       "      <td>1</td>\n",
       "    </tr>\n",
       "    <tr>\n",
       "      <th>6494</th>\n",
       "      <td>6495</td>\n",
       "      <td>0.056304</td>\n",
       "      <td>0.553773</td>\n",
       "      <td>9</td>\n",
       "      <td>2</td>\n",
       "      <td>0</td>\n",
       "      <td>2</td>\n",
       "      <td>3</td>\n",
       "      <td>3</td>\n",
       "      <td>0.151862</td>\n",
       "      <td>0.632653</td>\n",
       "      <td>7</td>\n",
       "      <td>1</td>\n",
       "      <td>1</td>\n",
       "      <td>0</td>\n",
       "      <td>1</td>\n",
       "      <td>1</td>\n",
       "      <td>0.226900</td>\n",
       "      <td>0</td>\n",
       "    </tr>\n",
       "    <tr>\n",
       "      <th>...</th>\n",
       "      <td>...</td>\n",
       "      <td>...</td>\n",
       "      <td>...</td>\n",
       "      <td>...</td>\n",
       "      <td>...</td>\n",
       "      <td>...</td>\n",
       "      <td>...</td>\n",
       "      <td>...</td>\n",
       "      <td>...</td>\n",
       "      <td>...</td>\n",
       "      <td>...</td>\n",
       "      <td>...</td>\n",
       "      <td>...</td>\n",
       "      <td>...</td>\n",
       "      <td>...</td>\n",
       "      <td>...</td>\n",
       "      <td>...</td>\n",
       "      <td>...</td>\n",
       "      <td>...</td>\n",
       "    </tr>\n",
       "    <tr>\n",
       "      <th>16695</th>\n",
       "      <td>16696</td>\n",
       "      <td>0.047736</td>\n",
       "      <td>0.156633</td>\n",
       "      <td>3</td>\n",
       "      <td>1</td>\n",
       "      <td>0</td>\n",
       "      <td>2</td>\n",
       "      <td>2</td>\n",
       "      <td>3</td>\n",
       "      <td>0.040115</td>\n",
       "      <td>0.612245</td>\n",
       "      <td>0</td>\n",
       "      <td>0</td>\n",
       "      <td>1</td>\n",
       "      <td>0</td>\n",
       "      <td>1</td>\n",
       "      <td>0</td>\n",
       "      <td>0.333296</td>\n",
       "      <td>0</td>\n",
       "    </tr>\n",
       "    <tr>\n",
       "      <th>21464</th>\n",
       "      <td>21465</td>\n",
       "      <td>0.066911</td>\n",
       "      <td>0.693364</td>\n",
       "      <td>3</td>\n",
       "      <td>1</td>\n",
       "      <td>0</td>\n",
       "      <td>2</td>\n",
       "      <td>2</td>\n",
       "      <td>3</td>\n",
       "      <td>0.217765</td>\n",
       "      <td>0.591837</td>\n",
       "      <td>5</td>\n",
       "      <td>0</td>\n",
       "      <td>0</td>\n",
       "      <td>0</td>\n",
       "      <td>3</td>\n",
       "      <td>1</td>\n",
       "      <td>0.218499</td>\n",
       "      <td>0</td>\n",
       "    </tr>\n",
       "    <tr>\n",
       "      <th>18363</th>\n",
       "      <td>18364</td>\n",
       "      <td>0.131375</td>\n",
       "      <td>0.363125</td>\n",
       "      <td>10</td>\n",
       "      <td>0</td>\n",
       "      <td>0</td>\n",
       "      <td>0</td>\n",
       "      <td>2</td>\n",
       "      <td>3</td>\n",
       "      <td>0.404011</td>\n",
       "      <td>0.469388</td>\n",
       "      <td>6</td>\n",
       "      <td>0</td>\n",
       "      <td>1</td>\n",
       "      <td>0</td>\n",
       "      <td>1</td>\n",
       "      <td>1</td>\n",
       "      <td>0.219529</td>\n",
       "      <td>0</td>\n",
       "    </tr>\n",
       "    <tr>\n",
       "      <th>2906</th>\n",
       "      <td>2907</td>\n",
       "      <td>0.072215</td>\n",
       "      <td>0.600215</td>\n",
       "      <td>9</td>\n",
       "      <td>1</td>\n",
       "      <td>0</td>\n",
       "      <td>2</td>\n",
       "      <td>3</td>\n",
       "      <td>3</td>\n",
       "      <td>0.383954</td>\n",
       "      <td>0.632653</td>\n",
       "      <td>3</td>\n",
       "      <td>0</td>\n",
       "      <td>1</td>\n",
       "      <td>0</td>\n",
       "      <td>1</td>\n",
       "      <td>1</td>\n",
       "      <td>0.189644</td>\n",
       "      <td>0</td>\n",
       "    </tr>\n",
       "    <tr>\n",
       "      <th>13862</th>\n",
       "      <td>13863</td>\n",
       "      <td>0.019584</td>\n",
       "      <td>0.272789</td>\n",
       "      <td>3</td>\n",
       "      <td>3</td>\n",
       "      <td>1</td>\n",
       "      <td>4</td>\n",
       "      <td>4</td>\n",
       "      <td>3</td>\n",
       "      <td>0.080229</td>\n",
       "      <td>0.795918</td>\n",
       "      <td>3</td>\n",
       "      <td>1</td>\n",
       "      <td>1</td>\n",
       "      <td>0</td>\n",
       "      <td>2</td>\n",
       "      <td>1</td>\n",
       "      <td>0.258104</td>\n",
       "      <td>0</td>\n",
       "    </tr>\n",
       "  </tbody>\n",
       "</table>\n",
       "<p>4524 rows × 19 columns</p>\n",
       "</div>"
      ],
      "text/plain": [
       "          id  veh_value  exposure  veh_body  veh_age  gender  area  agecat  \\\n",
       "8294    8295   0.223990  0.242435        10        0       1     0       2   \n",
       "17623  17624   0.046920  0.506345         9        2       0     2       2   \n",
       "3801    3802   0.073439  0.555050        11        0       1     1       1   \n",
       "12864  12865   0.170951  0.492263        10        0       1     1       3   \n",
       "6494    6495   0.056304  0.553773         9        2       0     2       3   \n",
       "...      ...        ...       ...       ...      ...     ...   ...     ...   \n",
       "16695  16696   0.047736  0.156633         3        1       0     2       2   \n",
       "21464  21465   0.066911  0.693364         3        1       0     2       2   \n",
       "18363  18364   0.131375  0.363125        10        0       0     0       2   \n",
       "2906    2907   0.072215  0.600215         9        1       0     2       3   \n",
       "13862  13863   0.019584  0.272789         3        3       1     4       4   \n",
       "\n",
       "       engine_type  max_power  driving_history_score  veh_color  \\\n",
       "8294             0   0.246418               0.551020          0   \n",
       "17623            0   0.389685               0.612245          0   \n",
       "3801             0   0.954155               0.683673          1   \n",
       "12864            3   0.378223               0.867347          2   \n",
       "6494             3   0.151862               0.632653          7   \n",
       "...            ...        ...                    ...        ...   \n",
       "16695            3   0.040115               0.612245          0   \n",
       "21464            3   0.217765               0.591837          5   \n",
       "18363            3   0.404011               0.469388          6   \n",
       "2906             3   0.383954               0.632653          3   \n",
       "13862            3   0.080229               0.795918          3   \n",
       "\n",
       "       marital_status  e_bill  time_of_week_driven  time_driven  trm_len  \\\n",
       "8294                1       1                    0            1        1   \n",
       "17623               1       1                    1            2        1   \n",
       "3801                0       0                    1            1        1   \n",
       "12864               0       1                    0            2        0   \n",
       "6494                1       1                    0            1        1   \n",
       "...               ...     ...                  ...          ...      ...   \n",
       "16695               0       1                    0            1        0   \n",
       "21464               0       0                    0            3        1   \n",
       "18363               0       1                    0            1        1   \n",
       "2906                0       1                    0            1        1   \n",
       "13862               1       1                    0            2        1   \n",
       "\n",
       "       credit_score  high_education_ind  \n",
       "8294       0.198802                   0  \n",
       "17623      0.173141                   0  \n",
       "3801       0.420373                   0  \n",
       "12864      0.233300                   1  \n",
       "6494       0.226900                   0  \n",
       "...             ...                 ...  \n",
       "16695      0.333296                   0  \n",
       "21464      0.218499                   0  \n",
       "18363      0.219529                   0  \n",
       "2906       0.189644                   0  \n",
       "13862      0.258104                   0  \n",
       "\n",
       "[4524 rows x 19 columns]"
      ]
     },
     "execution_count": 43,
     "metadata": {},
     "output_type": "execute_result"
    }
   ],
   "source": [
    "X_val"
   ]
  },
  {
   "cell_type": "code",
   "execution_count": 47,
   "id": "6eb818d0-626e-4338-8c0e-3f83fd32ed11",
   "metadata": {
    "tags": []
   },
   "outputs": [],
   "source": [
    "X_t = X_train[['exposure', 'id', 'veh_value', 'credit_score', 'max_power', 'driving_history_score']]"
   ]
  },
  {
   "cell_type": "code",
   "execution_count": 49,
   "id": "4380e1a2-5d05-46de-b1fd-9511e52c0f3f",
   "metadata": {
    "tags": []
   },
   "outputs": [],
   "source": [
    "X_v = X_val[['exposure', 'id', 'veh_value', 'credit_score', 'max_power', 'driving_history_score']]"
   ]
  },
  {
   "cell_type": "code",
   "execution_count": 50,
   "id": "130027bc-b1a2-4c46-b16a-01e32748ebbd",
   "metadata": {
    "tags": []
   },
   "outputs": [
    {
     "data": {
      "text/html": [
       "<div>\n",
       "<style scoped>\n",
       "    .dataframe tbody tr th:only-of-type {\n",
       "        vertical-align: middle;\n",
       "    }\n",
       "\n",
       "    .dataframe tbody tr th {\n",
       "        vertical-align: top;\n",
       "    }\n",
       "\n",
       "    .dataframe thead th {\n",
       "        text-align: right;\n",
       "    }\n",
       "</style>\n",
       "<table border=\"1\" class=\"dataframe\">\n",
       "  <thead>\n",
       "    <tr style=\"text-align: right;\">\n",
       "      <th></th>\n",
       "      <th>exposure</th>\n",
       "      <th>id</th>\n",
       "      <th>veh_value</th>\n",
       "      <th>credit_score</th>\n",
       "      <th>max_power</th>\n",
       "      <th>driving_history_score</th>\n",
       "    </tr>\n",
       "  </thead>\n",
       "  <tbody>\n",
       "    <tr>\n",
       "      <th>8294</th>\n",
       "      <td>0.242435</td>\n",
       "      <td>8295</td>\n",
       "      <td>0.223990</td>\n",
       "      <td>0.198802</td>\n",
       "      <td>0.246418</td>\n",
       "      <td>0.551020</td>\n",
       "    </tr>\n",
       "    <tr>\n",
       "      <th>17623</th>\n",
       "      <td>0.506345</td>\n",
       "      <td>17624</td>\n",
       "      <td>0.046920</td>\n",
       "      <td>0.173141</td>\n",
       "      <td>0.389685</td>\n",
       "      <td>0.612245</td>\n",
       "    </tr>\n",
       "    <tr>\n",
       "      <th>3801</th>\n",
       "      <td>0.555050</td>\n",
       "      <td>3802</td>\n",
       "      <td>0.073439</td>\n",
       "      <td>0.420373</td>\n",
       "      <td>0.954155</td>\n",
       "      <td>0.683673</td>\n",
       "    </tr>\n",
       "    <tr>\n",
       "      <th>12864</th>\n",
       "      <td>0.492263</td>\n",
       "      <td>12865</td>\n",
       "      <td>0.170951</td>\n",
       "      <td>0.233300</td>\n",
       "      <td>0.378223</td>\n",
       "      <td>0.867347</td>\n",
       "    </tr>\n",
       "    <tr>\n",
       "      <th>6494</th>\n",
       "      <td>0.553773</td>\n",
       "      <td>6495</td>\n",
       "      <td>0.056304</td>\n",
       "      <td>0.226900</td>\n",
       "      <td>0.151862</td>\n",
       "      <td>0.632653</td>\n",
       "    </tr>\n",
       "    <tr>\n",
       "      <th>...</th>\n",
       "      <td>...</td>\n",
       "      <td>...</td>\n",
       "      <td>...</td>\n",
       "      <td>...</td>\n",
       "      <td>...</td>\n",
       "      <td>...</td>\n",
       "    </tr>\n",
       "    <tr>\n",
       "      <th>16695</th>\n",
       "      <td>0.156633</td>\n",
       "      <td>16696</td>\n",
       "      <td>0.047736</td>\n",
       "      <td>0.333296</td>\n",
       "      <td>0.040115</td>\n",
       "      <td>0.612245</td>\n",
       "    </tr>\n",
       "    <tr>\n",
       "      <th>21464</th>\n",
       "      <td>0.693364</td>\n",
       "      <td>21465</td>\n",
       "      <td>0.066911</td>\n",
       "      <td>0.218499</td>\n",
       "      <td>0.217765</td>\n",
       "      <td>0.591837</td>\n",
       "    </tr>\n",
       "    <tr>\n",
       "      <th>18363</th>\n",
       "      <td>0.363125</td>\n",
       "      <td>18364</td>\n",
       "      <td>0.131375</td>\n",
       "      <td>0.219529</td>\n",
       "      <td>0.404011</td>\n",
       "      <td>0.469388</td>\n",
       "    </tr>\n",
       "    <tr>\n",
       "      <th>2906</th>\n",
       "      <td>0.600215</td>\n",
       "      <td>2907</td>\n",
       "      <td>0.072215</td>\n",
       "      <td>0.189644</td>\n",
       "      <td>0.383954</td>\n",
       "      <td>0.632653</td>\n",
       "    </tr>\n",
       "    <tr>\n",
       "      <th>13862</th>\n",
       "      <td>0.272789</td>\n",
       "      <td>13863</td>\n",
       "      <td>0.019584</td>\n",
       "      <td>0.258104</td>\n",
       "      <td>0.080229</td>\n",
       "      <td>0.795918</td>\n",
       "    </tr>\n",
       "  </tbody>\n",
       "</table>\n",
       "<p>4524 rows × 6 columns</p>\n",
       "</div>"
      ],
      "text/plain": [
       "       exposure     id  veh_value  credit_score  max_power  \\\n",
       "8294   0.242435   8295   0.223990      0.198802   0.246418   \n",
       "17623  0.506345  17624   0.046920      0.173141   0.389685   \n",
       "3801   0.555050   3802   0.073439      0.420373   0.954155   \n",
       "12864  0.492263  12865   0.170951      0.233300   0.378223   \n",
       "6494   0.553773   6495   0.056304      0.226900   0.151862   \n",
       "...         ...    ...        ...           ...        ...   \n",
       "16695  0.156633  16696   0.047736      0.333296   0.040115   \n",
       "21464  0.693364  21465   0.066911      0.218499   0.217765   \n",
       "18363  0.363125  18364   0.131375      0.219529   0.404011   \n",
       "2906   0.600215   2907   0.072215      0.189644   0.383954   \n",
       "13862  0.272789  13863   0.019584      0.258104   0.080229   \n",
       "\n",
       "       driving_history_score  \n",
       "8294                0.551020  \n",
       "17623               0.612245  \n",
       "3801                0.683673  \n",
       "12864               0.867347  \n",
       "6494                0.632653  \n",
       "...                      ...  \n",
       "16695               0.612245  \n",
       "21464               0.591837  \n",
       "18363               0.469388  \n",
       "2906                0.632653  \n",
       "13862               0.795918  \n",
       "\n",
       "[4524 rows x 6 columns]"
      ]
     },
     "execution_count": 50,
     "metadata": {},
     "output_type": "execute_result"
    }
   ],
   "source": [
    "X_v"
   ]
  },
  {
   "cell_type": "code",
   "execution_count": 51,
   "id": "bc65cfc9-421d-4d0e-83e2-6b08dddba98f",
   "metadata": {
    "tags": []
   },
   "outputs": [],
   "source": [
    "train_data = lgb.Dataset(X_t, label=Y_train)\n",
    "val_data = lgb.Dataset(X_v, label=Y_val)"
   ]
  },
  {
   "cell_type": "code",
   "execution_count": 111,
   "id": "1dcab322-1139-4d3d-8591-28f14ea889a1",
   "metadata": {
    "tags": []
   },
   "outputs": [],
   "source": [
    "params = {'task': 'train',\n",
    "         'objective': 'regression',\n",
    "         'metric': ['l1', 'l2'],\n",
    "         'boosting': 'gbdt',\n",
    "         'num_leaves': 20,\n",
    "         'feature_fraction': 0.5,\n",
    "         'bagging_fraction': 0.7,\n",
    "         'bagging_freq': 10,\n",
    "         'learning_rate': 0.01,\n",
    "         'early_stopping_round': 30,\n",
    "         'verbose': 0,\n",
    "         'max_depth': 8,\n",
    "         'max_bin': 100,\n",
    "         'num_iterations': 100000\n",
    "         }"
   ]
  },
  {
   "cell_type": "code",
   "execution_count": 112,
   "id": "8c19ea00-2b5f-4694-9798-57d237626ae3",
   "metadata": {
    "tags": []
   },
   "outputs": [],
   "source": [
    "model = lgb.LGBMRegressor(**params)"
   ]
  },
  {
   "cell_type": "code",
   "execution_count": 113,
   "id": "a23aa840-7b18-4998-924a-c53fc693ef03",
   "metadata": {
    "tags": []
   },
   "outputs": [
    {
     "name": "stdout",
     "output_type": "stream",
     "text": [
      "[LightGBM] [Warning] feature_fraction is set=0.5, colsample_bytree=1.0 will be ignored. Current value: feature_fraction=0.5\n",
      "[LightGBM] [Warning] boosting is set=gbdt, boosting_type=gbdt will be ignored. Current value: boosting=gbdt\n",
      "[LightGBM] [Warning] bagging_fraction is set=0.7, subsample=1.0 will be ignored. Current value: bagging_fraction=0.7\n",
      "[LightGBM] [Warning] bagging_freq is set=10, subsample_freq=0 will be ignored. Current value: bagging_freq=10\n",
      "[LightGBM] [Warning] feature_fraction is set=0.5, colsample_bytree=1.0 will be ignored. Current value: feature_fraction=0.5\n",
      "[LightGBM] [Warning] boosting is set=gbdt, boosting_type=gbdt will be ignored. Current value: boosting=gbdt\n",
      "[LightGBM] [Warning] bagging_fraction is set=0.7, subsample=1.0 will be ignored. Current value: bagging_fraction=0.7\n",
      "[LightGBM] [Warning] bagging_freq is set=10, subsample_freq=0 will be ignored. Current value: bagging_freq=10\n",
      "[LightGBM] [Warning] feature_fraction is set=0.5, colsample_bytree=1.0 will be ignored. Current value: feature_fraction=0.5\n",
      "[LightGBM] [Warning] boosting is set=gbdt, boosting_type=gbdt will be ignored. Current value: boosting=gbdt\n",
      "[LightGBM] [Warning] bagging_fraction is set=0.7, subsample=1.0 will be ignored. Current value: bagging_fraction=0.7\n",
      "[LightGBM] [Warning] bagging_freq is set=10, subsample_freq=0 will be ignored. Current value: bagging_freq=10\n"
     ]
    },
    {
     "data": {
      "text/html": [
       "<style>#sk-container-id-9 {color: black;background-color: white;}#sk-container-id-9 pre{padding: 0;}#sk-container-id-9 div.sk-toggleable {background-color: white;}#sk-container-id-9 label.sk-toggleable__label {cursor: pointer;display: block;width: 100%;margin-bottom: 0;padding: 0.3em;box-sizing: border-box;text-align: center;}#sk-container-id-9 label.sk-toggleable__label-arrow:before {content: \"▸\";float: left;margin-right: 0.25em;color: #696969;}#sk-container-id-9 label.sk-toggleable__label-arrow:hover:before {color: black;}#sk-container-id-9 div.sk-estimator:hover label.sk-toggleable__label-arrow:before {color: black;}#sk-container-id-9 div.sk-toggleable__content {max-height: 0;max-width: 0;overflow: hidden;text-align: left;background-color: #f0f8ff;}#sk-container-id-9 div.sk-toggleable__content pre {margin: 0.2em;color: black;border-radius: 0.25em;background-color: #f0f8ff;}#sk-container-id-9 input.sk-toggleable__control:checked~div.sk-toggleable__content {max-height: 200px;max-width: 100%;overflow: auto;}#sk-container-id-9 input.sk-toggleable__control:checked~label.sk-toggleable__label-arrow:before {content: \"▾\";}#sk-container-id-9 div.sk-estimator input.sk-toggleable__control:checked~label.sk-toggleable__label {background-color: #d4ebff;}#sk-container-id-9 div.sk-label input.sk-toggleable__control:checked~label.sk-toggleable__label {background-color: #d4ebff;}#sk-container-id-9 input.sk-hidden--visually {border: 0;clip: rect(1px 1px 1px 1px);clip: rect(1px, 1px, 1px, 1px);height: 1px;margin: -1px;overflow: hidden;padding: 0;position: absolute;width: 1px;}#sk-container-id-9 div.sk-estimator {font-family: monospace;background-color: #f0f8ff;border: 1px dotted black;border-radius: 0.25em;box-sizing: border-box;margin-bottom: 0.5em;}#sk-container-id-9 div.sk-estimator:hover {background-color: #d4ebff;}#sk-container-id-9 div.sk-parallel-item::after {content: \"\";width: 100%;border-bottom: 1px solid gray;flex-grow: 1;}#sk-container-id-9 div.sk-label:hover label.sk-toggleable__label {background-color: #d4ebff;}#sk-container-id-9 div.sk-serial::before {content: \"\";position: absolute;border-left: 1px solid gray;box-sizing: border-box;top: 0;bottom: 0;left: 50%;z-index: 0;}#sk-container-id-9 div.sk-serial {display: flex;flex-direction: column;align-items: center;background-color: white;padding-right: 0.2em;padding-left: 0.2em;position: relative;}#sk-container-id-9 div.sk-item {position: relative;z-index: 1;}#sk-container-id-9 div.sk-parallel {display: flex;align-items: stretch;justify-content: center;background-color: white;position: relative;}#sk-container-id-9 div.sk-item::before, #sk-container-id-9 div.sk-parallel-item::before {content: \"\";position: absolute;border-left: 1px solid gray;box-sizing: border-box;top: 0;bottom: 0;left: 50%;z-index: -1;}#sk-container-id-9 div.sk-parallel-item {display: flex;flex-direction: column;z-index: 1;position: relative;background-color: white;}#sk-container-id-9 div.sk-parallel-item:first-child::after {align-self: flex-end;width: 50%;}#sk-container-id-9 div.sk-parallel-item:last-child::after {align-self: flex-start;width: 50%;}#sk-container-id-9 div.sk-parallel-item:only-child::after {width: 0;}#sk-container-id-9 div.sk-dashed-wrapped {border: 1px dashed gray;margin: 0 0.4em 0.5em 0.4em;box-sizing: border-box;padding-bottom: 0.4em;background-color: white;}#sk-container-id-9 div.sk-label label {font-family: monospace;font-weight: bold;display: inline-block;line-height: 1.2em;}#sk-container-id-9 div.sk-label-container {text-align: center;}#sk-container-id-9 div.sk-container {/* jupyter's `normalize.less` sets `[hidden] { display: none; }` but bootstrap.min.css set `[hidden] { display: none !important; }` so we also need the `!important` here to be able to override the default hidden behavior on the sphinx rendered scikit-learn.org. See: https://github.com/scikit-learn/scikit-learn/issues/21755 */display: inline-block !important;position: relative;}#sk-container-id-9 div.sk-text-repr-fallback {display: none;}</style><div id=\"sk-container-id-9\" class=\"sk-top-container\"><div class=\"sk-text-repr-fallback\"><pre>LGBMRegressor(bagging_fraction=0.7, bagging_freq=10, boosting=&#x27;gbdt&#x27;,\n",
       "              early_stopping_round=30, feature_fraction=0.5, learning_rate=0.01,\n",
       "              max_bin=100, max_depth=8, metric=[&#x27;l1&#x27;, &#x27;l2&#x27;],\n",
       "              num_iterations=100000, num_leaves=20, objective=&#x27;regression&#x27;,\n",
       "              task=&#x27;train&#x27;, verbose=0)</pre><b>In a Jupyter environment, please rerun this cell to show the HTML representation or trust the notebook. <br />On GitHub, the HTML representation is unable to render, please try loading this page with nbviewer.org.</b></div><div class=\"sk-container\" hidden><div class=\"sk-item\"><div class=\"sk-estimator sk-toggleable\"><input class=\"sk-toggleable__control sk-hidden--visually\" id=\"sk-estimator-id-9\" type=\"checkbox\" checked><label for=\"sk-estimator-id-9\" class=\"sk-toggleable__label sk-toggleable__label-arrow\">LGBMRegressor</label><div class=\"sk-toggleable__content\"><pre>LGBMRegressor(bagging_fraction=0.7, bagging_freq=10, boosting=&#x27;gbdt&#x27;,\n",
       "              early_stopping_round=30, feature_fraction=0.5, learning_rate=0.01,\n",
       "              max_bin=100, max_depth=8, metric=[&#x27;l1&#x27;, &#x27;l2&#x27;],\n",
       "              num_iterations=100000, num_leaves=20, objective=&#x27;regression&#x27;,\n",
       "              task=&#x27;train&#x27;, verbose=0)</pre></div></div></div></div></div>"
      ],
      "text/plain": [
       "LGBMRegressor(bagging_fraction=0.7, bagging_freq=10, boosting='gbdt',\n",
       "              early_stopping_round=30, feature_fraction=0.5, learning_rate=0.01,\n",
       "              max_bin=100, max_depth=8, metric=['l1', 'l2'],\n",
       "              num_iterations=100000, num_leaves=20, objective='regression',\n",
       "              task='train', verbose=0)"
      ]
     },
     "execution_count": 113,
     "metadata": {},
     "output_type": "execute_result"
    }
   ],
   "source": [
    "model.fit(X_train, Y_train,\n",
    "         eval_set=[(X_val, Y_val)],\n",
    "         eval_metric='l1')"
   ]
  },
  {
   "cell_type": "code",
   "execution_count": 120,
   "id": "f32e6e22-5d1c-43ae-be58-f64b459cf6bf",
   "metadata": {
    "tags": []
   },
   "outputs": [
    {
     "name": "stdout",
     "output_type": "stream",
     "text": [
      "[LightGBM] [Warning] feature_fraction is set=0.5, colsample_bytree=1.0 will be ignored. Current value: feature_fraction=0.5\n",
      "[LightGBM] [Warning] boosting is set=gbdt, boosting_type=gbdt will be ignored. Current value: boosting=gbdt\n",
      "[LightGBM] [Warning] bagging_fraction is set=0.7, subsample=1.0 will be ignored. Current value: bagging_fraction=0.7\n",
      "[LightGBM] [Warning] bagging_freq is set=10, subsample_freq=0 will be ignored. Current value: bagging_freq=10\n"
     ]
    },
    {
     "data": {
      "text/plain": [
       "array([163.02572355, 202.44774731, 143.23042881, ..., 139.6795065 ,\n",
       "       151.64135824, 164.43567436])"
      ]
     },
     "execution_count": 120,
     "metadata": {},
     "output_type": "execute_result"
    }
   ],
   "source": [
    "y_pred = model.predict(X_train, num_iteration=model.best_iteration_)\n",
    "y_pred"
   ]
  },
  {
   "cell_type": "code",
   "execution_count": 119,
   "id": "4028ab1f-ab74-4255-a692-3a7fc975120f",
   "metadata": {
    "tags": []
   },
   "outputs": [
    {
     "data": {
      "text/plain": [
       "9555     0.0\n",
       "7775     0.0\n",
       "8510     0.0\n",
       "19781    0.0\n",
       "14049    0.0\n",
       "        ... \n",
       "11964    0.0\n",
       "21575    0.0\n",
       "5390     0.0\n",
       "860      0.0\n",
       "15795    0.0\n",
       "Name: claimcst0, Length: 18095, dtype: float64"
      ]
     },
     "execution_count": 119,
     "metadata": {},
     "output_type": "execute_result"
    }
   ],
   "source": [
    "Y_train"
   ]
  },
  {
   "cell_type": "code",
   "execution_count": 57,
   "id": "94270d0a-f4fc-47b9-91f5-11dc4e69df05",
   "metadata": {},
   "outputs": [],
   "source": [
    "model_lgbm = lgb.train(params, \n",
    "                       train_data,\n",
    "                       valid_sets=val_data,\n",
    "                       num_boost_round=5000)"
   ]
  },
  {
   "cell_type": "code",
   "execution_count": 58,
   "id": "f6d0a65a-6e5e-4eae-98a3-4ab0ad90fd31",
   "metadata": {
    "tags": []
   },
   "outputs": [
    {
     "data": {
      "text/plain": [
       "defaultdict(collections.OrderedDict,\n",
       "            {'valid_0': OrderedDict([('l2', 1957153.0759874987)])})"
      ]
     },
     "execution_count": 58,
     "metadata": {},
     "output_type": "execute_result"
    }
   ],
   "source": [
    "model_lgbm.best_score"
   ]
  },
  {
   "cell_type": "code",
   "execution_count": null,
   "id": "c32aa6a6-58e5-4eb8-b4c3-fa218153691c",
   "metadata": {
    "tags": []
   },
   "outputs": [],
   "source": [
    "lgb.plot_importance(model_lgbm, height=.5)"
   ]
  },
  {
   "cell_type": "code",
   "execution_count": null,
   "id": "d60e73d7-d042-4e67-9984-39f1f676cc1a",
   "metadata": {
    "tags": []
   },
   "outputs": [],
   "source": [
    "X_train[['exposure', 'id', 'veh_value', 'credit_score', 'max_power', 'driving_history_score']]"
   ]
  },
  {
   "cell_type": "code",
   "execution_count": null,
   "id": "ac2364a9-4c93-4637-a25d-8d3e285a370f",
   "metadata": {
    "tags": []
   },
   "outputs": [],
   "source": [
    "n_splits = 10\n",
    "kf = KFold(n_splits=n_splits, shuffle=True, random_state=42)"
   ]
  },
  {
   "cell_type": "code",
   "execution_count": null,
   "id": "4ac7f5be-4b9e-4f13-aee8-6213c6d44727",
   "metadata": {
    "tags": []
   },
   "outputs": [],
   "source": [
    "model_lgbm_cv = lgb.cv(params, \n",
    "                       lgb.Dataset(X, label=Y),\n",
    "                       num_boost_round=5000,\n",
    "                       folds=kf.split(X),\n",
    "                       metrics='mse')"
   ]
  },
  {
   "cell_type": "code",
   "execution_count": null,
   "id": "1e3767e7-1715-4692-81da-0283199e34a9",
   "metadata": {
    "tags": []
   },
   "outputs": [],
   "source": [
    "model_lgbm_cv"
   ]
  },
  {
   "cell_type": "code",
   "execution_count": null,
   "id": "194adbd9-388f-4090-9008-d3522e6d046d",
   "metadata": {
    "tags": []
   },
   "outputs": [],
   "source": []
  },
  {
   "cell_type": "code",
   "execution_count": null,
   "id": "4d8505f7-c14d-4a00-84d9-406f9c8598e7",
   "metadata": {},
   "outputs": [],
   "source": []
  }
 ],
 "metadata": {
  "kernelspec": {
   "display_name": "Python 3 (ipykernel)",
   "language": "python",
   "name": "python3"
  },
  "language_info": {
   "codemirror_mode": {
    "name": "ipython",
    "version": 3
   },
   "file_extension": ".py",
   "mimetype": "text/x-python",
   "name": "python",
   "nbconvert_exporter": "python",
   "pygments_lexer": "ipython3",
   "version": "3.11.4"
  }
 },
 "nbformat": 4,
 "nbformat_minor": 5
}
