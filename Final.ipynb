{
 "cells": [
  {
   "cell_type": "code",
   "execution_count": 1,
   "id": "d938b990-63cc-4f07-b34e-0c528c270928",
   "metadata": {
    "tags": []
   },
   "outputs": [],
   "source": [
    "import numpy as np\n",
    "import pandas as pd\n",
    "\n",
    "from sklearn.linear_model import LogisticRegression\n",
    "from sklearn.metrics import accuracy_score, f1_score, confusion_matrix, roc_auc_score\n",
    "from sklearn.model_selection import train_test_split, KFold, cross_val_predict\n",
    "from collections import Counter\n",
    "from scipy import stats\n",
    "\n",
    "import matplotlib.pyplot as plt\n",
    "import seaborn as sns\n",
    "from sklearn.ensemble import RandomForestClassifier, VotingClassifier, RandomForestRegressor\n",
    "\n",
    "import imblearn\n",
    "from sklearn.ensemble import RandomForestClassifier\n",
    "from sklearn.utils import resample\n",
    "from sklearn.linear_model import LinearRegression, LogisticRegression, RidgeCV, Ridge\n",
    "from sklearn.metrics import mean_absolute_error, mean_squared_error, make_scorer\n",
    "\n",
    "import warnings\n",
    "warnings.filterwarnings(\"ignore\")\n",
    "from sklearn.preprocessing import LabelEncoder, MinMaxScaler, StandardScaler\n",
    "from category_encoders import TargetEncoder\n",
    "\n",
    "\n",
    "\n",
    "import xgboost as xgb\n",
    "from sklearn.metrics import mean_absolute_error, mean_squared_error, r2_score\n",
    "from xgboost import XGBRegressor, XGBClassifier\n",
    "\n",
    "from imblearn.over_sampling import RandomOverSampler, SMOTE\n",
    "from imblearn.under_sampling import RandomUnderSampler\n",
    "from sklearn.datasets import make_regression\n",
    "\n",
    "import matplotlib.pyplot as plt\n",
    "from scipy.stats import yeojohnson\n",
    "import os\n",
    "import seaborn as sns\n",
    "from sklearn.model_selection import GridSearchCV\n",
    "from sklearn.pipeline import Pipeline\n",
    "import sklearn.metrics as metrics\n",
    "from sklearn.metrics import confusion_matrix"
   ]
  },
  {
   "cell_type": "markdown",
   "id": "747ffa1e-c382-4c68-961d-e4f30bd2cf91",
   "metadata": {},
   "source": [
    "## load dataset"
   ]
  },
  {
   "cell_type": "code",
   "execution_count": 2,
   "id": "e1cd30a0-8451-4ded-967f-c20a01e8e2e8",
   "metadata": {
    "tags": []
   },
   "outputs": [],
   "source": [
    "data = pd.read_csv(\"InsNova_data_2023_train.csv\", index_col='id')\n"
   ]
  },
  {
   "cell_type": "code",
   "execution_count": 3,
   "id": "d9e4a789-20b9-49f1-8f0c-e42dc45f556b",
   "metadata": {
    "tags": []
   },
   "outputs": [
    {
     "data": {
      "text/html": [
       "<div>\n",
       "<style scoped>\n",
       "    .dataframe tbody tr th:only-of-type {\n",
       "        vertical-align: middle;\n",
       "    }\n",
       "\n",
       "    .dataframe tbody tr th {\n",
       "        vertical-align: top;\n",
       "    }\n",
       "\n",
       "    .dataframe thead th {\n",
       "        text-align: right;\n",
       "    }\n",
       "</style>\n",
       "<table border=\"1\" class=\"dataframe\">\n",
       "  <thead>\n",
       "    <tr style=\"text-align: right;\">\n",
       "      <th></th>\n",
       "      <th>veh_value</th>\n",
       "      <th>exposure</th>\n",
       "      <th>veh_body</th>\n",
       "      <th>veh_age</th>\n",
       "      <th>gender</th>\n",
       "      <th>area</th>\n",
       "      <th>agecat</th>\n",
       "      <th>engine_type</th>\n",
       "      <th>max_power</th>\n",
       "      <th>driving_history_score</th>\n",
       "      <th>...</th>\n",
       "      <th>marital_status</th>\n",
       "      <th>e_bill</th>\n",
       "      <th>time_of_week_driven</th>\n",
       "      <th>time_driven</th>\n",
       "      <th>trm_len</th>\n",
       "      <th>credit_score</th>\n",
       "      <th>high_education_ind</th>\n",
       "      <th>clm</th>\n",
       "      <th>numclaims</th>\n",
       "      <th>claimcst0</th>\n",
       "    </tr>\n",
       "    <tr>\n",
       "      <th>id</th>\n",
       "      <th></th>\n",
       "      <th></th>\n",
       "      <th></th>\n",
       "      <th></th>\n",
       "      <th></th>\n",
       "      <th></th>\n",
       "      <th></th>\n",
       "      <th></th>\n",
       "      <th></th>\n",
       "      <th></th>\n",
       "      <th></th>\n",
       "      <th></th>\n",
       "      <th></th>\n",
       "      <th></th>\n",
       "      <th></th>\n",
       "      <th></th>\n",
       "      <th></th>\n",
       "      <th></th>\n",
       "      <th></th>\n",
       "      <th></th>\n",
       "      <th></th>\n",
       "    </tr>\n",
       "  </thead>\n",
       "  <tbody>\n",
       "    <tr>\n",
       "      <th>1</th>\n",
       "      <td>0.77</td>\n",
       "      <td>0.444504</td>\n",
       "      <td>SEDAN</td>\n",
       "      <td>4</td>\n",
       "      <td>M</td>\n",
       "      <td>D</td>\n",
       "      <td>3</td>\n",
       "      <td>petrol</td>\n",
       "      <td>147</td>\n",
       "      <td>67.0</td>\n",
       "      <td>...</td>\n",
       "      <td>S</td>\n",
       "      <td>1</td>\n",
       "      <td>weekday</td>\n",
       "      <td>6pm - 12am</td>\n",
       "      <td>6</td>\n",
       "      <td>640.448137</td>\n",
       "      <td>1.0</td>\n",
       "      <td>0</td>\n",
       "      <td>0</td>\n",
       "      <td>0.0</td>\n",
       "    </tr>\n",
       "    <tr>\n",
       "      <th>2</th>\n",
       "      <td>4.45</td>\n",
       "      <td>0.562183</td>\n",
       "      <td>STNWG</td>\n",
       "      <td>1</td>\n",
       "      <td>M</td>\n",
       "      <td>A</td>\n",
       "      <td>3</td>\n",
       "      <td>petrol</td>\n",
       "      <td>158</td>\n",
       "      <td>76.0</td>\n",
       "      <td>...</td>\n",
       "      <td>S</td>\n",
       "      <td>1</td>\n",
       "      <td>weekday</td>\n",
       "      <td>6am - 12pm</td>\n",
       "      <td>12</td>\n",
       "      <td>683.749691</td>\n",
       "      <td>0.0</td>\n",
       "      <td>0</td>\n",
       "      <td>0</td>\n",
       "      <td>0.0</td>\n",
       "    </tr>\n",
       "    <tr>\n",
       "      <th>3</th>\n",
       "      <td>4.90</td>\n",
       "      <td>0.465244</td>\n",
       "      <td>STNWG</td>\n",
       "      <td>1</td>\n",
       "      <td>F</td>\n",
       "      <td>A</td>\n",
       "      <td>3</td>\n",
       "      <td>petrol</td>\n",
       "      <td>159</td>\n",
       "      <td>58.0</td>\n",
       "      <td>...</td>\n",
       "      <td>M</td>\n",
       "      <td>1</td>\n",
       "      <td>weekday</td>\n",
       "      <td>6pm - 12am</td>\n",
       "      <td>6</td>\n",
       "      <td>653.656117</td>\n",
       "      <td>1.0</td>\n",
       "      <td>0</td>\n",
       "      <td>0</td>\n",
       "      <td>0.0</td>\n",
       "    </tr>\n",
       "    <tr>\n",
       "      <th>4</th>\n",
       "      <td>0.48</td>\n",
       "      <td>0.271039</td>\n",
       "      <td>PANVN</td>\n",
       "      <td>4</td>\n",
       "      <td>M</td>\n",
       "      <td>A</td>\n",
       "      <td>4</td>\n",
       "      <td>petrol</td>\n",
       "      <td>80</td>\n",
       "      <td>72.0</td>\n",
       "      <td>...</td>\n",
       "      <td>S</td>\n",
       "      <td>1</td>\n",
       "      <td>weekday</td>\n",
       "      <td>12pm - 6pm</td>\n",
       "      <td>12</td>\n",
       "      <td>642.574671</td>\n",
       "      <td>0.0</td>\n",
       "      <td>0</td>\n",
       "      <td>0</td>\n",
       "      <td>0.0</td>\n",
       "    </tr>\n",
       "    <tr>\n",
       "      <th>5</th>\n",
       "      <td>0.85</td>\n",
       "      <td>0.141624</td>\n",
       "      <td>SEDAN</td>\n",
       "      <td>4</td>\n",
       "      <td>F</td>\n",
       "      <td>A</td>\n",
       "      <td>5</td>\n",
       "      <td>petrol</td>\n",
       "      <td>126</td>\n",
       "      <td>91.0</td>\n",
       "      <td>...</td>\n",
       "      <td>S</td>\n",
       "      <td>0</td>\n",
       "      <td>weekday</td>\n",
       "      <td>6am - 12pm</td>\n",
       "      <td>6</td>\n",
       "      <td>647.175035</td>\n",
       "      <td>0.0</td>\n",
       "      <td>0</td>\n",
       "      <td>0</td>\n",
       "      <td>0.0</td>\n",
       "    </tr>\n",
       "  </tbody>\n",
       "</table>\n",
       "<p>5 rows × 21 columns</p>\n",
       "</div>"
      ],
      "text/plain": [
       "    veh_value  exposure veh_body  veh_age gender area  agecat engine_type  \\\n",
       "id                                                                          \n",
       "1        0.77  0.444504    SEDAN        4      M    D       3      petrol   \n",
       "2        4.45  0.562183    STNWG        1      M    A       3      petrol   \n",
       "3        4.90  0.465244    STNWG        1      F    A       3      petrol   \n",
       "4        0.48  0.271039    PANVN        4      M    A       4      petrol   \n",
       "5        0.85  0.141624    SEDAN        4      F    A       5      petrol   \n",
       "\n",
       "    max_power  driving_history_score  ... marital_status e_bill  \\\n",
       "id                                    ...                         \n",
       "1         147                   67.0  ...              S      1   \n",
       "2         158                   76.0  ...              S      1   \n",
       "3         159                   58.0  ...              M      1   \n",
       "4          80                   72.0  ...              S      1   \n",
       "5         126                   91.0  ...              S      0   \n",
       "\n",
       "    time_of_week_driven time_driven trm_len  credit_score  high_education_ind  \\\n",
       "id                                                                              \n",
       "1               weekday  6pm - 12am       6    640.448137                 1.0   \n",
       "2               weekday  6am - 12pm      12    683.749691                 0.0   \n",
       "3               weekday  6pm - 12am       6    653.656117                 1.0   \n",
       "4               weekday  12pm - 6pm      12    642.574671                 0.0   \n",
       "5               weekday  6am - 12pm       6    647.175035                 0.0   \n",
       "\n",
       "    clm  numclaims  claimcst0  \n",
       "id                             \n",
       "1     0          0        0.0  \n",
       "2     0          0        0.0  \n",
       "3     0          0        0.0  \n",
       "4     0          0        0.0  \n",
       "5     0          0        0.0  \n",
       "\n",
       "[5 rows x 21 columns]"
      ]
     },
     "execution_count": 3,
     "metadata": {},
     "output_type": "execute_result"
    }
   ],
   "source": [
    "data.head()"
   ]
  },
  {
   "cell_type": "code",
   "execution_count": 4,
   "id": "75a4c879-79c3-42ef-8b58-ffd74898f16a",
   "metadata": {
    "tags": []
   },
   "outputs": [
    {
     "data": {
      "text/plain": [
       "veh_value                0\n",
       "exposure                 0\n",
       "veh_body                 0\n",
       "veh_age                  0\n",
       "gender                   0\n",
       "area                     0\n",
       "agecat                   0\n",
       "engine_type              0\n",
       "max_power                0\n",
       "driving_history_score    0\n",
       "veh_color                0\n",
       "marital_status           0\n",
       "e_bill                   0\n",
       "time_of_week_driven      0\n",
       "time_driven              0\n",
       "trm_len                  0\n",
       "credit_score             0\n",
       "high_education_ind       0\n",
       "clm                      0\n",
       "numclaims                0\n",
       "claimcst0                0\n",
       "dtype: int64"
      ]
     },
     "execution_count": 4,
     "metadata": {},
     "output_type": "execute_result"
    }
   ],
   "source": [
    "# check for null values\n",
    "data.isnull().sum()"
   ]
  },
  {
   "cell_type": "code",
   "execution_count": 5,
   "id": "dc3b09f4-d3d6-4811-ad47-8316a5d1c797",
   "metadata": {
    "tags": []
   },
   "outputs": [],
   "source": [
    "# plt.figure(figsize=(20,20))\n",
    "# newdata = data.drop(['clm', 'numclaims', 'claimcst0'], axis=1)\n",
    "# sns.heatmap(newdata.corr(), annot=True)\n",
    "# plt.show()"
   ]
  },
  {
   "cell_type": "code",
   "execution_count": 6,
   "id": "a71ad98f-b0c5-4e43-ab7e-66fd10257303",
   "metadata": {
    "tags": []
   },
   "outputs": [
    {
     "data": {
      "text/plain": [
       "Index(['veh_value', 'exposure', 'veh_body', 'veh_age', 'gender', 'area',\n",
       "       'agecat', 'engine_type', 'max_power', 'driving_history_score',\n",
       "       'veh_color', 'marital_status', 'e_bill', 'time_of_week_driven',\n",
       "       'time_driven', 'trm_len', 'credit_score', 'high_education_ind', 'clm',\n",
       "       'numclaims', 'claimcst0'],\n",
       "      dtype='object')"
      ]
     },
     "execution_count": 6,
     "metadata": {},
     "output_type": "execute_result"
    }
   ],
   "source": [
    "data.columns"
   ]
  },
  {
   "cell_type": "markdown",
   "id": "ea3e685b-2210-4f47-a5d5-7aea9b6f237d",
   "metadata": {},
   "source": [
    "## Handling Categorical Features and Transforming Integer Features"
   ]
  },
  {
   "cell_type": "code",
   "execution_count": 7,
   "id": "df7c96b6-4817-40a2-a36f-a47424f22975",
   "metadata": {
    "tags": []
   },
   "outputs": [],
   "source": [
    "data[\"high_education_ind\"] = (data[\"high_education_ind\"]).astype(int)"
   ]
  },
  {
   "cell_type": "code",
   "execution_count": 8,
   "id": "5502b2c6-0937-4b1a-8985-73d897fb3c58",
   "metadata": {
    "tags": []
   },
   "outputs": [],
   "source": [
    "def transform_to_object(lis, x):\n",
    "    for i in lis:\n",
    "        x[lis] = x[lis].astype(str)"
   ]
  },
  {
   "cell_type": "code",
   "execution_count": 9,
   "id": "206502f6-6263-47e4-99d9-fae0c35e1d3e",
   "metadata": {
    "tags": []
   },
   "outputs": [],
   "source": [
    "transform_to_object(['veh_age', 'agecat', 'e_bill', 'trm_len', 'high_education_ind'], data)"
   ]
  },
  {
   "cell_type": "code",
   "execution_count": 10,
   "id": "dc95c196-be42-4c69-a0a1-76f5a0084467",
   "metadata": {
    "tags": []
   },
   "outputs": [
    {
     "name": "stdout",
     "output_type": "stream",
     "text": [
      "<class 'pandas.core.frame.DataFrame'>\n",
      "Int64Index: 22619 entries, 1 to 22619\n",
      "Data columns (total 21 columns):\n",
      " #   Column                 Non-Null Count  Dtype  \n",
      "---  ------                 --------------  -----  \n",
      " 0   veh_value              22619 non-null  float64\n",
      " 1   exposure               22619 non-null  float64\n",
      " 2   veh_body               22619 non-null  object \n",
      " 3   veh_age                22619 non-null  object \n",
      " 4   gender                 22619 non-null  object \n",
      " 5   area                   22619 non-null  object \n",
      " 6   agecat                 22619 non-null  object \n",
      " 7   engine_type            22619 non-null  object \n",
      " 8   max_power              22619 non-null  int64  \n",
      " 9   driving_history_score  22619 non-null  float64\n",
      " 10  veh_color              22619 non-null  object \n",
      " 11  marital_status         22619 non-null  object \n",
      " 12  e_bill                 22619 non-null  object \n",
      " 13  time_of_week_driven    22619 non-null  object \n",
      " 14  time_driven            22619 non-null  object \n",
      " 15  trm_len                22619 non-null  object \n",
      " 16  credit_score           22619 non-null  float64\n",
      " 17  high_education_ind     22619 non-null  object \n",
      " 18  clm                    22619 non-null  int64  \n",
      " 19  numclaims              22619 non-null  int64  \n",
      " 20  claimcst0              22619 non-null  float64\n",
      "dtypes: float64(5), int64(3), object(13)\n",
      "memory usage: 3.8+ MB\n"
     ]
    }
   ],
   "source": [
    "data.info()"
   ]
  },
  {
   "cell_type": "code",
   "execution_count": 11,
   "id": "26b71062-7fdc-444d-9adf-3c06323f4666",
   "metadata": {
    "tags": []
   },
   "outputs": [],
   "source": [
    "# pd.set_option(\"display.max_rows\", None)\n",
    "\n",
    "# data.claimcst0.value_counts().sort_index()"
   ]
  },
  {
   "cell_type": "markdown",
   "id": "20a8ba7b-2c2b-419e-abe2-84850e1088c8",
   "metadata": {},
   "source": [
    "## Visualize continuous features and transformation "
   ]
  },
  {
   "cell_type": "markdown",
   "id": "adabe828-a6f7-4d56-b1c9-1be9d73ba31c",
   "metadata": {},
   "source": [
    "### Boxplot for 'max_power'"
   ]
  },
  {
   "cell_type": "code",
   "execution_count": 12,
   "id": "eeb6d879-e35f-4b9c-bdea-4d5be94f8e7e",
   "metadata": {
    "tags": []
   },
   "outputs": [
    {
     "data": {
      "image/png": "[encoded data removed]",
      "text/plain": [
       "<Figure size 1200x600 with 2 Axes>"
      ]
     },
     "metadata": {},
     "output_type": "display_data"
    }
   ],
   "source": [
    "plt.figure(figsize=(12, 6))\n",
    "plt.subplot(1, 2, 1)\n",
    "plt.boxplot(data['max_power'], \n",
    "            labels=['max_power'])\n",
    "\n",
    "plt.title('Boxplot of Max_Power')\n",
    "plt.ylabel('Scores')\n",
    "\n",
    "\n",
    "plt.subplot(1, 2, 2)\n",
    "plt.boxplot(np.log1p(data['max_power']), \n",
    "            labels=['max_power'])\n",
    "\n",
    "plt.title('Boxplot of log max_power')\n",
    "plt.ylabel('Scores')\n",
    "plt.show()\n",
    "plt.show()"
   ]
  },
  {
   "cell_type": "code",
   "execution_count": 13,
   "id": "bc2b33f3-5731-420c-9db5-d55ad4226a6d",
   "metadata": {
    "tags": []
   },
   "outputs": [
    {
     "data": {
      "image/png": "[encoded data removed]",
      "text/plain": [
       "<Figure size 1000x400 with 2 Axes>"
      ]
     },
     "metadata": {},
     "output_type": "display_data"
    }
   ],
   "source": [
    "plt.figure(figsize=(10, 4))\n",
    "plt.subplot(1, 2, 1)\n",
    "plt.hist(data['max_power'], bins=15, color= 'red', alpha=.35, edgecolor='black')\n",
    "plt.title('Histogram of Max_Power')\n",
    "plt.ylabel('Frequency')\n",
    "\n",
    "\n",
    "plt.subplot(1, 2, 2)\n",
    "plt.hist(np.log1p(data['max_power']), bins=15, color= 'red', alpha=.35, edgecolor='black')\n",
    "plt.title('Histogram of log Max_Power')\n",
    "plt.ylabel('Frequency')\n",
    "\n",
    "plt.show()\n",
    "plt.show()\n",
    "\n",
    "data['max_power'] = np.log1p(data['max_power'])"
   ]
  },
  {
   "cell_type": "code",
   "execution_count": 14,
   "id": "b2ce764b-75e9-468b-9d94-be867c90dc87",
   "metadata": {
    "tags": []
   },
   "outputs": [
    {
     "data": {
      "image/png": "[encoded data removed]",
      "text/plain": [
       "<Figure size 1000x400 with 2 Axes>"
      ]
     },
     "metadata": {},
     "output_type": "display_data"
    }
   ],
   "source": [
    "plt.figure(figsize=(10, 4))\n",
    "plt.subplot(1, 2, 1)\n",
    "plt.boxplot(data['driving_history_score'], \n",
    "            labels=['driving_history_score'])\n",
    "\n",
    "plt.title(\"Boxplot of 'driving_history_score'\")\n",
    "plt.ylabel('Scores')\n",
    "\n",
    "\n",
    "plt.subplot(1, 2, 2)\n",
    "plt.boxplot(np.square(data['driving_history_score']), \n",
    "            labels=['driving_history_score'])\n",
    "\n",
    "plt.title(\"Boxplot of 'driving_history_score'\")\n",
    "plt.ylabel('Scores')\n",
    "plt.show()\n",
    "plt.show()"
   ]
  },
  {
   "cell_type": "code",
   "execution_count": 15,
   "id": "e518ec2a-9dff-4140-9fc7-37c42cfd512a",
   "metadata": {
    "tags": []
   },
   "outputs": [
    {
     "data": {
      "image/png": "[encoded data removed]",
      "text/plain": [
       "<Figure size 1000x400 with 2 Axes>"
      ]
     },
     "metadata": {},
     "output_type": "display_data"
    }
   ],
   "source": [
    "plt.figure(figsize=(10, 4))\n",
    "plt.subplot(1, 2, 1)\n",
    "plt.hist(data['driving_history_score'], bins=15, color= 'red', alpha=.35, edgecolor='black')\n",
    "\n",
    "plt.title(\"Histogram of 'driving_history_score'\")\n",
    "plt.xlabel('driving_history_score')\n",
    "plt.ylabel('Frequency')\n",
    "\n",
    "\n",
    "plt.subplot(1, 2, 2)\n",
    "plt.hist(np.square(data['driving_history_score']), bins=15, color= 'red', alpha=.35, edgecolor='black')\n",
    "\n",
    "plt.title(\"Histogram of squared ('driving_history_score')\")\n",
    "plt.xlabel('driving_history_score')\n",
    "plt.ylabel('Frequency')\n",
    "plt.show()\n",
    "plt.show()\n",
    "\n",
    "data['driving_history_score'] = np.square(data['driving_history_score'])"
   ]
  },
  {
   "cell_type": "code",
   "execution_count": 16,
   "id": "11e2a3a4-7d69-4fa9-8104-5b1bdf2f8f10",
   "metadata": {
    "tags": []
   },
   "outputs": [
    {
     "data": {
      "image/png": "[encoded data removed]",
      "text/plain": [
       "<Figure size 1000x400 with 2 Axes>"
      ]
     },
     "metadata": {},
     "output_type": "display_data"
    }
   ],
   "source": [
    "plt.figure(figsize=(10, 4))\n",
    "plt.subplot(1, 2, 1)\n",
    "plt.boxplot(data['veh_value'], \n",
    "            labels=['veh_value'])\n",
    "\n",
    "plt.title(\"Boxplot of 'veh_value'\")\n",
    "plt.ylabel('Scores')\n",
    "\n",
    "\n",
    "plt.subplot(1, 2, 2)\n",
    "plt.boxplot(yeojohnson(data['veh_value'])[0], \n",
    "            labels=['veh_value'])\n",
    "\n",
    "plt.title(\"Boxplot of 'veh_value'\")\n",
    "plt.ylabel('Scores')\n",
    "plt.show()\n",
    "plt.show()"
   ]
  },
  {
   "cell_type": "code",
   "execution_count": 17,
   "id": "f8ecbbe7-b338-4968-82e7-68e80d54acbe",
   "metadata": {
    "tags": []
   },
   "outputs": [
    {
     "data": {
      "image/png": "[encoded data removed]",
      "text/plain": [
       "<Figure size 1000x400 with 2 Axes>"
      ]
     },
     "metadata": {},
     "output_type": "display_data"
    }
   ],
   "source": [
    "plt.figure(figsize=(10, 4))\n",
    "plt.subplot(1, 2, 1)\n",
    "plt.hist((data['veh_value']), bins=15, color= 'red', alpha=.35, edgecolor='black')\n",
    "\n",
    "plt.title(\"Histogram of 'veh_value'\")\n",
    "plt.ylabel('Frequency')\n",
    "\n",
    "\n",
    "plt.subplot(1, 2, 2)\n",
    "plt.hist(yeojohnson(data['veh_value'])[0], bins=15, color= 'red', alpha=.35, edgecolor='black')\n",
    "\n",
    "plt.title(\"Histogram of transformed 'veh_value'\")\n",
    "plt.ylabel('Frequency')\n",
    "plt.show()\n",
    "plt.show()\n",
    "\n",
    "data['veh_value'] = yeojohnson(data['veh_value'])[0]"
   ]
  },
  {
   "cell_type": "code",
   "execution_count": 18,
   "id": "dcc0d9fe-04b9-41b7-8509-7fe09f9839ad",
   "metadata": {},
   "outputs": [
    {
     "data": {
      "image/png": "[encoded data removed]",
      "text/plain": [
       "<Figure size 1000x400 with 2 Axes>"
      ]
     },
     "metadata": {},
     "output_type": "display_data"
    }
   ],
   "source": [
    "plt.figure(figsize=(10, 4))\n",
    "plt.subplot(1, 2, 1)\n",
    "plt.boxplot(data['exposure'], \n",
    "            labels=['exposure'])\n",
    "\n",
    "plt.title(\"Boxplot of 'exposure'\")\n",
    "plt.ylabel('Scores')\n",
    "\n",
    "\n",
    "plt.subplot(1, 2, 2)\n",
    "plt.boxplot(np.log1p(data['exposure']), \n",
    "            labels=['exposure'])\n",
    "\n",
    "plt.title(\"Boxplot of transformed 'exposure'\")\n",
    "plt.ylabel('Scores')\n",
    "plt.show()\n",
    "plt.show()\n"
   ]
  },
  {
   "cell_type": "code",
   "execution_count": 19,
   "id": "2a6f5551-7d59-449a-a155-ac30f369a76c",
   "metadata": {
    "tags": []
   },
   "outputs": [
    {
     "data": {
      "image/png": "[encoded data removed]",
      "text/plain": [
       "<Figure size 1000x400 with 2 Axes>"
      ]
     },
     "metadata": {},
     "output_type": "display_data"
    }
   ],
   "source": [
    "plt.figure(figsize=(10, 4))\n",
    "plt.subplot(1, 2, 1)\n",
    "plt.hist(data['exposure'], bins=20, color= 'red', alpha=.35, edgecolor='black')\n",
    "\n",
    "plt.title(\"Histogram of 'exposure'\")\n",
    "plt.ylabel('Scores')\n",
    "\n",
    "\n",
    "plt.subplot(1, 2, 2)\n",
    "plt.hist(np.log1p(data['exposure']), bins=20, color= 'red', alpha=.35, edgecolor='black')\n",
    "\n",
    "plt.title(\"Histogram of transformed 'exposure'\")\n",
    "plt.ylabel('Scores')\n",
    "plt.show()\n",
    "plt.show()\n",
    "\n",
    "data['exposure'] = np.log1p(data['exposure'])"
   ]
  },
  {
   "cell_type": "code",
   "execution_count": 20,
   "id": "51d8011d-a5b0-488d-86f6-9155ec2aaf6d",
   "metadata": {},
   "outputs": [
    {
     "data": {
      "image/png": "[encoded data removed]",
      "text/plain": [
       "<Figure size 1000x400 with 2 Axes>"
      ]
     },
     "metadata": {},
     "output_type": "display_data"
    }
   ],
   "source": [
    "plt.figure(figsize=(10, 4))\n",
    "plt.subplot(1, 2, 1)\n",
    "plt.boxplot(data['credit_score'], \n",
    "            labels=['credit_score'])\n",
    "\n",
    "plt.title('Boxplot of Sentiment Scores')\n",
    "plt.ylabel('Scores')\n",
    "\n",
    "data.drop(data[data['credit_score'] > 750].index, inplace=True)\n",
    "\n",
    "plt.subplot(1, 2, 2)\n",
    "plt.boxplot(data['credit_score'], \n",
    "            labels=['credit_score'])\n",
    "\n",
    "plt.title('Boxplot of Sentiment Scores')\n",
    "plt.ylabel('Scores')\n",
    "\n",
    "plt.show()\n",
    "plt.show()"
   ]
  },
  {
   "cell_type": "code",
   "execution_count": 21,
   "id": "1516dc1e-14cf-4632-8ddb-6b7fee523886",
   "metadata": {
    "tags": []
   },
   "outputs": [
    {
     "data": {
      "image/png": "[encoded data removed]",
      "text/plain": [
       "<Figure size 640x480 with 1 Axes>"
      ]
     },
     "metadata": {},
     "output_type": "display_data"
    }
   ],
   "source": [
    "plt.hist(np.log1p(data['credit_score']), bins=15, color= 'red', alpha=.35, edgecolor='black')\n",
    "plt.show()\n",
    "\n",
    "data['credit_score'] = np.log1p(data['credit_score'])"
   ]
  },
  {
   "cell_type": "code",
   "execution_count": 22,
   "id": "1d15d0df-cb2d-4a74-8283-7bd1e43123d1",
   "metadata": {
    "tags": []
   },
   "outputs": [
    {
     "data": {
      "text/plain": [
       "[57895.58456,\n",
       " 56003.82641,\n",
       " 36312.62442,\n",
       " 33895.13576,\n",
       " 33433.16938,\n",
       " 29661.34782,\n",
       " 29614.53557,\n",
       " 23942.69883,\n",
       " 23488.52221,\n",
       " 22587.59574]"
      ]
     },
     "execution_count": 22,
     "metadata": {},
     "output_type": "execute_result"
    }
   ],
   "source": [
    "sorted(data['claimcst0'], reverse=True)[:10]"
   ]
  },
  {
   "cell_type": "code",
   "execution_count": 23,
   "id": "1942752a-73ef-47af-b8a4-d8fed9903145",
   "metadata": {
    "tags": []
   },
   "outputs": [
    {
     "data": {
      "image/png": "[encoded data removed]",
      "text/plain": [
       "<Figure size 1000x400 with 2 Axes>"
      ]
     },
     "metadata": {},
     "output_type": "display_data"
    }
   ],
   "source": [
    "plt.figure(figsize=(10, 4))\n",
    "plt.subplot(1, 2, 1)\n",
    "plt.boxplot(data['claimcst0'], \n",
    "            labels=['claimcst0'])\n",
    "\n",
    "plt.title('Boxplot of Sentiment Scores')\n",
    "plt.ylabel('Scores')\n",
    "\n",
    "data = data.drop(data[data['claimcst0'] > 50000].index)\n",
    "\n",
    "plt.subplot(1, 2, 2)\n",
    "plt.boxplot(data['claimcst0'], \n",
    "            labels=['claimcst0'])\n",
    "\n",
    "plt.title('Boxplot of Sentiment Scores')\n",
    "plt.ylabel('Scores')\n",
    "plt.show()\n",
    "plt.show()\n",
    "\n"
   ]
  },
  {
   "cell_type": "code",
   "execution_count": 24,
   "id": "fcff6f7e-0106-4493-9b79-0d51fee30552",
   "metadata": {
    "tags": []
   },
   "outputs": [
    {
     "name": "stdout",
     "output_type": "stream",
     "text": [
      "The percentage of Zero Claim Cost: 93.2%\n",
      "The percentage of Claim Cost NOT Zero: 6.8%\n"
     ]
    }
   ],
   "source": [
    "a, b = (len(data[data['claimcst0'] == 0])/data.shape[0]), (len(data[data['claimcst0'] > 0])/data.shape[0])\n",
    "print(f\"The percentage of Zero Claim Cost: {np.round(a*100, 2)}%\")\n",
    "print(f\"The percentage of Claim Cost NOT Zero: {np.round(b*100, 2)}%\")"
   ]
  },
  {
   "cell_type": "code",
   "execution_count": 25,
   "id": "b6235d0a-f9c9-4dc5-89c3-35ba13e7e5bf",
   "metadata": {
    "tags": []
   },
   "outputs": [
    {
     "data": {
      "image/png": "[encoded data removed]",
      "text/plain": [
       "<Figure size 640x480 with 1 Axes>"
      ]
     },
     "metadata": {},
     "output_type": "display_data"
    }
   ],
   "source": [
    "\n",
    "# Create a bar chart\n",
    "plt.bar(['zero', 'not zero'], [len(data[data['claimcst0'] == 0]), len(data[data['claimcst0'] > 0])], color=['saddlebrown', 'green'],\n",
    "       width=0.8)\n",
    "\n",
    "plt.title('Number of Reviews Mentioning Zero vs Not Zero Claim Cost')\n",
    "plt.ylabel('Count')\n",
    "plt.tight_layout()\n",
    "plt.show()"
   ]
  },
  {
   "cell_type": "code",
   "execution_count": 26,
   "id": "bcf58f4a-9274-4282-b291-edfd62ac7e6c",
   "metadata": {
    "tags": []
   },
   "outputs": [
    {
     "data": {
      "image/png": "[encoded data removed]",
      "text/plain": [
       "<Figure size 1000x400 with 1 Axes>"
      ]
     },
     "metadata": {},
     "output_type": "display_data"
    }
   ],
   "source": [
    "plt.figure(figsize=(10, 4))\n",
    "plt.subplot(1, 2, 1)\n",
    "sns.histplot(np.log1p((data[data['claimcst0'] > 0]['claimcst0'])))\n",
    "\n",
    "plt.title('Distribution of claim cost')\n",
    "plt.ylabel('Scores')\n",
    "\n",
    "data['claimcst0'] = np.log1p(data['claimcst0'])"
   ]
  },
  {
   "cell_type": "code",
   "execution_count": 27,
   "id": "dd95bcc0-14ff-4c6a-a3c5-cc3e31ed72c2",
   "metadata": {
    "tags": []
   },
   "outputs": [],
   "source": [
    "def encoder(x):\n",
    "    for column in x.columns:\n",
    "        if x[column].dtype == 'object':\n",
    "            target_encoder = TargetEncoder()\n",
    "            x[column] = target_encoder.fit_transform(x[column], data['claimcst0'])\n",
    "    return x"
   ]
  },
  {
   "cell_type": "code",
   "execution_count": 28,
   "id": "b9ba172a-86ac-4e83-834a-68048be5719b",
   "metadata": {
    "tags": []
   },
   "outputs": [],
   "source": [
    "scaler1 = MinMaxScaler()\n",
    "scaler2 = MinMaxScaler()"
   ]
  },
  {
   "cell_type": "code",
   "execution_count": 29,
   "id": "23b6c34f-6085-4723-882c-d99ca6e15fd0",
   "metadata": {
    "tags": []
   },
   "outputs": [],
   "source": [
    "data = encoder(data)\n",
    "Y = data['claimcst0']\n",
    "data.drop(['claimcst0'], axis=1, inplace=True)\n",
    "data_norm = scaler1.fit_transform(data)\n",
    "data = pd.DataFrame(data_norm, columns=data.columns)\n",
    "Y = scaler2.fit_transform(np.array(Y).reshape(-1, 1))"
   ]
  },
  {
   "cell_type": "markdown",
   "id": "afd8407e-cc9b-4e61-b890-6207441a2418",
   "metadata": {},
   "source": [
    "## Respose and Target variable"
   ]
  },
  {
   "cell_type": "markdown",
   "id": "de9ca1de-09a8-49cc-90e2-7d14d9b59211",
   "metadata": {},
   "source": [
    "## Train test split"
   ]
  },
  {
   "cell_type": "code",
   "execution_count": 30,
   "id": "ab6a3503-1f4b-44ed-ae98-9995aebbf8e3",
   "metadata": {
    "tags": []
   },
   "outputs": [],
   "source": [
    "x_train, x_test, y_train, y_test = train_test_split(data, Y, test_size=0.1, random_state=5400)"
   ]
  },
  {
   "cell_type": "code",
   "execution_count": 31,
   "id": "1b1b2d92-8ac7-420f-a94d-e6f0478a897a",
   "metadata": {
    "tags": []
   },
   "outputs": [
    {
     "data": {
      "text/plain": [
       "((20354, 20), (2262, 20), (20354, 1), (2262, 1))"
      ]
     },
     "execution_count": 31,
     "metadata": {},
     "output_type": "execute_result"
    }
   ],
   "source": [
    "x_train.shape, x_test.shape, y_train.shape, y_test.shape"
   ]
  },
  {
   "cell_type": "code",
   "execution_count": 32,
   "id": "95d83573-94a5-4fee-8872-a05940d60211",
   "metadata": {
    "tags": []
   },
   "outputs": [],
   "source": [
    "x_train_clm = x_train.iloc[:, :-2]"
   ]
  },
  {
   "cell_type": "code",
   "execution_count": 33,
   "id": "23b44fac-950f-45d2-bdb6-d76a5d3445b8",
   "metadata": {
    "tags": []
   },
   "outputs": [],
   "source": [
    "y_train_clm = x_train.iloc[:, -2]"
   ]
  },
  {
   "cell_type": "code",
   "execution_count": 34,
   "id": "69d01a62-e35e-45a3-bbff-25aa7249cb7e",
   "metadata": {
    "tags": []
   },
   "outputs": [],
   "source": [
    "x_train_numclm = x_train.iloc[:, :-1]"
   ]
  },
  {
   "cell_type": "code",
   "execution_count": 35,
   "id": "6a4d0338-3cd4-423e-a7f6-c28cacb9f333",
   "metadata": {
    "tags": []
   },
   "outputs": [],
   "source": [
    "y_train_numclm = x_train.iloc[:, -1]"
   ]
  },
  {
   "cell_type": "code",
   "execution_count": 36,
   "id": "1d7241d0-a060-447c-99bb-45c9ababfa0b",
   "metadata": {
    "tags": []
   },
   "outputs": [],
   "source": [
    "x_test_clm = x_test.iloc[:, :-2]"
   ]
  },
  {
   "cell_type": "code",
   "execution_count": 37,
   "id": "31fa40d4-ea57-48f1-a5e5-41351bf98d7d",
   "metadata": {
    "tags": []
   },
   "outputs": [],
   "source": [
    "x_test_numclm = x_test.iloc[:, :-1]"
   ]
  },
  {
   "cell_type": "code",
   "execution_count": 38,
   "id": "228de31f-612f-4387-80ea-b40433a46e91",
   "metadata": {
    "tags": []
   },
   "outputs": [],
   "source": [
    "y_test_clm = x_test.iloc[:, -2]"
   ]
  },
  {
   "cell_type": "code",
   "execution_count": 39,
   "id": "ac82feb4-93bc-417a-9ace-74b13cd47232",
   "metadata": {
    "tags": []
   },
   "outputs": [],
   "source": [
    "y_test_numclm = x_test.iloc[:, -1]"
   ]
  },
  {
   "cell_type": "markdown",
   "id": "fbcd44a3-ab00-406c-ac4b-cdb64e001ddb",
   "metadata": {},
   "source": [
    "## 3. Random under-sampling with imblearn"
   ]
  },
  {
   "cell_type": "code",
   "execution_count": 40,
   "id": "f082ead8-6864-4d2a-b198-4b50572d2a72",
   "metadata": {
    "tags": []
   },
   "outputs": [],
   "source": [
    "# df_train = pd.concat([x_train_clm, y_train_clm], axis=1)\n",
    "# majority_class = df_train[df_train['clm'] == 0]\n",
    "# minority_class = df_train[df_train['clm'] == 1]\n",
    "# majority_class.shape, minority_class.shape\n",
    "# majority_class_undersampled = resample(majority_class, replace=False, n_samples=10000, random_state=42)\n",
    "# minority_class_oversampled = resample(minority_class, replace=True, n_samples=5000, random_state=42)\n",
    "# minority_class_oversampled.shape, majority_class_undersampled.shape\n",
    "# undersampled_df = pd.concat([minority_class_oversampled, majority_class_undersampled])\n",
    "# y_train_clm = undersampled_df[\"clm\"]\n",
    "# undersampled_df.drop([\"clm\"], axis=1, inplace=True)\n",
    "# x_train_clm = undersampled_df"
   ]
  },
  {
   "cell_type": "code",
   "execution_count": 41,
   "id": "e27ab5b1-90fb-4ab2-8626-9eaa7b901f1d",
   "metadata": {
    "tags": []
   },
   "outputs": [],
   "source": [
    "ros = RandomOverSampler(random_state=42)\n",
    "rus = RandomUnderSampler(random_state=42)\n",
    "sm = SMOTE(random_state=42)\n",
    "x_ros, y_ros = ros.fit_resample(x_train_clm, y_train_clm)\n",
    "x_rus, y_rus = rus.fit_resample(x_train_clm, y_train_clm)\n",
    "x_sm, y_sm = sm.fit_resample(x_train_clm, y_train_clm)"
   ]
  },
  {
   "cell_type": "code",
   "execution_count": null,
   "id": "88ece6ae-ed8b-44c3-998e-9a852f960f37",
   "metadata": {
    "tags": []
   },
   "outputs": [],
   "source": [
    "x_ros.shape, y_ros.shape, x_rus.shape, y_rus.shape, x_sm.shape, y_sm.shape"
   ]
  },
  {
   "cell_type": "code",
   "execution_count": null,
   "id": "7c8b596c-e7db-484e-be6e-6be538b48592",
   "metadata": {
    "tags": []
   },
   "outputs": [],
   "source": [
    "from sklearn.utils.class_weight import compute_class_weight\n",
    "\n",
    "# Calculate class weights using 'balanced' strategy\n",
    "weights = compute_class_weight('balanced', classes=[0, 1], y=y_train_clm)\n",
    "\n",
    "# Display the calculated class weights\n",
    "print(\"Class Weights:\", weights)\n"
   ]
  },
  {
   "cell_type": "code",
   "execution_count": null,
   "id": "e67a988a-d49c-45aa-ab90-2aa8fa5ecdee",
   "metadata": {},
   "outputs": [],
   "source": [
    "'n_estimators': [50, 100, 200, 300, 500, 1000],\n",
    "        'max_depth': [50, 100, 200, 500, 1000],\n",
    "        'max_leaf_nodes': [10, 20, 50, 100, 200],\n",
    "        'class_weight': [{0: 0.75, 1: 1.5}, {0: 0.5, 1: 1}, {0: 0.7, 1: 2}, {0: 1, 1: 2.5}, {0: 1, 1: 3}],\n",
    "        'max_features': ['sqrt', 'log2'],\n",
    "        'min_samples_leaf': [2, 3, 5, 10, 50]"
   ]
  },
  {
   "cell_type": "code",
   "execution_count": null,
   "id": "3d13720e-99bf-45e4-a786-2e3dded443f8",
   "metadata": {
    "tags": []
   },
   "outputs": [],
   "source": [
    "mod = GridSearchCV(\n",
    "    estimator=RandomForestClassifier(random_state=5400), \n",
    "    param_grid={\n",
    "        'n_estimators': [100],\n",
    "        'max_depth': [200],\n",
    "        'max_leaf_nodes': [200],\n",
    "        'class_weight': [{0: 1, 1: 1}],\n",
    "        'max_features': ['sqrt'],\n",
    "        'min_samples_leaf': [3]\n",
    "        \n",
    "        },\n",
    "    cv=5)"
   ]
  },
  {
   "cell_type": "code",
   "execution_count": null,
   "id": "2fdd403f-3af2-4419-ba5e-66f671702d43",
   "metadata": {
    "tags": []
   },
   "outputs": [],
   "source": [
    "mod.fit(x_ros, y_ros)"
   ]
  },
  {
   "cell_type": "code",
   "execution_count": null,
   "id": "d5df7666-3328-4572-8d0d-b7872db7b13f",
   "metadata": {
    "tags": []
   },
   "outputs": [],
   "source": [
    "pred = mod.predict(x_test_clm)\n",
    "m = metrics.confusion_matrix(y_test_clm, pred)"
   ]
  },
  {
   "cell_type": "code",
   "execution_count": null,
   "id": "9a9e6bab-b347-431a-8804-cd81a0b6eedd",
   "metadata": {
    "tags": []
   },
   "outputs": [],
   "source": [
    "# check performance\n",
    "roc = roc_auc_score(y_test_clm, pred)\n",
    "acc = accuracy_score(y_test_clm, pred)\n",
    "f1 = f1_score(y_test_clm, pred)\n",
    "\n",
    "print(f'ROCAUC score: {roc}')\n",
    "print(f'Accuracy score: {acc}')\n",
    "print(f'F1 score: {f1}')"
   ]
  },
  {
   "cell_type": "code",
   "execution_count": null,
   "id": "48a7f104-7d49-44a6-b756-11d6205eed3b",
   "metadata": {
    "tags": []
   },
   "outputs": [],
   "source": [
    "n = [['NS', 5, m, roc, acc, f1]]\n",
    "col = ['sampling', 'fold', 'conf_matrix', 'roc_curve', 'accurancy', 'f1_score']"
   ]
  },
  {
   "cell_type": "code",
   "execution_count": null,
   "id": "fb02795f-0cca-4029-a7ec-a73af74def34",
   "metadata": {
    "tags": []
   },
   "outputs": [],
   "source": [
    "# results = pd.DataFrame(columns=col)"
   ]
  },
  {
   "cell_type": "code",
   "execution_count": null,
   "id": "ae0cb441-0e23-4b4a-8026-ab97a5c32387",
   "metadata": {
    "tags": []
   },
   "outputs": [],
   "source": [
    "results = results.append(pd.DataFrame(n, columns=col), ignore_index=True)"
   ]
  },
  {
   "cell_type": "code",
   "execution_count": null,
   "id": "9a58254a-2fba-404a-9079-78eec23af366",
   "metadata": {
    "tags": []
   },
   "outputs": [],
   "source": [
    "results"
   ]
  },
  {
   "cell_type": "code",
   "execution_count": 45,
   "id": "5473116a-e9c7-427a-b6c4-560e53b60a02",
   "metadata": {
    "tags": []
   },
   "outputs": [],
   "source": [
    "\n",
    "# ada_clf = XGBClassifier(n_estimators=100, max_depth= 1, \n",
    "#                         max_leaves = 5, learning_rate=0.1)\n",
    "mod2 = GridSearchCV(\n",
    "    estimator=XGBClassifier(random_state=5400), \n",
    "    param_grid={\n",
    "        'n_estimators': [100, 200, 300],\n",
    "        'max_depth': [1, 2, 3, 5],\n",
    "        'max_leaves': [1, 2, 3, 5],\n",
    "        'learning_rate': [0.1, 0.01, 0.5, 0.05]\n",
    "        \n",
    "        },\n",
    "    cv=5)"
   ]
  },
  {
   "cell_type": "code",
   "execution_count": 46,
   "id": "89fba8db-7b15-43af-98e8-06433befb8e4",
   "metadata": {
    "tags": []
   },
   "outputs": [
    {
     "data": {
      "text/html": [
       "<style>#sk-container-id-1 {color: black;background-color: white;}#sk-container-id-1 pre{padding: 0;}#sk-container-id-1 div.sk-toggleable {background-color: white;}#sk-container-id-1 label.sk-toggleable__label {cursor: pointer;display: block;width: 100%;margin-bottom: 0;padding: 0.3em;box-sizing: border-box;text-align: center;}#sk-container-id-1 label.sk-toggleable__label-arrow:before {content: \"▸\";float: left;margin-right: 0.25em;color: #696969;}#sk-container-id-1 label.sk-toggleable__label-arrow:hover:before {color: black;}#sk-container-id-1 div.sk-estimator:hover label.sk-toggleable__label-arrow:before {color: black;}#sk-container-id-1 div.sk-toggleable__content {max-height: 0;max-width: 0;overflow: hidden;text-align: left;background-color: #f0f8ff;}#sk-container-id-1 div.sk-toggleable__content pre {margin: 0.2em;color: black;border-radius: 0.25em;background-color: #f0f8ff;}#sk-container-id-1 input.sk-toggleable__control:checked~div.sk-toggleable__content {max-height: 200px;max-width: 100%;overflow: auto;}#sk-container-id-1 input.sk-toggleable__control:checked~label.sk-toggleable__label-arrow:before {content: \"▾\";}#sk-container-id-1 div.sk-estimator input.sk-toggleable__control:checked~label.sk-toggleable__label {background-color: #d4ebff;}#sk-container-id-1 div.sk-label input.sk-toggleable__control:checked~label.sk-toggleable__label {background-color: #d4ebff;}#sk-container-id-1 input.sk-hidden--visually {border: 0;clip: rect(1px 1px 1px 1px);clip: rect(1px, 1px, 1px, 1px);height: 1px;margin: -1px;overflow: hidden;padding: 0;position: absolute;width: 1px;}#sk-container-id-1 div.sk-estimator {font-family: monospace;background-color: #f0f8ff;border: 1px dotted black;border-radius: 0.25em;box-sizing: border-box;margin-bottom: 0.5em;}#sk-container-id-1 div.sk-estimator:hover {background-color: #d4ebff;}#sk-container-id-1 div.sk-parallel-item::after {content: \"\";width: 100%;border-bottom: 1px solid gray;flex-grow: 1;}#sk-container-id-1 div.sk-label:hover label.sk-toggleable__label {background-color: #d4ebff;}#sk-container-id-1 div.sk-serial::before {content: \"\";position: absolute;border-left: 1px solid gray;box-sizing: border-box;top: 0;bottom: 0;left: 50%;z-index: 0;}#sk-container-id-1 div.sk-serial {display: flex;flex-direction: column;align-items: center;background-color: white;padding-right: 0.2em;padding-left: 0.2em;position: relative;}#sk-container-id-1 div.sk-item {position: relative;z-index: 1;}#sk-container-id-1 div.sk-parallel {display: flex;align-items: stretch;justify-content: center;background-color: white;position: relative;}#sk-container-id-1 div.sk-item::before, #sk-container-id-1 div.sk-parallel-item::before {content: \"\";position: absolute;border-left: 1px solid gray;box-sizing: border-box;top: 0;bottom: 0;left: 50%;z-index: -1;}#sk-container-id-1 div.sk-parallel-item {display: flex;flex-direction: column;z-index: 1;position: relative;background-color: white;}#sk-container-id-1 div.sk-parallel-item:first-child::after {align-self: flex-end;width: 50%;}#sk-container-id-1 div.sk-parallel-item:last-child::after {align-self: flex-start;width: 50%;}#sk-container-id-1 div.sk-parallel-item:only-child::after {width: 0;}#sk-container-id-1 div.sk-dashed-wrapped {border: 1px dashed gray;margin: 0 0.4em 0.5em 0.4em;box-sizing: border-box;padding-bottom: 0.4em;background-color: white;}#sk-container-id-1 div.sk-label label {font-family: monospace;font-weight: bold;display: inline-block;line-height: 1.2em;}#sk-container-id-1 div.sk-label-container {text-align: center;}#sk-container-id-1 div.sk-container {/* jupyter's `normalize.less` sets `[hidden] { display: none; }` but bootstrap.min.css set `[hidden] { display: none !important; }` so we also need the `!important` here to be able to override the default hidden behavior on the sphinx rendered scikit-learn.org. See: https://github.com/scikit-learn/scikit-learn/issues/21755 */display: inline-block !important;position: relative;}#sk-container-id-1 div.sk-text-repr-fallback {display: none;}</style><div id=\"sk-container-id-1\" class=\"sk-top-container\"><div class=\"sk-text-repr-fallback\"><pre>GridSearchCV(cv=5,\n",
       "             estimator=XGBClassifier(base_score=None, booster=None,\n",
       "                                     callbacks=None, colsample_bylevel=None,\n",
       "                                     colsample_bynode=None,\n",
       "                                     colsample_bytree=None, device=None,\n",
       "                                     early_stopping_rounds=None,\n",
       "                                     enable_categorical=False, eval_metric=None,\n",
       "                                     feature_types=None, gamma=None,\n",
       "                                     grow_policy=None, importance_type=None,\n",
       "                                     interaction_constraints=None,\n",
       "                                     learning_rate=None,...\n",
       "                                     max_cat_to_onehot=None,\n",
       "                                     max_delta_step=None, max_depth=None,\n",
       "                                     max_leaves=None, min_child_weight=None,\n",
       "                                     missing=nan, monotone_constraints=None,\n",
       "                                     multi_strategy=None, n_estimators=None,\n",
       "                                     n_jobs=None, num_parallel_tree=None,\n",
       "                                     random_state=5400, ...),\n",
       "             param_grid={&#x27;learning_rate&#x27;: [0.1, 0.01, 0.5, 0.05],\n",
       "                         &#x27;max_depth&#x27;: [1, 2, 3, 5], &#x27;max_leaves&#x27;: [1, 2, 3, 5],\n",
       "                         &#x27;n_estimators&#x27;: [100, 200, 300]})</pre><b>In a Jupyter environment, please rerun this cell to show the HTML representation or trust the notebook. <br />On GitHub, the HTML representation is unable to render, please try loading this page with nbviewer.org.</b></div><div class=\"sk-container\" hidden><div class=\"sk-item sk-dashed-wrapped\"><div class=\"sk-label-container\"><div class=\"sk-label sk-toggleable\"><input class=\"sk-toggleable__control sk-hidden--visually\" id=\"sk-estimator-id-1\" type=\"checkbox\" ><label for=\"sk-estimator-id-1\" class=\"sk-toggleable__label sk-toggleable__label-arrow\">GridSearchCV</label><div class=\"sk-toggleable__content\"><pre>GridSearchCV(cv=5,\n",
       "             estimator=XGBClassifier(base_score=None, booster=None,\n",
       "                                     callbacks=None, colsample_bylevel=None,\n",
       "                                     colsample_bynode=None,\n",
       "                                     colsample_bytree=None, device=None,\n",
       "                                     early_stopping_rounds=None,\n",
       "                                     enable_categorical=False, eval_metric=None,\n",
       "                                     feature_types=None, gamma=None,\n",
       "                                     grow_policy=None, importance_type=None,\n",
       "                                     interaction_constraints=None,\n",
       "                                     learning_rate=None,...\n",
       "                                     max_cat_to_onehot=None,\n",
       "                                     max_delta_step=None, max_depth=None,\n",
       "                                     max_leaves=None, min_child_weight=None,\n",
       "                                     missing=nan, monotone_constraints=None,\n",
       "                                     multi_strategy=None, n_estimators=None,\n",
       "                                     n_jobs=None, num_parallel_tree=None,\n",
       "                                     random_state=5400, ...),\n",
       "             param_grid={&#x27;learning_rate&#x27;: [0.1, 0.01, 0.5, 0.05],\n",
       "                         &#x27;max_depth&#x27;: [1, 2, 3, 5], &#x27;max_leaves&#x27;: [1, 2, 3, 5],\n",
       "                         &#x27;n_estimators&#x27;: [100, 200, 300]})</pre></div></div></div><div class=\"sk-parallel\"><div class=\"sk-parallel-item\"><div class=\"sk-item\"><div class=\"sk-label-container\"><div class=\"sk-label sk-toggleable\"><input class=\"sk-toggleable__control sk-hidden--visually\" id=\"sk-estimator-id-2\" type=\"checkbox\" ><label for=\"sk-estimator-id-2\" class=\"sk-toggleable__label sk-toggleable__label-arrow\">estimator: XGBClassifier</label><div class=\"sk-toggleable__content\"><pre>XGBClassifier(base_score=None, booster=None, callbacks=None,\n",
       "              colsample_bylevel=None, colsample_bynode=None,\n",
       "              colsample_bytree=None, device=None, early_stopping_rounds=None,\n",
       "              enable_categorical=False, eval_metric=None, feature_types=None,\n",
       "              gamma=None, grow_policy=None, importance_type=None,\n",
       "              interaction_constraints=None, learning_rate=None, max_bin=None,\n",
       "              max_cat_threshold=None, max_cat_to_onehot=None,\n",
       "              max_delta_step=None, max_depth=None, max_leaves=None,\n",
       "              min_child_weight=None, missing=nan, monotone_constraints=None,\n",
       "              multi_strategy=None, n_estimators=None, n_jobs=None,\n",
       "              num_parallel_tree=None, random_state=5400, ...)</pre></div></div></div><div class=\"sk-serial\"><div class=\"sk-item\"><div class=\"sk-estimator sk-toggleable\"><input class=\"sk-toggleable__control sk-hidden--visually\" id=\"sk-estimator-id-3\" type=\"checkbox\" ><label for=\"sk-estimator-id-3\" class=\"sk-toggleable__label sk-toggleable__label-arrow\">XGBClassifier</label><div class=\"sk-toggleable__content\"><pre>XGBClassifier(base_score=None, booster=None, callbacks=None,\n",
       "              colsample_bylevel=None, colsample_bynode=None,\n",
       "              colsample_bytree=None, device=None, early_stopping_rounds=None,\n",
       "              enable_categorical=False, eval_metric=None, feature_types=None,\n",
       "              gamma=None, grow_policy=None, importance_type=None,\n",
       "              interaction_constraints=None, learning_rate=None, max_bin=None,\n",
       "              max_cat_threshold=None, max_cat_to_onehot=None,\n",
       "              max_delta_step=None, max_depth=None, max_leaves=None,\n",
       "              min_child_weight=None, missing=nan, monotone_constraints=None,\n",
       "              multi_strategy=None, n_estimators=None, n_jobs=None,\n",
       "              num_parallel_tree=None, random_state=5400, ...)</pre></div></div></div></div></div></div></div></div></div></div>"
      ],
      "text/plain": [
       "GridSearchCV(cv=5,\n",
       "             estimator=XGBClassifier(base_score=None, booster=None,\n",
       "                                     callbacks=None, colsample_bylevel=None,\n",
       "                                     colsample_bynode=None,\n",
       "                                     colsample_bytree=None, device=None,\n",
       "                                     early_stopping_rounds=None,\n",
       "                                     enable_categorical=False, eval_metric=None,\n",
       "                                     feature_types=None, gamma=None,\n",
       "                                     grow_policy=None, importance_type=None,\n",
       "                                     interaction_constraints=None,\n",
       "                                     learning_rate=None,...\n",
       "                                     max_cat_to_onehot=None,\n",
       "                                     max_delta_step=None, max_depth=None,\n",
       "                                     max_leaves=None, min_child_weight=None,\n",
       "                                     missing=nan, monotone_constraints=None,\n",
       "                                     multi_strategy=None, n_estimators=None,\n",
       "                                     n_jobs=None, num_parallel_tree=None,\n",
       "                                     random_state=5400, ...),\n",
       "             param_grid={'learning_rate': [0.1, 0.01, 0.5, 0.05],\n",
       "                         'max_depth': [1, 2, 3, 5], 'max_leaves': [1, 2, 3, 5],\n",
       "                         'n_estimators': [100, 200, 300]})"
      ]
     },
     "execution_count": 46,
     "metadata": {},
     "output_type": "execute_result"
    }
   ],
   "source": [
    "mod2.fit(x_ros, y_ros)"
   ]
  },
  {
   "cell_type": "code",
   "execution_count": 47,
   "id": "31f248cc-a04e-4204-b182-2708e4a93d33",
   "metadata": {
    "tags": []
   },
   "outputs": [],
   "source": [
    "pred2 = mod2.predict(x_test_clm)"
   ]
  },
  {
   "cell_type": "code",
   "execution_count": 48,
   "id": "595209fb-9f01-4df5-b4ed-eebf7327ea4c",
   "metadata": {
    "tags": []
   },
   "outputs": [
    {
     "name": "stdout",
     "output_type": "stream",
     "text": [
      "ROCAUC score: 0.5810301820902969\n",
      "Accuracy score: 0.6967285587975243\n",
      "F1 score: 0.1654501216545012\n"
     ]
    }
   ],
   "source": [
    "print('ROCAUC score:',roc_auc_score(y_test_clm, pred2))\n",
    "print('Accuracy score:',accuracy_score(y_test_clm, pred2))\n",
    "print('F1 score:',f1_score(y_test_clm, pred2))"
   ]
  },
  {
   "cell_type": "code",
   "execution_count": 49,
   "id": "20d206d0-49b3-4735-810f-db8133cc676c",
   "metadata": {
    "tags": []
   },
   "outputs": [
    {
     "data": {
      "text/plain": [
       "array([[1508,  602],\n",
       "       [  84,   68]])"
      ]
     },
     "execution_count": 49,
     "metadata": {},
     "output_type": "execute_result"
    }
   ],
   "source": [
    "confusion_matrix(y_test_clm, pred2)"
   ]
  },
  {
   "cell_type": "code",
   "execution_count": null,
   "id": "ce2a8736-01f6-4087-b647-fb774e2b321f",
   "metadata": {
    "tags": []
   },
   "outputs": [],
   "source": [
    "m = metrics.confusion_matrix(y_test_clm, pred2)\n",
    "roc = roc_auc_score(y_test_clm, pred2)\n",
    "acc = accuracy_score(y_test_clm, pred2)\n",
    "f1 = f1_score(y_test_clm, pred2)\n",
    "n = [['SM', 'XGBClassifier', 5, m, roc, acc, f1]]\n",
    "col = ['sampling', 'model', 'fold', 'conf_matrix', 'roc_curve', 'accurancy', 'f1_score']\n",
    "results = results.append(pd.DataFrame(n, columns=col), ignore_index=True)"
   ]
  },
  {
   "cell_type": "code",
   "execution_count": 58,
   "id": "4a2e5244-b063-41ee-9220-d6f9dd5ecc10",
   "metadata": {
    "tags": []
   },
   "outputs": [
    {
     "data": {
      "text/plain": [
       "{'learning_rate': 0.5, 'max_depth': 5, 'max_leaves': 5, 'n_estimators': 300}"
      ]
     },
     "execution_count": 58,
     "metadata": {},
     "output_type": "execute_result"
    }
   ],
   "source": [
    "mod2.best_params_ "
   ]
  },
  {
   "cell_type": "code",
   "execution_count": null,
   "id": "56f3d56c-6884-4368-9ebf-db405afd08c0",
   "metadata": {
    "tags": []
   },
   "outputs": [],
   "source": [
    "import pickle\n",
    "filename = f'XGBClassification.sav'\n",
    "pickle.dump(mod2.best_estimator_, open(filename, 'wb'))"
   ]
  },
  {
   "cell_type": "code",
   "execution_count": null,
   "id": "3acef7ca-ad69-4407-979b-160d0802531d",
   "metadata": {
    "tags": []
   },
   "outputs": [],
   "source": [
    "import pickle\n",
    "filename = f'RandomForest.sav'\n",
    "pickle.dump(mod.best_estimator_, open(filename, 'wb'))"
   ]
  },
  {
   "cell_type": "code",
   "execution_count": null,
   "id": "e6e07909-5722-4c04-ae15-f587e3474d1c",
   "metadata": {
    "tags": []
   },
   "outputs": [],
   "source": [
    "results.to_csv('results.csv', index=False) "
   ]
  },
  {
   "cell_type": "code",
   "execution_count": null,
   "id": "a41b5db6-f68f-44e8-85ed-c6ee5a86c0fa",
   "metadata": {
    "tags": []
   },
   "outputs": [],
   "source": [
    "model_XGBClass = pickle.load(open('XGBClassification.sav', 'rb'))\n",
    "model_rfc = pickle.load(open('RandomForest.sav', 'rb'))"
   ]
  },
  {
   "cell_type": "code",
   "execution_count": null,
   "id": "de0ad876-8e32-4819-a78d-8c745f319d3e",
   "metadata": {
    "tags": []
   },
   "outputs": [],
   "source": [
    "model_XGBClass"
   ]
  },
  {
   "cell_type": "code",
   "execution_count": 85,
   "id": "9b630639-c6a8-4f07-ac6a-07520050313a",
   "metadata": {
    "tags": []
   },
   "outputs": [],
   "source": [
    "from sklearn.neighbors import NearestCentroid\n",
    "\n",
    "mod3 = GridSearchCV(\n",
    "    estimator=NearestCentroid(), \n",
    "    param_grid={\n",
    "        'metric': ['euclidean']\n",
    "        },\n",
    "    cv=5)"
   ]
  },
  {
   "cell_type": "code",
   "execution_count": 92,
   "id": "6a250e58-b9f5-4e9b-8584-30529eccf7a6",
   "metadata": {
    "tags": []
   },
   "outputs": [
    {
     "data": {
      "text/html": [
       "<style>#sk-container-id-5 {color: black;background-color: white;}#sk-container-id-5 pre{padding: 0;}#sk-container-id-5 div.sk-toggleable {background-color: white;}#sk-container-id-5 label.sk-toggleable__label {cursor: pointer;display: block;width: 100%;margin-bottom: 0;padding: 0.3em;box-sizing: border-box;text-align: center;}#sk-container-id-5 label.sk-toggleable__label-arrow:before {content: \"▸\";float: left;margin-right: 0.25em;color: #696969;}#sk-container-id-5 label.sk-toggleable__label-arrow:hover:before {color: black;}#sk-container-id-5 div.sk-estimator:hover label.sk-toggleable__label-arrow:before {color: black;}#sk-container-id-5 div.sk-toggleable__content {max-height: 0;max-width: 0;overflow: hidden;text-align: left;background-color: #f0f8ff;}#sk-container-id-5 div.sk-toggleable__content pre {margin: 0.2em;color: black;border-radius: 0.25em;background-color: #f0f8ff;}#sk-container-id-5 input.sk-toggleable__control:checked~div.sk-toggleable__content {max-height: 200px;max-width: 100%;overflow: auto;}#sk-container-id-5 input.sk-toggleable__control:checked~label.sk-toggleable__label-arrow:before {content: \"▾\";}#sk-container-id-5 div.sk-estimator input.sk-toggleable__control:checked~label.sk-toggleable__label {background-color: #d4ebff;}#sk-container-id-5 div.sk-label input.sk-toggleable__control:checked~label.sk-toggleable__label {background-color: #d4ebff;}#sk-container-id-5 input.sk-hidden--visually {border: 0;clip: rect(1px 1px 1px 1px);clip: rect(1px, 1px, 1px, 1px);height: 1px;margin: -1px;overflow: hidden;padding: 0;position: absolute;width: 1px;}#sk-container-id-5 div.sk-estimator {font-family: monospace;background-color: #f0f8ff;border: 1px dotted black;border-radius: 0.25em;box-sizing: border-box;margin-bottom: 0.5em;}#sk-container-id-5 div.sk-estimator:hover {background-color: #d4ebff;}#sk-container-id-5 div.sk-parallel-item::after {content: \"\";width: 100%;border-bottom: 1px solid gray;flex-grow: 1;}#sk-container-id-5 div.sk-label:hover label.sk-toggleable__label {background-color: #d4ebff;}#sk-container-id-5 div.sk-serial::before {content: \"\";position: absolute;border-left: 1px solid gray;box-sizing: border-box;top: 0;bottom: 0;left: 50%;z-index: 0;}#sk-container-id-5 div.sk-serial {display: flex;flex-direction: column;align-items: center;background-color: white;padding-right: 0.2em;padding-left: 0.2em;position: relative;}#sk-container-id-5 div.sk-item {position: relative;z-index: 1;}#sk-container-id-5 div.sk-parallel {display: flex;align-items: stretch;justify-content: center;background-color: white;position: relative;}#sk-container-id-5 div.sk-item::before, #sk-container-id-5 div.sk-parallel-item::before {content: \"\";position: absolute;border-left: 1px solid gray;box-sizing: border-box;top: 0;bottom: 0;left: 50%;z-index: -1;}#sk-container-id-5 div.sk-parallel-item {display: flex;flex-direction: column;z-index: 1;position: relative;background-color: white;}#sk-container-id-5 div.sk-parallel-item:first-child::after {align-self: flex-end;width: 50%;}#sk-container-id-5 div.sk-parallel-item:last-child::after {align-self: flex-start;width: 50%;}#sk-container-id-5 div.sk-parallel-item:only-child::after {width: 0;}#sk-container-id-5 div.sk-dashed-wrapped {border: 1px dashed gray;margin: 0 0.4em 0.5em 0.4em;box-sizing: border-box;padding-bottom: 0.4em;background-color: white;}#sk-container-id-5 div.sk-label label {font-family: monospace;font-weight: bold;display: inline-block;line-height: 1.2em;}#sk-container-id-5 div.sk-label-container {text-align: center;}#sk-container-id-5 div.sk-container {/* jupyter's `normalize.less` sets `[hidden] { display: none; }` but bootstrap.min.css set `[hidden] { display: none !important; }` so we also need the `!important` here to be able to override the default hidden behavior on the sphinx rendered scikit-learn.org. See: https://github.com/scikit-learn/scikit-learn/issues/21755 */display: inline-block !important;position: relative;}#sk-container-id-5 div.sk-text-repr-fallback {display: none;}</style><div id=\"sk-container-id-5\" class=\"sk-top-container\"><div class=\"sk-text-repr-fallback\"><pre>GridSearchCV(cv=5, estimator=NearestCentroid(),\n",
       "             param_grid={&#x27;metric&#x27;: [&#x27;euclidean&#x27;]})</pre><b>In a Jupyter environment, please rerun this cell to show the HTML representation or trust the notebook. <br />On GitHub, the HTML representation is unable to render, please try loading this page with nbviewer.org.</b></div><div class=\"sk-container\" hidden><div class=\"sk-item sk-dashed-wrapped\"><div class=\"sk-label-container\"><div class=\"sk-label sk-toggleable\"><input class=\"sk-toggleable__control sk-hidden--visually\" id=\"sk-estimator-id-13\" type=\"checkbox\" ><label for=\"sk-estimator-id-13\" class=\"sk-toggleable__label sk-toggleable__label-arrow\">GridSearchCV</label><div class=\"sk-toggleable__content\"><pre>GridSearchCV(cv=5, estimator=NearestCentroid(),\n",
       "             param_grid={&#x27;metric&#x27;: [&#x27;euclidean&#x27;]})</pre></div></div></div><div class=\"sk-parallel\"><div class=\"sk-parallel-item\"><div class=\"sk-item\"><div class=\"sk-label-container\"><div class=\"sk-label sk-toggleable\"><input class=\"sk-toggleable__control sk-hidden--visually\" id=\"sk-estimator-id-14\" type=\"checkbox\" ><label for=\"sk-estimator-id-14\" class=\"sk-toggleable__label sk-toggleable__label-arrow\">estimator: NearestCentroid</label><div class=\"sk-toggleable__content\"><pre>NearestCentroid()</pre></div></div></div><div class=\"sk-serial\"><div class=\"sk-item\"><div class=\"sk-estimator sk-toggleable\"><input class=\"sk-toggleable__control sk-hidden--visually\" id=\"sk-estimator-id-15\" type=\"checkbox\" ><label for=\"sk-estimator-id-15\" class=\"sk-toggleable__label sk-toggleable__label-arrow\">NearestCentroid</label><div class=\"sk-toggleable__content\"><pre>NearestCentroid()</pre></div></div></div></div></div></div></div></div></div></div>"
      ],
      "text/plain": [
       "GridSearchCV(cv=5, estimator=NearestCentroid(),\n",
       "             param_grid={'metric': ['euclidean']})"
      ]
     },
     "execution_count": 92,
     "metadata": {},
     "output_type": "execute_result"
    }
   ],
   "source": [
    "mod3.fit(x_ros, y_ros)"
   ]
  },
  {
   "cell_type": "code",
   "execution_count": 93,
   "id": "01aafee6-f987-400b-84c1-5306c51ba23d",
   "metadata": {
    "tags": []
   },
   "outputs": [],
   "source": [
    "near_pred = mod3.predict(x_test_clm)"
   ]
  },
  {
   "cell_type": "code",
   "execution_count": 94,
   "id": "d2845fd3-34cc-4de1-87d6-b1e33710d177",
   "metadata": {
    "tags": []
   },
   "outputs": [
    {
     "name": "stdout",
     "output_type": "stream",
     "text": [
      "ROCAUC score: 0.605060488899975\n",
      "Accuracy score: 0.7130857648099027\n",
      "F1 score: 0.18364779874213838\n"
     ]
    }
   ],
   "source": [
    "print('ROCAUC score:',roc_auc_score(y_test_clm, near_pred))\n",
    "print('Accuracy score:',accuracy_score(y_test_clm, near_pred))\n",
    "print('F1 score:',f1_score(y_test_clm, near_pred))"
   ]
  },
  {
   "cell_type": "code",
   "execution_count": null,
   "id": "88d78901-f0fb-4098-8cdf-5ca48ce5e7c9",
   "metadata": {
    "tags": []
   },
   "outputs": [],
   "source": [
    "confusion_matrix(y_test_clm, near_pred)"
   ]
  },
  {
   "cell_type": "code",
   "execution_count": null,
   "id": "6b5b179b-dfda-4088-ae45-14c5ce6e9579",
   "metadata": {
    "tags": []
   },
   "outputs": [],
   "source": [
    "m = metrics.confusion_matrix(y_test_clm, near_pred)\n",
    "roc = roc_auc_score(y_test_clm, near_pred)\n",
    "acc = accuracy_score(y_test_clm, near_pred)\n",
    "f1 = f1_score(y_test_clm, near_pred)\n",
    "n = [['SM', 'NearestCentroid', 5, m, roc, acc, f1]]\n",
    "col = ['sampling', 'model', 'fold', 'conf_matrix', 'roc_curve', 'accurancy', 'f1_score']\n",
    "results = results.append(pd.DataFrame(n, columns=col), ignore_index=True)"
   ]
  },
  {
   "cell_type": "code",
   "execution_count": null,
   "id": "cbc2c5fa-99d8-499b-81f9-ae96841b690f",
   "metadata": {
    "tags": []
   },
   "outputs": [],
   "source": [
    "results"
   ]
  },
  {
   "cell_type": "code",
   "execution_count": null,
   "id": "b450011b-537e-405f-9429-3d005a290cf5",
   "metadata": {
    "tags": []
   },
   "outputs": [],
   "source": [
    "from sklearn.svm import SVC\n",
    "\n",
    "mod4 = GridSearchCV(\n",
    "    estimator=SVC(random_state=5400), \n",
    "    param_grid={\n",
    "        'kernel': ['poly', 'rbf', 'sigmoid'],\n",
    "        'class_weight': [{0: 1, 1: 1}, {0: 0.5, 1: 1}, {0: 0.5, 1: 1.5}]\n",
    "        },\n",
    "    cv=5)"
   ]
  },
  {
   "cell_type": "code",
   "execution_count": null,
   "id": "5d7d5588-0381-4a28-84ce-988bb7971c38",
   "metadata": {
    "tags": []
   },
   "outputs": [],
   "source": [
    "mod4.fit(x_ros, y_ros)"
   ]
  },
  {
   "cell_type": "code",
   "execution_count": null,
   "id": "056396a8-04ea-4049-bff7-eb7716bd1e6f",
   "metadata": {
    "tags": []
   },
   "outputs": [],
   "source": [
    "pred_KNNC = mod4.predict(x_test_clm)"
   ]
  },
  {
   "cell_type": "code",
   "execution_count": null,
   "id": "04caa662-9043-4fb6-b1c4-f40624f11dd1",
   "metadata": {
    "tags": []
   },
   "outputs": [],
   "source": [
    "print('ROCAUC score:',roc_auc_score(y_test_clm, pred_KNNC))\n",
    "print('Accuracy score:',accuracy_score(y_test_clm, pred_KNNC))\n",
    "print('F1 score:',f1_score(y_test_clm, pred_KNNC))\n",
    "confusion_matrix(y_test_clm, pred_KNNC)"
   ]
  },
  {
   "cell_type": "code",
   "execution_count": null,
   "id": "22379fd4-4c6e-4b78-b198-270c25b898ec",
   "metadata": {
    "tags": []
   },
   "outputs": [],
   "source": [
    "m = confusion_matrix(y_test_clm, pred_KNNC)\n",
    "roc = roc_auc_score(y_test_clm, pred_KNNC)\n",
    "acc = accuracy_score(y_test_clm, pred_KNNC)\n",
    "f1 = f1_score(y_test_clm, pred_KNNC)\n",
    "n = [['ROS', 'SVC', 5, m, roc, acc, f1]]\n",
    "col = ['sampling', 'model', 'fold', 'conf_matrix', 'roc_curve', 'accurancy', 'f1_score']\n",
    "results = results.append(pd.DataFrame(n, columns=col), ignore_index=True)"
   ]
  },
  {
   "cell_type": "code",
   "execution_count": null,
   "id": "d2516430-0c39-44e4-acc1-3072e0f6647a",
   "metadata": {
    "tags": []
   },
   "outputs": [],
   "source": [
    "results"
   ]
  },
  {
   "cell_type": "code",
   "execution_count": 97,
   "id": "f8d2b2e6-7678-44b5-885f-d98b624872bf",
   "metadata": {
    "tags": []
   },
   "outputs": [
    {
     "name": "stdout",
     "output_type": "stream",
     "text": [
      "ROCAUC score: 0.6232913444749314\n",
      "Accuracy score: 0.695844385499558\n",
      "F1 score: 0.19248826291079812\n",
      "[[1492  618]\n",
      " [  70   82]]\n"
     ]
    }
   ],
   "source": [
    "from sklearn.preprocessing import StandardScaler\n",
    "from sklearn.pipeline import make_pipeline\n",
    "from sklearn.neighbors import NearestCentroid\n",
    "\n",
    "\n",
    "\n",
    "pipeline = make_pipeline(\n",
    "    StandardScaler(),\n",
    "    VotingClassifier([\n",
    "        ('rfc', RandomForestClassifier(n_estimators=100,\n",
    "                             max_depth= 200,\n",
    "                             max_leaf_nodes=200, \n",
    "                             class_weight={0: 1, 1: 1},\n",
    "                             min_samples_leaf=3\n",
    "                             )),\n",
    "        ('xgb', XGBClassifier(n_estimators=300,\n",
    "                              max_depth= 2, \n",
    "                              max_leaves = 5, \n",
    "                              learning_rate=0.5)),\n",
    "        ('Near_Cent', NearestCentroid())\n",
    "\n",
    "    ])\n",
    ")\n",
    "\n",
    "# Fit the pipeline on the training data\n",
    "pipeline.fit(x_ros, y_ros)\n",
    "\n",
    "# Predict on the test data\n",
    "y_pred = pipeline.predict(x_test_clm)\n",
    "\n",
    "# Evaluate the model using mean squared error\n",
    "# mse = mean_squared_error(y_test, y_pred)\n",
    "# print(\"Mean Squared Error:\", mse)\n",
    "print('ROCAUC score:',roc_auc_score(y_test_clm, y_pred))\n",
    "print('Accuracy score:',accuracy_score(y_test_clm, y_pred))\n",
    "print('F1 score:',f1_score(y_test_clm, y_pred))\n",
    "matrix = confusion_matrix(y_test_clm, y_pred)\n",
    "print(matrix)\n"
   ]
  },
  {
   "cell_type": "code",
   "execution_count": 99,
   "id": "167fd29f-9a2b-480a-9aae-d0a446fb09ba",
   "metadata": {
    "tags": []
   },
   "outputs": [],
   "source": [
    "import pickle\n",
    "filename = f'Pipeline.sav'\n",
    "pickle.dump(pipeline, open(filename, 'wb'))"
   ]
  },
  {
   "cell_type": "code",
   "execution_count": 66,
   "id": "8be64233-2edb-46fc-9327-e92a93999797",
   "metadata": {
    "tags": []
   },
   "outputs": [
    {
     "ename": "NameError",
     "evalue": "name 'results' is not defined",
     "output_type": "error",
     "traceback": [
      "\u001b[0;31m---------------------------------------------------------------------------\u001b[0m",
      "\u001b[0;31mNameError\u001b[0m                                 Traceback (most recent call last)",
      "Cell \u001b[0;32mIn[66], line 7\u001b[0m\n\u001b[1;32m      5\u001b[0m n \u001b[38;5;241m=\u001b[39m [[\u001b[38;5;124m'\u001b[39m\u001b[38;5;124mROS\u001b[39m\u001b[38;5;124m'\u001b[39m, \u001b[38;5;124m'\u001b[39m\u001b[38;5;124mPipeline\u001b[39m\u001b[38;5;124m'\u001b[39m, \u001b[38;5;241m5\u001b[39m, m, roc, acc, f1]]\n\u001b[1;32m      6\u001b[0m col \u001b[38;5;241m=\u001b[39m [\u001b[38;5;124m'\u001b[39m\u001b[38;5;124msampling\u001b[39m\u001b[38;5;124m'\u001b[39m, \u001b[38;5;124m'\u001b[39m\u001b[38;5;124mmodel\u001b[39m\u001b[38;5;124m'\u001b[39m, \u001b[38;5;124m'\u001b[39m\u001b[38;5;124mfold\u001b[39m\u001b[38;5;124m'\u001b[39m, \u001b[38;5;124m'\u001b[39m\u001b[38;5;124mconf_matrix\u001b[39m\u001b[38;5;124m'\u001b[39m, \u001b[38;5;124m'\u001b[39m\u001b[38;5;124mroc_curve\u001b[39m\u001b[38;5;124m'\u001b[39m, \u001b[38;5;124m'\u001b[39m\u001b[38;5;124maccurancy\u001b[39m\u001b[38;5;124m'\u001b[39m, \u001b[38;5;124m'\u001b[39m\u001b[38;5;124mf1_score\u001b[39m\u001b[38;5;124m'\u001b[39m]\n\u001b[0;32m----> 7\u001b[0m results \u001b[38;5;241m=\u001b[39m \u001b[43mresults\u001b[49m\u001b[38;5;241m.\u001b[39mappend(pd\u001b[38;5;241m.\u001b[39mDataFrame(n, columns\u001b[38;5;241m=\u001b[39mcol), ignore_index\u001b[38;5;241m=\u001b[39m\u001b[38;5;28;01mTrue\u001b[39;00m)\n",
      "\u001b[0;31mNameError\u001b[0m: name 'results' is not defined"
     ]
    }
   ],
   "source": [
    "m = confusion_matrix(y_test_clm, y_pred)\n",
    "roc = roc_auc_score(y_test_clm, y_pred)\n",
    "acc = accuracy_score(y_test_clm, y_pred)\n",
    "f1 = f1_score(y_test_clm, y_pred)\n",
    "n = [['ROS', 'Pipeline', 5, m, roc, acc, f1]]\n",
    "col = ['sampling', 'model', 'fold', 'conf_matrix', 'roc_curve', 'accurancy', 'f1_score']\n",
    "results = results.append(pd.DataFrame(n, columns=col), ignore_index=True)"
   ]
  },
  {
   "cell_type": "code",
   "execution_count": null,
   "id": "b2e8de0f-0d7f-4927-974f-95b0d11a9ccf",
   "metadata": {
    "tags": []
   },
   "outputs": [],
   "source": [
    "# results"
   ]
  },
  {
   "cell_type": "code",
   "execution_count": null,
   "id": "59f66469-764e-449d-b107-8b3a5c5910c7",
   "metadata": {
    "tags": []
   },
   "outputs": [],
   "source": [
    "mod_LogReg = GridSearchCV(\n",
    "    estimator=LogisticRegression(), \n",
    "    param_grid={\n",
    "        'C': [0.001, 0.01, 0.1, 1, 10, 100, 1000],\n",
    "        'penalty': ['l1', 'l2']\n",
    "        },\n",
    "    cv=5)"
   ]
  },
  {
   "cell_type": "code",
   "execution_count": null,
   "id": "9a37b64c-a755-49fd-81b3-4da053edafdc",
   "metadata": {
    "tags": []
   },
   "outputs": [],
   "source": [
    "mod_LogReg.fit(x_train_clm, y_train_clm)"
   ]
  },
  {
   "cell_type": "code",
   "execution_count": null,
   "id": "07a77de6-0f94-41e9-84c7-65ca4719cd00",
   "metadata": {
    "tags": []
   },
   "outputs": [],
   "source": [
    "pred_LogReg = mod_LogReg.predict(x_test_clm)"
   ]
  },
  {
   "cell_type": "code",
   "execution_count": null,
   "id": "06609d35-75f0-478b-8786-43789af92d28",
   "metadata": {
    "tags": []
   },
   "outputs": [],
   "source": [
    "print('ROCAUC score:',roc_auc_score(y_test_clm, pred_LogReg))\n",
    "print('Accuracy score:',accuracy_score(y_test_clm, pred_LogReg))\n",
    "print('F1 score:',f1_score(y_test_clm, pred_LogReg))\n",
    "confusion_matrix(y_test_clm, pred_LogReg)"
   ]
  },
  {
   "cell_type": "code",
   "execution_count": null,
   "id": "df3c00c9-304b-4099-b01d-9b7171062ad8",
   "metadata": {
    "tags": []
   },
   "outputs": [],
   "source": [
    "m = confusion_matrix(y_test_clm, y_pred)\n",
    "roc = roc_auc_score(y_test_clm, y_pred)\n",
    "acc = accuracy_score(y_test_clm, y_pred)\n",
    "f1 = f1_score(y_test_clm, y_pred)\n",
    "n = [['NS', 'LogisticRegression', 5, m, roc, acc, f1]]\n",
    "col = ['sampling', 'model', 'fold', 'conf_matrix', 'roc_curve', 'accurancy', 'f1_score']\n",
    "results = results.append(pd.DataFrame(n, columns=col), ignore_index=True)"
   ]
  },
  {
   "cell_type": "markdown",
   "id": "dc0237d5-db6c-4c65-ae52-6c3fef076ba7",
   "metadata": {},
   "source": [
    "## Numclaims"
   ]
  },
  {
   "cell_type": "code",
   "execution_count": null,
   "id": "56714ad3-5fa7-4ed2-b6ae-d705f61a2cec",
   "metadata": {
    "tags": []
   },
   "outputs": [],
   "source": [
    "# x_test['Pred_clm'] = rfc_predict\n",
    "# x_train = pd.concat([X_train, y_train], axis=1)\n",
    "# data1 = data.drop(['numclaims', 'claimcst0'], axis=1)"
   ]
  },
  {
   "cell_type": "code",
   "execution_count": null,
   "id": "2778ef87-3622-4ae8-9977-e823f1346d9f",
   "metadata": {
    "tags": []
   },
   "outputs": [],
   "source": [
    "# # df_train = pd.concat([x_train_numclm, y_train_numclm], axis=1)\n",
    "# majority_class = df_train[df_train['numclaims'] == 0.000000]\n",
    "# minority_class_1 = df_train[df_train['numclaims'] == 0.333333]\n",
    "# minority_class_2 = df_train[df_train['numclaims'] == 0.666667]\n",
    "# minority_class_3 = df_train[df_train['numclaims'] == 1.000000]\n",
    "# majority_class.shape, minority_class_1.shape, minority_class_2.shape, minority_class_3.shape\n",
    "# majority_class_undersampled = resample(majority_class, replace=True, n_samples=10000, random_state=42)\n",
    "# minority_class1_oversampled = resample(minority_class_1, replace=True, n_samples=5000, random_state=42)\n",
    "# minority_class2_oversampled = resample(minority_class_2, replace=True, n_samples=500, random_state=42)\n",
    "# minority_class3_oversampled = resample(minority_class_3, replace=True, n_samples=500, random_state=42)\n",
    "# undersampled_df = pd.concat([majority_class_undersampled, minority_class1_oversampled, minority_class2_oversampled, minority_class3_oversampled], axis=0)\n",
    "# y_train_numclm = undersampled_df[\"numclaims\"]\n",
    "# undersampled_df.drop([\"numclaims\"], axis=1, inplace=True)\n",
    "# x_train_numclm = undersampled_df"
   ]
  },
  {
   "cell_type": "code",
   "execution_count": null,
   "id": "3369236d-c5a6-43ac-811a-03027a0dad01",
   "metadata": {
    "tags": []
   },
   "outputs": [],
   "source": [
    "model_Reg = GridSearchCV(\n",
    "    estimator=RandomForestRegressor(random_state=5400), \n",
    "    param_grid={\n",
    "        'n_estimators': [100, 200, 300],\n",
    "        'criterion': ['squared_error'],\n",
    "        'max_depth': [200, 300],\n",
    "        'max_leaf_nodes': [100, 200]\n",
    "        \n",
    "        },\n",
    "    cv=5)"
   ]
  },
  {
   "cell_type": "code",
   "execution_count": null,
   "id": "4e7ab5ea-ca31-435f-8b52-8cb18bf13ad4",
   "metadata": {
    "tags": []
   },
   "outputs": [],
   "source": [
    "model_Reg.fit(x_train_numclm, y_train_numclm)"
   ]
  },
  {
   "cell_type": "code",
   "execution_count": null,
   "id": "05642466-4445-487f-8e95-cfbf9f9dd077",
   "metadata": {
    "tags": []
   },
   "outputs": [],
   "source": [
    "pred_RF_reg = model_Reg.predict(x_test_numclm)"
   ]
  },
  {
   "cell_type": "code",
   "execution_count": null,
   "id": "22e17bb9-284a-49ff-b5e5-58be0ba1313f",
   "metadata": {
    "tags": []
   },
   "outputs": [],
   "source": [
    "mean_squared_error(y_test_numclm, pred_RF_reg)"
   ]
  },
  {
   "cell_type": "code",
   "execution_count": null,
   "id": "673dfeae-1d98-49ad-9b1f-b6d3a5ab0727",
   "metadata": {
    "tags": []
   },
   "outputs": [],
   "source": [
    "# Train XGBoost model\n",
    "\n",
    "model_XGBR = GridSearchCV(\n",
    "    estimator=XGBRegressor(random_state=5400), \n",
    "    param_grid = {'n_estimators': [50, 100, 200], \n",
    "                  'learning_rate': [0.001, 0.01, 0.1], \n",
    "                  'max_depth': [3, 5, 7], \n",
    "                  'min_child_weight': [1, 3, 5], \n",
    "                  'subsample': [0.8, 0.9, 1.0], \n",
    "                  'colsample_bytree': [0.8, 0.9, 1.0]\n",
    "     \n",
    "        },\n",
    "    cv=10)\n",
    "model_XGBR.fit(x_train_numclm, y_train_numclm)"
   ]
  },
  {
   "cell_type": "code",
   "execution_count": null,
   "id": "a791d1df-de68-48f0-b162-f1fd5d39130a",
   "metadata": {
    "tags": []
   },
   "outputs": [],
   "source": [
    "import pickle\n",
    "filename = f'XGBRegressor_numclm.sav'\n",
    "pickle.dump(model_XGBR.best_estimator_, open(filename, 'wb'))"
   ]
  },
  {
   "cell_type": "code",
   "execution_count": null,
   "id": "1f6fa607-9ed2-4b4c-8b41-436b475ea40b",
   "metadata": {
    "tags": []
   },
   "outputs": [],
   "source": [
    "pred_xgb = model_XGBR.predict(x_test_numclm)\n",
    "mean_squared_error(y_test_numclm, pred_xgb)"
   ]
  },
  {
   "cell_type": "code",
   "execution_count": null,
   "id": "9b26b40e-9dd0-450b-a208-60e9db31a62f",
   "metadata": {
    "tags": []
   },
   "outputs": [],
   "source": [
    "col1 = ['model', 'fold', 'mse', 'mae', 'r^2']\n",
    "mse = mean_squared_error(y_test_numclm, pred_xgb)\n",
    "mae = mean_absolute_error(y_test_numclm, pred_xgb)\n",
    "r2 = r2_score(y_test_numclm, pred_xgb)\n",
    "n1 = [['XGBRegressor', 5, mse, mae, r2]]\n",
    "results_2 = pd.read_csv('results_2_new.csv')\n",
    "# results_2 = results_2.append(pd.DataFrame(n1, columns=col1), ignore_index=True)"
   ]
  },
  {
   "cell_type": "code",
   "execution_count": null,
   "id": "49a4cb95-6290-4a27-904e-a236dc781acb",
   "metadata": {
    "tags": []
   },
   "outputs": [],
   "source": [
    "results_2.to_csv('results_2_new.csv', index=False)"
   ]
  },
  {
   "cell_type": "code",
   "execution_count": null,
   "id": "716bf3da-7869-4456-a116-efeb4689430e",
   "metadata": {
    "tags": []
   },
   "outputs": [],
   "source": [
    "from sklearn.linear_model import LassoCV, ElasticNetCV"
   ]
  },
  {
   "cell_type": "code",
   "execution_count": null,
   "id": "7e46cd88-1e8a-4666-88c3-0e9e26efcca1",
   "metadata": {
    "tags": []
   },
   "outputs": [],
   "source": [
    "ridge = ElasticNetCV(cv=5)\n",
    "ridge.fit(x_train_numclm, y_train_numclm)"
   ]
  },
  {
   "cell_type": "code",
   "execution_count": null,
   "id": "ad791da3-a3aa-4a37-a412-5ff1afa26264",
   "metadata": {
    "tags": []
   },
   "outputs": [],
   "source": [
    "pred_ridge = ridge.predict(x_test_numclm)"
   ]
  },
  {
   "cell_type": "code",
   "execution_count": null,
   "id": "5b54b678-cb24-45da-a947-a6f8bb6beaef",
   "metadata": {
    "tags": []
   },
   "outputs": [],
   "source": [
    "mean_squared_error(y_test_numclm, pred_ridge)"
   ]
  },
  {
   "cell_type": "code",
   "execution_count": null,
   "id": "2fe44f85-6987-4011-963c-08dfc9957b01",
   "metadata": {},
   "outputs": [],
   "source": [
    "col1 = ['model', 'fold', 'mse', 'mae']\n",
    "mse = mean_squared_error(y_test_numclm, pred_ridge)\n",
    "mae = mean_absolute_error(y_test_numclm, pred_ridge)\n",
    "n1 = [['SVR', 5, mse, mae]]\n",
    "results_2 = results_2.append(pd.DataFrame(n1, columns=col1), ignore_index=True)\n",
    "results_2"
   ]
  },
  {
   "cell_type": "code",
   "execution_count": null,
   "id": "4306fe9f-00ce-438e-9f8c-d35ce00954f3",
   "metadata": {},
   "outputs": [],
   "source": [
    "results_2"
   ]
  },
  {
   "cell_type": "markdown",
   "id": "cb8057f0-dfd9-4db6-88a9-cf58a94787cb",
   "metadata": {},
   "source": [
    "## ClaimCost0"
   ]
  },
  {
   "cell_type": "code",
   "execution_count": null,
   "id": "2f6e9292-3d2b-47aa-941a-4cc4b3c6fb57",
   "metadata": {
    "tags": []
   },
   "outputs": [],
   "source": [
    "df_train = pd.concat([x_train, y_train], axis=1)\n",
    "majority_class = df_train[df_train['claimcst0'] == 0]\n",
    "minority_class = df_train[df_train['claimcst0'] > 0]\n",
    "majority_class.shape, minority_class.shape\n",
    "majority_class_undersampled = resample(majority_class, replace=True, n_samples=15000, random_state=42)\n",
    "minority_class_oversampled = resample(minority_class, replace=True, n_samples=5000, random_state=42)\n",
    "minority_class_oversampled.shape, majority_class_undersampled.shape\n",
    "undersampled_df = pd.concat([minority_class_oversampled, majority_class_undersampled])\n",
    "y_train = undersampled_df[\"claimcst0\"]\n",
    "undersampled_df.drop([\"claimcst0\"], axis=1, inplace=True)\n",
    "x_train = undersampled_df"
   ]
  },
  {
   "cell_type": "code",
   "execution_count": null,
   "id": "59e97615-a745-4251-a9de-d25f324e351d",
   "metadata": {
    "tags": []
   },
   "outputs": [],
   "source": [
    "def calculate_gini_index(yTarget, yPred):\n",
    "    # Combine the target values and predicted values into a 2D array\n",
    "    combined_data = np.column_stack((yTarget, yPred))\n",
    "\n",
    "    # Sort the array based on predicted values\n",
    "    sorted_data = combined_data[combined_data[:, 1].argsort()]\n",
    "\n",
    "    # Calculate cumulative sums of the target values\n",
    "    cumsum_target = np.cumsum(sorted_data[:, 0])\n",
    "\n",
    "    # Calculate Gini index components\n",
    "    numerator = np.sum(sorted_data[:, 0] * sorted_data[:, 1]) / np.sum(sorted_data[:, 0])\n",
    "    denominator = np.sum(cumsum_target) / len(yTarget)\n",
    "\n",
    "    # Calculate Gini index\n",
    "    gini_index = (numerator - denominator) / (denominator - np.sum((len(yTarget) - np.arange(1, len(yTarget) + 1)) / len(yTarget)))\n",
    "\n",
    "    return gini_index\n"
   ]
  },
  {
   "cell_type": "code",
   "execution_count": null,
   "id": "c0403e58-647b-461c-ab63-404c80f2e2a5",
   "metadata": {
    "tags": []
   },
   "outputs": [],
   "source": [
    "# Define your XGBoost regressor\n",
    "xgb_regressor = RandomForestRegressor(n_estimators=500, max_depth=10)\n",
    "\n",
    "# xgb.XGBRegressor(booster='gbtree', learning_rate = 0.05, min_child_weight = 2, \n",
    "#                             max_leaves = 5, max_bin=5)\n",
    "\n",
    "# Define the number of folds for cross-validation\n",
    "num_folds = 5\n",
    "\n",
    "# Create a KFold object\n",
    "kf = KFold(n_splits=num_folds, shuffle=True, random_state=42)\n",
    "\n",
    "\n",
    "\n",
    "# Iterate through each fold of the cross-validation\n",
    "for train_index, test_index in kf.split(data1):\n",
    "    # Split the data into training and validation sets\n",
    "    X_train, X_val = data1.iloc[train_index], data1.iloc[test_index]\n",
    "    y_train, y_val = Y.iloc[train_index], Y.iloc[test_index]\n",
    "    \n",
    "\n",
    "    # Train the XGBoost regressor on the resampled data\n",
    "    xgb_regressor.fit(X_train, y_train)\n",
    "\n",
    "    # Predict on the validation set\n",
    "    y_pred = xgb_regressor.predict(X_val)\n",
    "\n",
    "    # Evaluate the model using the Gini index\n",
    "    gini_score = calculate_gini_index(y_val, y_pred)\n",
    "    print(f\"mean_squared_error: {mean_squared_error(y_val, y_pred)}\")\n",
    "    print(\"Validation Gini Index:\", gini_score)\n"
   ]
  },
  {
   "cell_type": "markdown",
   "id": "96bf55ef-2d59-4812-9488-465b4eddeaa8",
   "metadata": {},
   "source": [
    "## Inference"
   ]
  },
  {
   "cell_type": "code",
   "execution_count": null,
   "id": "0d91d0b7-931b-4cbf-bdaf-ccbc441b10d0",
   "metadata": {
    "tags": []
   },
   "outputs": [],
   "source": [
    "Validation_data = pd.read_csv(\"InsNova_data_2023_vh.csv\", index_col='id')"
   ]
  },
  {
   "cell_type": "code",
   "execution_count": null,
   "id": "2b289bd3-1edb-4675-94bc-af80275883a8",
   "metadata": {
    "tags": []
   },
   "outputs": [],
   "source": [
    "Validation_data['exposure'] = yeojohnson(Validation_data.exposure.values)[0]"
   ]
  },
  {
   "cell_type": "code",
   "execution_count": null,
   "id": "2544d69a-50d1-430e-b900-f39e3b44fde6",
   "metadata": {
    "tags": []
   },
   "outputs": [],
   "source": [
    "# pd.reset_option(\"display.max_rows\")\n",
    "Validation_data['veh_value'] = np.log1p(Validation_data.veh_value)"
   ]
  },
  {
   "cell_type": "code",
   "execution_count": null,
   "id": "2f633cea-ad10-4e78-83b9-8dee50fe9e8f",
   "metadata": {
    "tags": []
   },
   "outputs": [],
   "source": [
    "Validation_data['credit_score'] = np.sqrt(Validation_data.credit_score)"
   ]
  },
  {
   "cell_type": "code",
   "execution_count": null,
   "id": "d619b992-76ed-49e4-ab65-afb7b4506943",
   "metadata": {
    "tags": []
   },
   "outputs": [],
   "source": [
    "Validation_data['max_power'] = np.log1p(Validation_data['max_power'])"
   ]
  },
  {
   "cell_type": "code",
   "execution_count": null,
   "id": "1d71670d-7d36-407d-85ca-eaf24bbd65b9",
   "metadata": {
    "tags": []
   },
   "outputs": [],
   "source": [
    "Validation_data['driving_history_score'] = np.square(Validation_data['driving_history_score'])"
   ]
  },
  {
   "cell_type": "code",
   "execution_count": null,
   "id": "1e55e54b-ecba-4616-85fc-c023fde4a126",
   "metadata": {
    "tags": []
   },
   "outputs": [],
   "source": [
    "Validation_data[\"high_education_ind\"] = (Validation_data[\"high_education_ind\"]).astype(int)"
   ]
  },
  {
   "cell_type": "code",
   "execution_count": null,
   "id": "80a781c6-3bc9-4e1a-a0f6-bac189e199fc",
   "metadata": {
    "tags": []
   },
   "outputs": [],
   "source": [
    "transform_to_object(['veh_age', 'agecat', 'e_bill', 'trm_len', 'high_education_ind'], Validation_data)"
   ]
  },
  {
   "cell_type": "code",
   "execution_count": null,
   "id": "e8b3a337-3959-4bdd-b575-c90d8c9165cc",
   "metadata": {
    "tags": []
   },
   "outputs": [],
   "source": [
    "encoder(Validation_data)"
   ]
  },
  {
   "cell_type": "code",
   "execution_count": null,
   "id": "f5f91378-3ea6-41fb-98dd-5040818e3c58",
   "metadata": {
    "tags": []
   },
   "outputs": [],
   "source": [
    "Validation_data.info()"
   ]
  },
  {
   "cell_type": "markdown",
   "id": "a1f16971-2c70-4dab-9b29-f2f5c6e5981a",
   "metadata": {},
   "source": [
    "## Predicting 'clm' on Validation data"
   ]
  },
  {
   "cell_type": "code",
   "execution_count": null,
   "id": "99e4c527-324a-4751-a70e-d84cdc2cfa15",
   "metadata": {
    "tags": []
   },
   "outputs": [],
   "source": [
    "rfc_predict_vh = ada_clf.predict(Validation_data)"
   ]
  },
  {
   "cell_type": "code",
   "execution_count": null,
   "id": "8aa5b535-24dd-4697-8460-28dc3737e82c",
   "metadata": {
    "tags": []
   },
   "outputs": [],
   "source": [
    "# Add the NumPy array as a new column named 'C'\n",
    "Validation_data['clm'] = rfc_predict_vh\n",
    "\n"
   ]
  },
  {
   "cell_type": "markdown",
   "id": "a3ffff0e-cf06-4b41-a071-2f7cdd362876",
   "metadata": {},
   "source": [
    "## Predicting 'numclaims' on Validation data"
   ]
  },
  {
   "cell_type": "code",
   "execution_count": null,
   "id": "8702e1d8-c366-4a7c-ad82-e8166313ec5e",
   "metadata": {
    "tags": []
   },
   "outputs": [],
   "source": [
    "pred_xgb_vh = model_Reg.predict(Validation_data)"
   ]
  },
  {
   "cell_type": "code",
   "execution_count": null,
   "id": "60be1f3d-b4f9-4fb5-a8b6-c77f720f1eee",
   "metadata": {
    "tags": []
   },
   "outputs": [],
   "source": [
    "Validation_data['numclaims'] = pred_xgb_vh"
   ]
  },
  {
   "cell_type": "code",
   "execution_count": null,
   "id": "9e43b681-fdce-4b3f-a518-16d067ca7687",
   "metadata": {
    "tags": []
   },
   "outputs": [],
   "source": [
    "Validation_data['numclaims'] = abs(np.round(Validation_data.numclaims)).astype(int)"
   ]
  },
  {
   "cell_type": "markdown",
   "id": "e744850e-a45f-4e18-b7be-8245c0841935",
   "metadata": {},
   "source": [
    "## Predicting 'claimcst0' on Validation data"
   ]
  },
  {
   "cell_type": "code",
   "execution_count": null,
   "id": "15c72039-1440-4657-bea5-b5223e34831b",
   "metadata": {
    "tags": []
   },
   "outputs": [],
   "source": [
    "y_pred_clmcst_vh = xgb_regressor.predict(Validation_data)"
   ]
  },
  {
   "cell_type": "code",
   "execution_count": null,
   "id": "6dc1d2b4-aee6-47e0-a7a9-8bcc45ccb028",
   "metadata": {
    "tags": []
   },
   "outputs": [],
   "source": [
    "m = np.exp(y_pred_clmcst_vh)\n",
    "m = np.round(m, 2)\n",
    "m[m < 5] = 0"
   ]
  },
  {
   "cell_type": "code",
   "execution_count": null,
   "id": "824c5117-4cd5-4cfe-b2b0-a13eec04a079",
   "metadata": {},
   "outputs": [],
   "source": [
    "Validation_data['claimcst0'] = m"
   ]
  },
  {
   "cell_type": "code",
   "execution_count": null,
   "id": "5bf526b1-25dd-4771-b863-03cb69baccb8",
   "metadata": {
    "tags": []
   },
   "outputs": [],
   "source": [
    "Validation_data['claimcst0'] = Validation_data['claimcst0'].apply(lambda x: round(x, 2))\n",
    "Validation_data.head()"
   ]
  },
  {
   "cell_type": "code",
   "execution_count": null,
   "id": "a9f7e831-7ed5-4d0a-9db7-c30543fad724",
   "metadata": {
    "tags": []
   },
   "outputs": [],
   "source": [
    "if not os.path.isdir(\"2023_Travelers_Final_result\"):\n",
    "    os.mkdir(\"2023_Travelers_Final_result\")"
   ]
  },
  {
   "cell_type": "code",
   "execution_count": null,
   "id": "b974fd8f-d895-4436-9892-33941c29a8fb",
   "metadata": {
    "tags": []
   },
   "outputs": [],
   "source": [
    "with open(\"2023_Travelers_Final_result/Hawkeyed2023_8.csv\", \"w\") as fw:\n",
    "    # Write the header row.\n",
    "    header = \"id,Predict\\n\"\n",
    "    fw.write(header)\n",
    "    print(header, end=\"\")            # Print the header row just to check the current status.\n",
    "    \n",
    "    # Write the value rows.\n",
    "    for idx, row in Validation_data.iterrows():\n",
    "        pred = round(row.claimcst0, 2)\n",
    "        \n",
    "        line = \"{},{}\\n\".format(idx, pred)\n",
    "        fw.write(line)\n"
   ]
  },
  {
   "cell_type": "code",
   "execution_count": null,
   "id": "54f4c6a2-219b-4336-a709-34bbee6ad8d2",
   "metadata": {},
   "outputs": [],
   "source": [
    "trainDataset= pd.concat([x_train_clm, y_train_clm], axis=1)\n",
    "trainDataset.to_csv('trainDataset.csv')"
   ]
  },
  {
   "cell_type": "code",
   "execution_count": null,
   "id": "365b1cf0-1f92-46e9-9f0c-33eb4444bd90",
   "metadata": {
    "tags": []
   },
   "outputs": [],
   "source": [
    "trainDataset.columns, ValDataset.columns"
   ]
  },
  {
   "cell_type": "code",
   "execution_count": null,
   "id": "a94cda64-2487-4f95-a7cb-8d08b8e59239",
   "metadata": {
    "tags": []
   },
   "outputs": [],
   "source": [
    "pwd"
   ]
  },
  {
   "cell_type": "code",
   "execution_count": null,
   "id": "4cc09782-89ad-4271-b49d-6c3dcf2a701e",
   "metadata": {
    "tags": []
   },
   "outputs": [],
   "source": [
    "ValDataset= pd.concat([x_test_clm, y_test_clm], axis=1)\n",
    "ValDataset.to_csv('ValDataset.csv')"
   ]
  },
  {
   "cell_type": "code",
   "execution_count": null,
   "id": "f87ad0dd-fd3f-498d-8a88-4281b5818ce6",
   "metadata": {},
   "outputs": [],
   "source": []
  }
 ],
 "metadata": {
  "kernelspec": {
   "display_name": "Python 3 (ipykernel)",
   "language": "python",
   "name": "python3"
  },
  "language_info": {
   "codemirror_mode": {
    "name": "ipython",
    "version": 3
   },
   "file_extension": ".py",
   "mimetype": "text/x-python",
   "name": "python",
   "nbconvert_exporter": "python",
   "pygments_lexer": "ipython3",
   "version": "3.11.4"
  }
 },
 "nbformat": 4,
 "nbformat_minor": 5
}
